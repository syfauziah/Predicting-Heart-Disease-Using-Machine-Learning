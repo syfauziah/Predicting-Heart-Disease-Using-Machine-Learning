{
  "nbformat": 4,
  "nbformat_minor": 0,
  "metadata": {
    "colab": {
      "provenance": [],
      "toc_visible": true,
      "include_colab_link": true
    },
    "kernelspec": {
      "name": "python3",
      "display_name": "Python 3"
    },
    "language_info": {
      "name": "python"
    }
  },
  "cells": [
    {
      "cell_type": "markdown",
      "metadata": {
        "id": "view-in-github",
        "colab_type": "text"
      },
      "source": [
        "<a href=\"https://colab.research.google.com/github/syfauziah/Predicting-Heart-Disease-Using-Machine-Learning/blob/main/Predicting_Heart_Disease_Using_Machine_Learning.ipynb\" target=\"_parent\"><img src=\"https://colab.research.google.com/assets/colab-badge.svg\" alt=\"Open In Colab\"/></a>"
      ]
    },
    {
      "cell_type": "markdown",
      "source": [
        "# **Predicting Heart Disease Using Machine Learning**\n",
        "\n",
        "\n",
        "\n",
        "\n",
        "Heart disease prediction atau Program prediksi penyakit jantung adalah sebuah program berbasis data dan machine learning yang akan digarap oleh tim kami.\n",
        "\n",
        "Tujuannya adalah untuk membantu mendeteksi potensi risiko penyakit jantung pada pasien berdasarkan data kesehatan dan klinis.\n",
        "\n",
        "\n"
      ],
      "metadata": {
        "id": "JohUzRU227KF"
      }
    },
    {
      "cell_type": "markdown",
      "source": [
        "## **i.Pendahuluan**\n",
        "\n",
        "Machine Learning adalah sebuah bidang yang berkembang dengan cepat memanfaatkan berbagai pengklasifikasi seperti supervised, unsupervised, dan ensemble learning untuk mempelajari pola dari data, membuat prediksi yang akurat, dan membantu dalam pengambilan keputusan. Dengan kemampuan ini machine learning dapat diterapkan pada berbagai masalah, termasuk memprediksi kemungkinan penyakit jantung.\n",
        "\n",
        "Penyakit kardiovaskular sangat umum terjadi belakangan ini, penyakit ini menggambarkan berbagai kondisi yang dapat memengaruhi jantung seseorang. Organisasi kesehatan dunia (WHO) memperkirakan bahwa 17,9 juta kematian diseluruh dunia disebabkan oleh CVD.\n",
        "\n",
        "Proyek ini berfokus pada penggunaan tiga teknik data mining: Logistic Regression, K-Nearest Neighbors (KNN), dan Random Forest Classifier. Metode-metode ini menganalisis berbagai atribut medis seperti jenis kelamin, usia, jenis nyeri dada, kadar gula puasa, dll., untuk menentukan probabilitas seorang pasien terkena penyakit kardiovaskular."
      ],
      "metadata": {
        "id": "uwvkUTcC4Xoi"
      }
    },
    {
      "cell_type": "markdown",
      "source": [
        "## **ii.Referensi**\n",
        "\n",
        "\n",
        "\n",
        "\n",
        "\n",
        "\n",
        "\n",
        "\n",
        "\n",
        "\n",
        "Dalam proyek ini, terdapat dua referensi yang memiliki peran berbeda.\n",
        "\n",
        "Referensi utama memberikan penjelasan yang lebih umum mengenai alur, tahap, atribut, dan model yang akan digunakan dalam proyek klasifikasi penyakit jantung. Referensi ini memfokuskan pada gambaran besar proyek dan hubungan antara atribut-atribut yang digunakan dalam analisis.\n",
        "\n",
        "Di sisi lain, referensi tambahan lebih mendetail dan fokus pada bagaimana model akan dilatih, dievaluasi, dan ditingkatkan. Referensi ini mencakup aspek seperti pembagian data, penggunaan evaluation metrics, serta perbandingan berbagai metode Machine Learning yang digunakan dalam proyek.\n",
        "\n",
        "Dengan memadukan informasi dari kedua referensi ini, proyek klasifikasi penyakit jantung dapat dikembangkan dengan pemahaman yang lebih lengkap, mulai dari konsep dasar hingga detail teknis yang diperlukan untuk melatih, menguji, dan meningkatkan model.\n",
        "\n",
        "\n",
        "\n",
        "> * **[Referensi Utama](https://iopscience.iop.org/article/10.1088/1757-899X/1022/1/012072)**\n",
        "> * **[Referensi Tambahan](https://jurnal.untan.ac.id/index.php/jepin/article/view/480532)**\n",
        "\n",
        "\n",
        "\n",
        "\n"
      ],
      "metadata": {
        "id": "cnQFLKrD06sm"
      }
    },
    {
      "cell_type": "markdown",
      "source": [
        "\n",
        "## **Workflow / Alur Kerja:**\n",
        "\n",
        "![picture0](https://drive.google.com/uc?export=view&id=1oNuFRPNFryvTqnMyMyXM0d5RWTsOFRJ6)\n",
        "\n",
        "### 0. [Problem Definition](#scrollTo=1X_JoHE429ss)\n",
        "### 1. [Preparing the tools](#scrollTo=wJlHFNiQ29vV)\n",
        "### 2. [Load Data](#scrollTo=Qd8xf5bJ29x6)\n",
        "### 3. [Data Exploration](#scrollTo=qVoo_WuHq875)\n",
        "### 4. [Modeling](#scrollTo=-i_k5eSBzWRo)\n",
        "### 5. [Evaluation](#scrollTo=1tBOE7Vc2f2_)\n",
        "### 6. [Experimentation](#scrollTo=YzlJu5tx4B8s)\n",
        "\n",
        "\n",
        "\n"
      ],
      "metadata": {
        "id": "7Ido01hN480G"
      }
    },
    {
      "cell_type": "markdown",
      "source": [
        "## 0 - Problem Definition / Definisi Masalah\n",
        "\n",
        "\n",
        "---\n",
        "\n",
        "\n",
        "**Masalah** : Menggunakan machine learning untuk memprediksi apakah seseorang memiliki penyakit jantung atau tidak berdasarkan berbagai data medis yang tersedia.\n",
        "\n",
        "**Tujuan** : Membangun model machine learning yang dapat memprediksi apakah seseorang memiliki penyakit jantung berdasarkan berbagai faktor medis dan atribut yang ada.\n",
        "\n",
        "**Jenis Masalah** : Klasifikasi biner, di mana individu dapat diklasifikasikan sebagai \"Heart Disease\" (memiliki penyakit jantung) atau \"Not Heart Disease\" (tidak memiliki penyakit jantung)"
      ],
      "metadata": {
        "id": "1X_JoHE429ss"
      }
    },
    {
      "cell_type": "markdown",
      "source": [
        "## 1 - Preparing the tools\n",
        "\n",
        "---\n",
        "\n",
        "![picture1](https://drive.google.com/uc?export=view&id=1TY7uWQ7RmD3_ekSLvWsfZ2aL2MAcWI51)\n",
        "\n",
        "\n",
        "\n",
        "* [**Pandas**](https://pandas.pydata.org/): Library open source pada Python yang\n",
        "sering digunakan untuk memproses data yang\n",
        "meliputi pembersihan data, manipulasi data,\n",
        "hingga melakukan analisis data.\n",
        "\n",
        "* [**Numpy**](https://numpy.org/) : Library pada Python yang berfungsi\n",
        "melakukan proses komputasi numerik.\n",
        "\n",
        "* [**Matplotlib**](https://matplotlib.org/) / [**seaborn**](https://seaborn.pydata.org/) : Library pada Python yang digunakan\n",
        "untuk menciptakan visualisasi data dengan grafis\n",
        "yang menarik dan informatif.\n",
        "\n",
        "* [**Scikit-learn (sklearn)**](https://scikit-learn.org/stable/) : Sebuah library machine\n",
        "learning open-source yang popular di Python\n",
        "yang membantu melakukan processing data\n",
        "ataupun melakukan training data untuk\n",
        "kebutuhan machine learning atau data science.\n",
        "\n"
      ],
      "metadata": {
        "id": "wJlHFNiQ29vV"
      }
    },
    {
      "cell_type": "code",
      "source": [
        "# Import all the tools we need\n",
        "\n",
        "# Regular EDA (exploratory data analysis) and plotting libraries\n",
        "import numpy as np\n",
        "import pandas as pd\n",
        "import matplotlib.pyplot as plt\n",
        "import plotly.express as px\n",
        "import seaborn as sns\n",
        "\n",
        "# we want our plots to appear inside the notebook\n",
        "%matplotlib inline\n",
        "\n",
        "# Models from Scikit-Learn\n",
        "from sklearn.linear_model import LogisticRegression\n",
        "from sklearn.neighbors import KNeighborsClassifier\n",
        "from sklearn.ensemble import RandomForestClassifier\n",
        "\n",
        "# Model Evaluations\n",
        "from sklearn.preprocessing import StandardScaler\n",
        "from sklearn.model_selection import train_test_split, cross_val_score\n",
        "from sklearn.model_selection import  StratifiedKFold, cross_val_predict\n",
        "from sklearn.model_selection import RandomizedSearchCV, GridSearchCV\n",
        "from sklearn.metrics import confusion_matrix, classification_report\n",
        "from sklearn.metrics import precision_score, recall_score, f1_score\n",
        "from sklearn.metrics import RocCurveDisplay\n",
        "from tabulate import tabulate\n"
      ],
      "metadata": {
        "id": "_zS4-anw3LVg"
      },
      "execution_count": null,
      "outputs": []
    },
    {
      "cell_type": "markdown",
      "source": [
        "## 2 - Load Data\n",
        "\n",
        "\n",
        "---\n",
        "\n",
        "![picture2](https://drive.google.com/uc?export=view&id=1kZh1ydNYYfXB3HlsaJppVgqZdSdQ7mDK)\n",
        "\n",
        "Berikut adalah link dari dataset yang akan digunakan:\n",
        "\n",
        "https://www.kaggle.com/datasets/cherngs/heart-disease-cleveland-uci\n",
        "\n",
        "Dataset yang akan digunakan dalam proyek ini merupakan dataset medis yang awalnya berasal dari [UCI Machine Learning Repository](https://archive.ics.uci.edu/). Dataset ini mencakup berbagai atribut medis, termasuk jenis kelamin, usia, gejala nyeri dada, kadar gula darah saat puasa, tekanan darah, dan atribut lainnya. Dataset ini kemudian diunggah ke platform [Kaggle](https://www.kaggle.com/) untuk akses yang lebih luas dan analisis lebih lanjut."
      ],
      "metadata": {
        "id": "Qd8xf5bJ29x6"
      }
    },
    {
      "cell_type": "code",
      "source": [
        "df = pd.read_csv(\"/content/heart_cleveland_upload.csv\")\n",
        "df.shape"
      ],
      "metadata": {
        "id": "Jobe02o44w5O",
        "colab": {
          "base_uri": "https://localhost:8080/"
        },
        "outputId": "751f74af-ff5f-4195-d59a-cb7542e8fdbf"
      },
      "execution_count": null,
      "outputs": [
        {
          "output_type": "execute_result",
          "data": {
            "text/plain": [
              "(297, 14)"
            ]
          },
          "metadata": {},
          "execution_count": 2
        }
      ]
    },
    {
      "cell_type": "markdown",
      "source": [],
      "metadata": {
        "id": "6-Ot-GKg_k1Z"
      }
    },
    {
      "cell_type": "code",
      "source": [
        "df.columns"
      ],
      "metadata": {
        "colab": {
          "base_uri": "https://localhost:8080/"
        },
        "id": "9Wp2-qJzplfu",
        "outputId": "e7a4f489-0748-4f36-cb52-1e1a76c141f3"
      },
      "execution_count": null,
      "outputs": [
        {
          "output_type": "execute_result",
          "data": {
            "text/plain": [
              "Index(['age', 'sex', 'cp', 'trestbps', 'chol', 'fbs', 'restecg', 'thalach',\n",
              "       'exang', 'oldpeak', 'slope', 'ca', 'thal', 'condition'],\n",
              "      dtype='object')"
            ]
          },
          "metadata": {},
          "execution_count": 3
        }
      ]
    },
    {
      "cell_type": "markdown",
      "source": [
        "\n",
        "\n",
        "### Heart Disease Data Dictionary:\n",
        "1. age: usia dalam tahun\n",
        "2. sex: jenis kelamin (1 = laki-laki; 0 = perempuan)\n",
        "3. cp: chest pain type / jenis nyeri dada\n",
        "  * Value 0: typical angina\n",
        "    *  angina tipikal: (Angina pectoris tipikal meliputi keluhan rasa seperti berat, ditusuk, rasa terbakar, panas atau terktekan di daerah retrosternal menjalar hingga ke lengan kiri, leher, rahang, interskapula atau daerah epigastrium.)\n",
        "  * Value 1: atypical angina\n",
        "    * angina atipikal: (Nyeri dada tidak stabil terkadang bersifat atipikal atau sering disebut Angina Ekuivalen yaitu rasa tidak nyaman di dada yan sulit dijelaskan, atau sesak napas atau keluhan lemah yang mendadak yang dapat disertai gejala diaphoresis (keringat dingin) )\n",
        "  * Value 2: non-anginal pain\n",
        "    * nyeri non-angina: (Nyeri dada nonangina adalah gejala umum dari berbagai kondisi, mulai dari masalah pencernaan hingga kondisi kejiwaan. Nyeri ini mungkin terasa seperti tekanan atau rasa sakit yang menekan di belakang tulang dada.)\n",
        "  * Value 3: asymptomatic\n",
        "    * tanpa gejala\n",
        "4. trestbps(resting blood preasure): tekanan darah istirahat (dalam mmHg saat masuk ke rumah sakit)\n",
        "5. chol (cholesterol): kolesterol serum dalam mg/dl\n",
        "6. fbs (fasting blood sugar):(gula darah puasa > 120 mg/dl) (1 = benar; 0 = salah)\n",
        "7. restecg(Hasil elektrokardiografi): resting electrocardiographic results\n",
        "  * Value 0: normal\n",
        "  * Value 1: memiliki kelainan gelombang ST-T (inversi gelombang T dan/atau elevasi atau depresi ST > 0,05 mV)\n",
        "  * Value 2: menunjukkan hipertrofi ventrikel kiri yang mungkin atau pasti berdasarkan kriteria Estes\n",
        "8. thalach: denyut jantung maksimum yang dicapai\n",
        "9. exang (exercise induced angina): angina yang diinduksi oleh olahraga (1 = ya; 0 = tidak)\n",
        "10. oldpeak = depresi ST yang disebabkan oleh olahrga relatif terhadap istirahat\n",
        "11. slope: Kemiringian segmen ST latihan puncak\n",
        "  * Value 0: upsloping/miring\n",
        "  * Value 1: flat/datar\n",
        "  * Value 2: downsloping/miring\n",
        "12. ca(calculate artery): jumlah pembuluh darah utama(0-3) yang diwarnai dengan flourosopi\n",
        "13. thal: 0 = normal; 1 = fixed defect/ cacat tetap; 2 = reversable defect\n",
        "and the label/cacat yang dapat dibalikan dan label\n",
        "\n",
        "14. condition: 0 = no disease, 1 = disease\n"
      ],
      "metadata": {
        "id": "6Cm2jiHbp3DP"
      }
    },
    {
      "cell_type": "markdown",
      "source": [
        "## 3 - Data Exploration (Exploratory data analysis or EDA)\n",
        "\n",
        "\n",
        "---\n",
        "\n",
        "\n",
        "Menganalisis dataset untuk\n",
        "memahami karakteristik data dengan\n",
        "menvisualisasikan data,\n",
        "mengidentifikasi pola dan\n",
        "menemukan informasi penting dalam\n",
        "data yang dapat membantu untuk\n",
        "memahami lebih dalam tentang\n",
        "dataset tersebut."
      ],
      "metadata": {
        "id": "qVoo_WuHq875"
      }
    },
    {
      "cell_type": "markdown",
      "source": [
        "### 3.1 - Initial Dataset Exploration for Heart Disease Analysis"
      ],
      "metadata": {
        "id": "jSnTqYP6qV4D"
      }
    },
    {
      "cell_type": "markdown",
      "source": [
        "#### 3.1.1 - The First 10 rows of the DataFrame\n",
        " > `df.head(10)` berfungsi untuk menampilkan sepuluh baris pertama dari dataset untuk mendapatkan gambaran awal tentang struktur dan nilai-nilai dalam dataset tersebut. Ini membantu dalam eksplorasi awal dan pemahaman tentang konten dari DataFrame.\n",
        "\n",
        "\n",
        "\n"
      ],
      "metadata": {
        "id": "5h51mWjTF4t7"
      }
    },
    {
      "cell_type": "code",
      "source": [
        "df.head(10)"
      ],
      "metadata": {
        "colab": {
          "base_uri": "https://localhost:8080/",
          "height": 141
        },
        "id": "Wq1Z67qL9JiI",
        "outputId": "f68f027c-7f5d-43d3-d5a7-cb23db07dc00"
      },
      "execution_count": null,
      "outputs": [
        {
          "output_type": "error",
          "ename": "NameError",
          "evalue": "name 'df' is not defined",
          "traceback": [
            "\u001b[0;31m---------------------------------------------------------------------------\u001b[0m",
            "\u001b[0;31mNameError\u001b[0m                                 Traceback (most recent call last)",
            "\u001b[0;32m<ipython-input-1-4a676c3d8c05>\u001b[0m in \u001b[0;36m<cell line: 0>\u001b[0;34m()\u001b[0m\n\u001b[0;32m----> 1\u001b[0;31m \u001b[0mdf\u001b[0m\u001b[0;34m.\u001b[0m\u001b[0mhead\u001b[0m\u001b[0;34m(\u001b[0m\u001b[0;36m10\u001b[0m\u001b[0;34m)\u001b[0m\u001b[0;34m\u001b[0m\u001b[0;34m\u001b[0m\u001b[0m\n\u001b[0m",
            "\u001b[0;31mNameError\u001b[0m: name 'df' is not defined"
          ]
        }
      ]
    },
    {
      "cell_type": "markdown",
      "source": [
        "#### 3.1.2 The Last 10 rows of the DataFrame\n",
        "\n",
        " > `df.tail(10)` berfungsi untuk menampilkan sepuluh baris akhir dari dataset untuk mendapatkan gambaran  tentang data paling akhir dari Data Frame.\n"
      ],
      "metadata": {
        "id": "WfHSHycOGi9o"
      }
    },
    {
      "cell_type": "code",
      "source": [
        "df.tail(10)"
      ],
      "metadata": {
        "id": "FBtQc1IG9Vcs"
      },
      "execution_count": null,
      "outputs": []
    },
    {
      "cell_type": "markdown",
      "source": [
        "#### 3.1.3 Random Sampling of 10 Rows from the Dataset\n",
        "> `df.sample(10)` digunakan untuk memilih secara acak memilih 10 baris dari DataFrame."
      ],
      "metadata": {
        "id": "rfkmd0CEJPzT"
      }
    },
    {
      "cell_type": "code",
      "source": [
        "df.sample(10)"
      ],
      "metadata": {
        "id": "0ylEHCJ4q29w"
      },
      "execution_count": null,
      "outputs": []
    },
    {
      "cell_type": "markdown",
      "source": [
        "#### 3.1.4 Overview of the DataFrame\n",
        "`df.info()` adalah perintah dalam pandas untuk memberikan informasi ringkas tentang DataFrame.\n"
      ],
      "metadata": {
        "id": "Y_CQLE7dKDz-"
      }
    },
    {
      "cell_type": "code",
      "source": [
        "df.info()"
      ],
      "metadata": {
        "id": "L8T6jI1ZsrvC"
      },
      "execution_count": null,
      "outputs": []
    },
    {
      "cell_type": "markdown",
      "source": [
        "\n",
        "\n",
        "> Penjelasan Output:\n",
        " * RangeIndex: Menunjukkan rentang indeks dari DataFrame, biasanya dimulai dari 0 dan berakhir pada jumlah total baris dikurangi satu.\n",
        " * Data Columns (Total Columns): Menampilkan daftar semua kolom dalam DataFrame beserta jumlah total kolom.\n",
        " * Non-Null Count: Untuk setiap kolom, menunjukkan jumlah non-null (nilai yang tidak kosong). Hal ini membantu mengidentifikasi apakah ada nilai yang hilang.\n",
        " * Dtype: Tipe data dari setiap kolom. Ini memberikan informasi tentang apakah kolom tersebut berisi data numerik, string, tanggal, atau jenis data lainnya.\n",
        " * Memory Usage: Memberikan perkiraan penggunaan memori oleh DataFrame."
      ],
      "metadata": {
        "id": "WSEcN4TzEDZQ"
      }
    },
    {
      "cell_type": "markdown",
      "source": [
        "#### 3.1.5 Identifying and Counting Missing Values in Each Column of a DataFrame\n",
        "`df.isna().sum()` digunakan untuk menghitung jumlah nilai yang hilang (NaN/null) dalam setiap kolom dari DataFrame `df`\n"
      ],
      "metadata": {
        "id": "D579AEZ331eU"
      }
    },
    {
      "cell_type": "code",
      "source": [
        "df.isna().sum()"
      ],
      "metadata": {
        "id": "EnBuAmAtrNBA"
      },
      "execution_count": null,
      "outputs": []
    },
    {
      "cell_type": "markdown",
      "source": [
        "\n",
        "\n",
        "> Dari output diatas dapat disimpulkan  bahwa tidak ada nilai yang hilang di dalam kolom mana pun. Setiap kolom menunjukkan jumlah nol, menandakan bahwa dataset tersebut lengkap tanpa adanya nilai null atau NaN, ini menunjukan bahwa dataset sudah terisi penuh, memungkinkan analisis yang komprehensif tanpa perlu imputasi data atau penanganan nilai yang hilang.\n",
        "\n"
      ],
      "metadata": {
        "id": "9FIcjySD9Unl"
      }
    },
    {
      "cell_type": "markdown",
      "source": [
        "#### 3.1.6 Descriptive Statistical Summary of the DataFrame\n",
        "\n",
        "`df.describe()` adalah sebuah fungsi dalam pandas yang memberikan ringkasan statistik deskriptif dari DataFrame"
      ],
      "metadata": {
        "id": "UlbNkwOy8hRv"
      }
    },
    {
      "cell_type": "code",
      "source": [
        "df.describe()"
      ],
      "metadata": {
        "id": "HU5XEyG3sweU"
      },
      "execution_count": null,
      "outputs": []
    },
    {
      "cell_type": "markdown",
      "source": [
        "\n",
        "\n",
        "\n",
        "\n",
        "> * Count: Jumlah entri/non-null data setiap data kolom.\n",
        "* Mean: Rata-rata aritmatika dari nilai dalam kolom.\n",
        "* Std(Standard Deviaton): Deviasi standar dari nilai dalam kolom.\n",
        "* Min: Nilai terkecil dalam kolom.\n",
        "* 25th Percentile(Q1): Nilai dimana 25% data terendah berada (kuartil pertama).\n",
        "* 50th Percentile(Median/Q2): Nilai tengah dari data (median) atau kuartil kedua.\n",
        "* 75th Percentile(Q3): Nialia dimana 75 data terendah berada(kuartil ketiga).\n",
        "* Max: Nilai terbesar dalam kolom.\n",
        "\n",
        "\n",
        "\n",
        "\n"
      ],
      "metadata": {
        "id": "hEfsUUdN6YUp"
      }
    },
    {
      "cell_type": "markdown",
      "source": [
        "#### 3.1.7 Outliers\n"
      ],
      "metadata": {
        "id": "Ky3zQtTEuH64"
      }
    },
    {
      "cell_type": "markdown",
      "source": [
        "### 3.2 - Prevalence of Heart Disease Cases in the Dataset"
      ],
      "metadata": {
        "id": "MFOhrwRPso2a"
      }
    },
    {
      "cell_type": "code",
      "source": [
        "df.condition.value_counts()"
      ],
      "metadata": {
        "id": "pSTT1IPq9eok"
      },
      "execution_count": null,
      "outputs": []
    },
    {
      "cell_type": "code",
      "source": [
        "df.condition.value_counts(normalize=True)"
      ],
      "metadata": {
        "id": "5E5FSBPCrP5j"
      },
      "execution_count": null,
      "outputs": []
    },
    {
      "cell_type": "code",
      "source": [
        "df.condition.value_counts().plot(kind=\"bar\", color=[\"salmon\",\"lightblue\" ])\n",
        "plt.xticks([0, 1], [\"Non-Heart Disease\", \"Heart Disease\"], rotation=0)\n",
        "\n",
        "plt.title(\"Distribution of Non-Heart Disease vs. Heart Disease Cases\")\n",
        "plt.xlabel(\"Condition\")\n",
        "plt.ylabel(\"Count\")\n",
        "\n",
        "plt.show()"
      ],
      "metadata": {
        "id": "vT6O2v63tClQ"
      },
      "execution_count": null,
      "outputs": []
    },
    {
      "cell_type": "markdown",
      "source": [
        "### 3.3 - Heart Disease Frequency according to Gender"
      ],
      "metadata": {
        "id": "dyNa3JfAyGkC"
      }
    },
    {
      "cell_type": "code",
      "source": [
        "df.sex.value_counts()"
      ],
      "metadata": {
        "id": "c0d_rsrryEqH"
      },
      "execution_count": null,
      "outputs": []
    },
    {
      "cell_type": "code",
      "source": [
        "crosstab = pd.crosstab(df.condition, df.sex)\n",
        "\n",
        "crosstab.index = [\"Non-Heart Disease\", \"Heart Disease\"]\n",
        "crosstab.columns = [\"Female\", \"Male\"]\n",
        "crosstab"
      ],
      "metadata": {
        "id": "1E126HMByHvG"
      },
      "execution_count": null,
      "outputs": []
    },
    {
      "cell_type": "code",
      "source": [
        "crosstab.plot(kind=\"bar\", figsize=(10,6), color=[\"salmon\", \"lightblue\"])\n",
        "plt.xticks(rotation=0);"
      ],
      "metadata": {
        "id": "hi2tGv3iyS22"
      },
      "execution_count": null,
      "outputs": []
    },
    {
      "cell_type": "markdown",
      "source": [
        "### 3.4 - Distribution of Age in the Dataset"
      ],
      "metadata": {
        "id": "EmlMQ3JPUQRD"
      }
    },
    {
      "cell_type": "code",
      "source": [
        "\n",
        "sns.set_style(\"whitegrid\")\n",
        "\n",
        "plt.figure(figsize=(10,6))\n",
        "sns.histplot(data=df['age'], alpha=0.6, color= \"lightblue\")\n",
        "\n",
        "mean_age = df[\"age\"].mean()\n",
        "plt.axvline(mean_age, color=\"red\")\n",
        "plt.text(mean_age - 12, 42, f\"Mean age: {round(mean_age, 1)}\",\n",
        "         color=\"indianred\", weight=\"bold\", size=\"large\",\n",
        "         bbox=dict(boxstyle=\"round\", color=\"rosybrown\"))\n",
        "\n",
        "plt.title(\"Distribution of Age in Dataset\")\n",
        "plt.xlabel(\"Age\")\n",
        "plt.ylabel(\"Count\")\n",
        "\n",
        "plt.show()\n"
      ],
      "metadata": {
        "id": "YOgU0nuh6Xmh"
      },
      "execution_count": null,
      "outputs": []
    },
    {
      "cell_type": "markdown",
      "source": [
        "#### 3.4.1 - Correlation Between Age and Max Heart Rate in Heart Disease Analysis\n"
      ],
      "metadata": {
        "id": "AOpn5sWq3mdP"
      }
    },
    {
      "cell_type": "code",
      "source": [
        "sns.set_style(\"whitegrid\")\n",
        "\n",
        "plt.figure(figsize=(10,6))\n",
        "plt.scatter(df.age[df.condition==1],\n",
        "            df.thalach[df.condition==1],\n",
        "            c=\"salmon\")\n",
        "\n",
        "plt.scatter(df.age[df.condition==0],\n",
        "            df.thalach[df.condition==0],\n",
        "            c=\"lightblue\")\n",
        "\n",
        "plt.title(\"Heart Disease in function of Age and Max Heart Rate\")\n",
        "plt.xlabel(\"Age\")\n",
        "plt.ylabel(\"Max Heart Rate\")\n",
        "plt.legend([\"Heart Disease\", \"Non-Heart Disease\"]);"
      ],
      "metadata": {
        "id": "DHC2o8Gz1kIF"
      },
      "execution_count": null,
      "outputs": []
    },
    {
      "cell_type": "markdown",
      "source": [
        "#### 3.4.2 - Correlation Between Age and Serum Cholesterol in Heart Disease Analysis"
      ],
      "metadata": {
        "id": "kJvX6Jg2V8rs"
      }
    },
    {
      "cell_type": "code",
      "source": [
        "sns.set_style(\"whitegrid\")\n",
        "\n",
        "plt.figure(figsize=(10,6))\n",
        "plt.scatter(df.age[df.condition==1],\n",
        "            df.chol[df.condition==1],\n",
        "            c=\"salmon\")\n",
        "\n",
        "plt.scatter(df.age[df.condition==0],\n",
        "            df.chol[df.condition==0],\n",
        "            c=\"lightblue\")\n",
        "\n",
        "plt.title(\"Heart Disease in function of Age and Serum Cholesterol (mg/dL)\")\n",
        "plt.xlabel(\"Age\")\n",
        "plt.ylabel(\"Serum Cholesterol in mg/dL\")\n",
        "plt.legend([\"Heart Disease\", \"Non-Heart Disease\"]);"
      ],
      "metadata": {
        "id": "fqAuYYHxWZem"
      },
      "execution_count": null,
      "outputs": []
    },
    {
      "cell_type": "markdown",
      "source": [
        "#### 3.4.3 Correlation Between Age vand Resting Blood Pressure in Heart Disease Analysis"
      ],
      "metadata": {
        "id": "tcmS4Ngtuyri"
      }
    },
    {
      "cell_type": "code",
      "source": [
        "sns.set_style(\"whitegrid\")\n",
        "\n",
        "plt.figure(figsize=(10,6))\n",
        "plt.scatter(df.age[df.condition==1],\n",
        "            df.trestbps[df.condition==1],\n",
        "            c=\"salmon\")\n",
        "\n",
        "plt.scatter(df.age[df.condition==0],\n",
        "            df.trestbps[df.condition==0],\n",
        "            c=\"lightblue\")\n",
        "\n",
        "plt.title(\"Heart Disease in function of Age and Resting Blood Pressure\")\n",
        "plt.xlabel(\"Age\")\n",
        "plt.ylabel(\"Resting Blood Pressure\")\n",
        "plt.legend([\"Heart Disease\", \"Non-Heart Disease\"]);"
      ],
      "metadata": {
        "id": "faUUtmFtvOXh"
      },
      "execution_count": null,
      "outputs": []
    },
    {
      "cell_type": "markdown",
      "source": [
        "### 3.5 - Heart Disease Frequency per Chest Pain Type\n",
        "\n",
        "\n",
        "\n",
        "\n"
      ],
      "metadata": {
        "id": "3XVbd-c2Dqvl"
      }
    },
    {
      "cell_type": "code",
      "source": [
        "crosstab2 = pd.crosstab(df.cp, df.condition)\n",
        "crosstab2.index = [\"typical angina\", \"atypical angina\", \"non-anginal pain\", \"asymptomatic\"]\n",
        "crosstab2.columns = [\"Non-Heart Disease\", \"Heart Disease\"]\n",
        "crosstab2"
      ],
      "metadata": {
        "id": "xKSc62gUDpjZ"
      },
      "execution_count": null,
      "outputs": []
    },
    {
      "cell_type": "code",
      "source": [
        "sns.set_style(\"whitegrid\")\n",
        "\n",
        "crosstab2.plot(kind=\"bar\",\n",
        "               figsize=(10,6),\n",
        "               color=[\"lightblue\", \"salmon\"])\n",
        "\n",
        "plt.title(\"Heart Disease Frequency Per Chest Pain Type\")\n",
        "plt.xlabel(\"Chest Pain Type\")\n",
        "plt.ylabel(\"Count\")\n",
        "plt.legend([\"Non-Heart Disease\", \"Heart Disease\"])\n",
        "plt.xticks(rotation=0);"
      ],
      "metadata": {
        "id": "-ec7gmi0EVhz"
      },
      "execution_count": null,
      "outputs": []
    },
    {
      "cell_type": "markdown",
      "source": [
        "### 3.6 - Visualizing Data Relationships: Creating a Correlation Matrix\n"
      ],
      "metadata": {
        "id": "JpZOGItTx8jK"
      }
    },
    {
      "cell_type": "code",
      "source": [
        "corr_matrix = df.corr()\n",
        "corr_matrix"
      ],
      "metadata": {
        "id": "bWUnSfcsyDuq"
      },
      "execution_count": null,
      "outputs": []
    },
    {
      "cell_type": "code",
      "source": [
        "plt.figure(figsize=(15, 10))\n",
        "sns.heatmap(corr_matrix,\n",
        "            annot = True,\n",
        "            linewidths=0.5,\n",
        "            fmt=\".2f\",\n",
        "            cmap=\"YlGnBu\");"
      ],
      "metadata": {
        "colab": {
          "base_uri": "https://localhost:8080/",
          "height": 211
        },
        "id": "t-h7_2xgyGTT",
        "outputId": "41a02321-b106-45b5-a6e8-6e5fd6d96f76"
      },
      "execution_count": null,
      "outputs": [
        {
          "output_type": "error",
          "ename": "NameError",
          "evalue": "name 'plt' is not defined",
          "traceback": [
            "\u001b[0;31m---------------------------------------------------------------------------\u001b[0m",
            "\u001b[0;31mNameError\u001b[0m                                 Traceback (most recent call last)",
            "\u001b[0;32m<ipython-input-2-c39a92c4d5be>\u001b[0m in \u001b[0;36m<cell line: 0>\u001b[0;34m()\u001b[0m\n\u001b[0;32m----> 1\u001b[0;31m \u001b[0mplt\u001b[0m\u001b[0;34m.\u001b[0m\u001b[0mfigure\u001b[0m\u001b[0;34m(\u001b[0m\u001b[0mfigsize\u001b[0m\u001b[0;34m=\u001b[0m\u001b[0;34m(\u001b[0m\u001b[0;36m15\u001b[0m\u001b[0;34m,\u001b[0m \u001b[0;36m10\u001b[0m\u001b[0;34m)\u001b[0m\u001b[0;34m)\u001b[0m\u001b[0;34m\u001b[0m\u001b[0;34m\u001b[0m\u001b[0m\n\u001b[0m\u001b[1;32m      2\u001b[0m sns.heatmap(corr_matrix,\n\u001b[1;32m      3\u001b[0m             \u001b[0mannot\u001b[0m \u001b[0;34m=\u001b[0m \u001b[0;32mTrue\u001b[0m\u001b[0;34m,\u001b[0m\u001b[0;34m\u001b[0m\u001b[0;34m\u001b[0m\u001b[0m\n\u001b[1;32m      4\u001b[0m             \u001b[0mlinewidths\u001b[0m\u001b[0;34m=\u001b[0m\u001b[0;36m0.5\u001b[0m\u001b[0;34m,\u001b[0m\u001b[0;34m\u001b[0m\u001b[0;34m\u001b[0m\u001b[0m\n\u001b[1;32m      5\u001b[0m             \u001b[0mfmt\u001b[0m\u001b[0;34m=\u001b[0m\u001b[0;34m\".2f\"\u001b[0m\u001b[0;34m,\u001b[0m\u001b[0;34m\u001b[0m\u001b[0;34m\u001b[0m\u001b[0m\n",
            "\u001b[0;31mNameError\u001b[0m: name 'plt' is not defined"
          ]
        }
      ]
    },
    {
      "cell_type": "markdown",
      "source": [
        "## 4 - Modeling\n",
        "\n",
        "---\n",
        "\n",
        "Modelling dalam konteks machine learning merupakan tahap penting dalam pengembangan sistem prediktif.\n",
        "\n",
        "Pada tahap ini, algoritma yang sesuai dipilih untuk memodelkan hubungan antara **fitur** dan **target** dalam dataset.\n",
        "\n",
        "Dataset dibagi menjadi dua bagian: **training** dan **test**.\n",
        "\n",
        "Model dilatih menggunakan dataset training untuk memahami pola dan variabilitas dalam data. Setelah pelatihan, model diuji pada dataset test untuk mengevaluasi kemampuannya dalam membuat prediksi akurat pada data yang belum pernah dilihat sebelumnya.\n",
        "\n",
        "Proses ini melibatkan penyetelan parameter dan evaluasi kinerja model untuk memastikan generalisasi yang baik pada situasi dunia nyata. Model yang optimal kemudian disimpan untuk penggunaan masa depan. Tahap modelling memainkan peran kunci dalam membentuk prediksi yang andal dan memahami pola yang tersembunyi dalam data.\n",
        "\n"
      ],
      "metadata": {
        "id": "-i_k5eSBzWRo"
      }
    },
    {
      "cell_type": "markdown",
      "source": [
        "#### 4.1 - Full Dataset\n",
        "\n",
        "![picture3](https://drive.google.com/uc?export=view&id=11Phs6AL7MR-S2adfoyRfxVPRDV06iyrD)"
      ],
      "metadata": {
        "id": "FGe5ouvqOnSK"
      }
    },
    {
      "cell_type": "code",
      "source": [
        "df"
      ],
      "metadata": {
        "id": "LzGGi3G_zcwx",
        "colab": {
          "base_uri": "https://localhost:8080/",
          "height": 424
        },
        "outputId": "2117ae48-e6eb-48ec-da17-942b27a2c9f7"
      },
      "execution_count": null,
      "outputs": [
        {
          "output_type": "execute_result",
          "data": {
            "text/plain": [
              "     age  sex  cp  trestbps  chol  fbs  restecg  thalach  exang  oldpeak  \\\n",
              "0     69    1   0       160   234    1        2      131      0      0.1   \n",
              "1     69    0   0       140   239    0        0      151      0      1.8   \n",
              "2     66    0   0       150   226    0        0      114      0      2.6   \n",
              "3     65    1   0       138   282    1        2      174      0      1.4   \n",
              "4     64    1   0       110   211    0        2      144      1      1.8   \n",
              "..   ...  ...  ..       ...   ...  ...      ...      ...    ...      ...   \n",
              "292   40    1   3       152   223    0        0      181      0      0.0   \n",
              "293   39    1   3       118   219    0        0      140      0      1.2   \n",
              "294   35    1   3       120   198    0        0      130      1      1.6   \n",
              "295   35    0   3       138   183    0        0      182      0      1.4   \n",
              "296   35    1   3       126   282    0        2      156      1      0.0   \n",
              "\n",
              "     slope  ca  thal  condition  \n",
              "0        1   1     0          0  \n",
              "1        0   2     0          0  \n",
              "2        2   0     0          0  \n",
              "3        1   1     0          1  \n",
              "4        1   0     0          0  \n",
              "..     ...  ..   ...        ...  \n",
              "292      0   0     2          1  \n",
              "293      1   0     2          1  \n",
              "294      1   0     2          1  \n",
              "295      0   0     0          0  \n",
              "296      0   0     2          1  \n",
              "\n",
              "[297 rows x 14 columns]"
            ],
            "text/html": [
              "\n",
              "  <div id=\"df-c50880b9-c65c-452b-a6f5-51ba08d0400e\" class=\"colab-df-container\">\n",
              "    <div>\n",
              "<style scoped>\n",
              "    .dataframe tbody tr th:only-of-type {\n",
              "        vertical-align: middle;\n",
              "    }\n",
              "\n",
              "    .dataframe tbody tr th {\n",
              "        vertical-align: top;\n",
              "    }\n",
              "\n",
              "    .dataframe thead th {\n",
              "        text-align: right;\n",
              "    }\n",
              "</style>\n",
              "<table border=\"1\" class=\"dataframe\">\n",
              "  <thead>\n",
              "    <tr style=\"text-align: right;\">\n",
              "      <th></th>\n",
              "      <th>age</th>\n",
              "      <th>sex</th>\n",
              "      <th>cp</th>\n",
              "      <th>trestbps</th>\n",
              "      <th>chol</th>\n",
              "      <th>fbs</th>\n",
              "      <th>restecg</th>\n",
              "      <th>thalach</th>\n",
              "      <th>exang</th>\n",
              "      <th>oldpeak</th>\n",
              "      <th>slope</th>\n",
              "      <th>ca</th>\n",
              "      <th>thal</th>\n",
              "      <th>condition</th>\n",
              "    </tr>\n",
              "  </thead>\n",
              "  <tbody>\n",
              "    <tr>\n",
              "      <th>0</th>\n",
              "      <td>69</td>\n",
              "      <td>1</td>\n",
              "      <td>0</td>\n",
              "      <td>160</td>\n",
              "      <td>234</td>\n",
              "      <td>1</td>\n",
              "      <td>2</td>\n",
              "      <td>131</td>\n",
              "      <td>0</td>\n",
              "      <td>0.1</td>\n",
              "      <td>1</td>\n",
              "      <td>1</td>\n",
              "      <td>0</td>\n",
              "      <td>0</td>\n",
              "    </tr>\n",
              "    <tr>\n",
              "      <th>1</th>\n",
              "      <td>69</td>\n",
              "      <td>0</td>\n",
              "      <td>0</td>\n",
              "      <td>140</td>\n",
              "      <td>239</td>\n",
              "      <td>0</td>\n",
              "      <td>0</td>\n",
              "      <td>151</td>\n",
              "      <td>0</td>\n",
              "      <td>1.8</td>\n",
              "      <td>0</td>\n",
              "      <td>2</td>\n",
              "      <td>0</td>\n",
              "      <td>0</td>\n",
              "    </tr>\n",
              "    <tr>\n",
              "      <th>2</th>\n",
              "      <td>66</td>\n",
              "      <td>0</td>\n",
              "      <td>0</td>\n",
              "      <td>150</td>\n",
              "      <td>226</td>\n",
              "      <td>0</td>\n",
              "      <td>0</td>\n",
              "      <td>114</td>\n",
              "      <td>0</td>\n",
              "      <td>2.6</td>\n",
              "      <td>2</td>\n",
              "      <td>0</td>\n",
              "      <td>0</td>\n",
              "      <td>0</td>\n",
              "    </tr>\n",
              "    <tr>\n",
              "      <th>3</th>\n",
              "      <td>65</td>\n",
              "      <td>1</td>\n",
              "      <td>0</td>\n",
              "      <td>138</td>\n",
              "      <td>282</td>\n",
              "      <td>1</td>\n",
              "      <td>2</td>\n",
              "      <td>174</td>\n",
              "      <td>0</td>\n",
              "      <td>1.4</td>\n",
              "      <td>1</td>\n",
              "      <td>1</td>\n",
              "      <td>0</td>\n",
              "      <td>1</td>\n",
              "    </tr>\n",
              "    <tr>\n",
              "      <th>4</th>\n",
              "      <td>64</td>\n",
              "      <td>1</td>\n",
              "      <td>0</td>\n",
              "      <td>110</td>\n",
              "      <td>211</td>\n",
              "      <td>0</td>\n",
              "      <td>2</td>\n",
              "      <td>144</td>\n",
              "      <td>1</td>\n",
              "      <td>1.8</td>\n",
              "      <td>1</td>\n",
              "      <td>0</td>\n",
              "      <td>0</td>\n",
              "      <td>0</td>\n",
              "    </tr>\n",
              "    <tr>\n",
              "      <th>...</th>\n",
              "      <td>...</td>\n",
              "      <td>...</td>\n",
              "      <td>...</td>\n",
              "      <td>...</td>\n",
              "      <td>...</td>\n",
              "      <td>...</td>\n",
              "      <td>...</td>\n",
              "      <td>...</td>\n",
              "      <td>...</td>\n",
              "      <td>...</td>\n",
              "      <td>...</td>\n",
              "      <td>...</td>\n",
              "      <td>...</td>\n",
              "      <td>...</td>\n",
              "    </tr>\n",
              "    <tr>\n",
              "      <th>292</th>\n",
              "      <td>40</td>\n",
              "      <td>1</td>\n",
              "      <td>3</td>\n",
              "      <td>152</td>\n",
              "      <td>223</td>\n",
              "      <td>0</td>\n",
              "      <td>0</td>\n",
              "      <td>181</td>\n",
              "      <td>0</td>\n",
              "      <td>0.0</td>\n",
              "      <td>0</td>\n",
              "      <td>0</td>\n",
              "      <td>2</td>\n",
              "      <td>1</td>\n",
              "    </tr>\n",
              "    <tr>\n",
              "      <th>293</th>\n",
              "      <td>39</td>\n",
              "      <td>1</td>\n",
              "      <td>3</td>\n",
              "      <td>118</td>\n",
              "      <td>219</td>\n",
              "      <td>0</td>\n",
              "      <td>0</td>\n",
              "      <td>140</td>\n",
              "      <td>0</td>\n",
              "      <td>1.2</td>\n",
              "      <td>1</td>\n",
              "      <td>0</td>\n",
              "      <td>2</td>\n",
              "      <td>1</td>\n",
              "    </tr>\n",
              "    <tr>\n",
              "      <th>294</th>\n",
              "      <td>35</td>\n",
              "      <td>1</td>\n",
              "      <td>3</td>\n",
              "      <td>120</td>\n",
              "      <td>198</td>\n",
              "      <td>0</td>\n",
              "      <td>0</td>\n",
              "      <td>130</td>\n",
              "      <td>1</td>\n",
              "      <td>1.6</td>\n",
              "      <td>1</td>\n",
              "      <td>0</td>\n",
              "      <td>2</td>\n",
              "      <td>1</td>\n",
              "    </tr>\n",
              "    <tr>\n",
              "      <th>295</th>\n",
              "      <td>35</td>\n",
              "      <td>0</td>\n",
              "      <td>3</td>\n",
              "      <td>138</td>\n",
              "      <td>183</td>\n",
              "      <td>0</td>\n",
              "      <td>0</td>\n",
              "      <td>182</td>\n",
              "      <td>0</td>\n",
              "      <td>1.4</td>\n",
              "      <td>0</td>\n",
              "      <td>0</td>\n",
              "      <td>0</td>\n",
              "      <td>0</td>\n",
              "    </tr>\n",
              "    <tr>\n",
              "      <th>296</th>\n",
              "      <td>35</td>\n",
              "      <td>1</td>\n",
              "      <td>3</td>\n",
              "      <td>126</td>\n",
              "      <td>282</td>\n",
              "      <td>0</td>\n",
              "      <td>2</td>\n",
              "      <td>156</td>\n",
              "      <td>1</td>\n",
              "      <td>0.0</td>\n",
              "      <td>0</td>\n",
              "      <td>0</td>\n",
              "      <td>2</td>\n",
              "      <td>1</td>\n",
              "    </tr>\n",
              "  </tbody>\n",
              "</table>\n",
              "<p>297 rows × 14 columns</p>\n",
              "</div>\n",
              "    <div class=\"colab-df-buttons\">\n",
              "\n",
              "  <div class=\"colab-df-container\">\n",
              "    <button class=\"colab-df-convert\" onclick=\"convertToInteractive('df-c50880b9-c65c-452b-a6f5-51ba08d0400e')\"\n",
              "            title=\"Convert this dataframe to an interactive table.\"\n",
              "            style=\"display:none;\">\n",
              "\n",
              "  <svg xmlns=\"http://www.w3.org/2000/svg\" height=\"24px\" viewBox=\"0 -960 960 960\">\n",
              "    <path d=\"M120-120v-720h720v720H120Zm60-500h600v-160H180v160Zm220 220h160v-160H400v160Zm0 220h160v-160H400v160ZM180-400h160v-160H180v160Zm440 0h160v-160H620v160ZM180-180h160v-160H180v160Zm440 0h160v-160H620v160Z\"/>\n",
              "  </svg>\n",
              "    </button>\n",
              "\n",
              "  <style>\n",
              "    .colab-df-container {\n",
              "      display:flex;\n",
              "      gap: 12px;\n",
              "    }\n",
              "\n",
              "    .colab-df-convert {\n",
              "      background-color: #E8F0FE;\n",
              "      border: none;\n",
              "      border-radius: 50%;\n",
              "      cursor: pointer;\n",
              "      display: none;\n",
              "      fill: #1967D2;\n",
              "      height: 32px;\n",
              "      padding: 0 0 0 0;\n",
              "      width: 32px;\n",
              "    }\n",
              "\n",
              "    .colab-df-convert:hover {\n",
              "      background-color: #E2EBFA;\n",
              "      box-shadow: 0px 1px 2px rgba(60, 64, 67, 0.3), 0px 1px 3px 1px rgba(60, 64, 67, 0.15);\n",
              "      fill: #174EA6;\n",
              "    }\n",
              "\n",
              "    .colab-df-buttons div {\n",
              "      margin-bottom: 4px;\n",
              "    }\n",
              "\n",
              "    [theme=dark] .colab-df-convert {\n",
              "      background-color: #3B4455;\n",
              "      fill: #D2E3FC;\n",
              "    }\n",
              "\n",
              "    [theme=dark] .colab-df-convert:hover {\n",
              "      background-color: #434B5C;\n",
              "      box-shadow: 0px 1px 3px 1px rgba(0, 0, 0, 0.15);\n",
              "      filter: drop-shadow(0px 1px 2px rgba(0, 0, 0, 0.3));\n",
              "      fill: #FFFFFF;\n",
              "    }\n",
              "  </style>\n",
              "\n",
              "    <script>\n",
              "      const buttonEl =\n",
              "        document.querySelector('#df-c50880b9-c65c-452b-a6f5-51ba08d0400e button.colab-df-convert');\n",
              "      buttonEl.style.display =\n",
              "        google.colab.kernel.accessAllowed ? 'block' : 'none';\n",
              "\n",
              "      async function convertToInteractive(key) {\n",
              "        const element = document.querySelector('#df-c50880b9-c65c-452b-a6f5-51ba08d0400e');\n",
              "        const dataTable =\n",
              "          await google.colab.kernel.invokeFunction('convertToInteractive',\n",
              "                                                    [key], {});\n",
              "        if (!dataTable) return;\n",
              "\n",
              "        const docLinkHtml = 'Like what you see? Visit the ' +\n",
              "          '<a target=\"_blank\" href=https://colab.research.google.com/notebooks/data_table.ipynb>data table notebook</a>'\n",
              "          + ' to learn more about interactive tables.';\n",
              "        element.innerHTML = '';\n",
              "        dataTable['output_type'] = 'display_data';\n",
              "        await google.colab.output.renderOutput(dataTable, element);\n",
              "        const docLink = document.createElement('div');\n",
              "        docLink.innerHTML = docLinkHtml;\n",
              "        element.appendChild(docLink);\n",
              "      }\n",
              "    </script>\n",
              "  </div>\n",
              "\n",
              "\n",
              "<div id=\"df-ea7654e7-c505-4591-83ff-12714303e13c\">\n",
              "  <button class=\"colab-df-quickchart\" onclick=\"quickchart('df-ea7654e7-c505-4591-83ff-12714303e13c')\"\n",
              "            title=\"Suggest charts\"\n",
              "            style=\"display:none;\">\n",
              "\n",
              "<svg xmlns=\"http://www.w3.org/2000/svg\" height=\"24px\"viewBox=\"0 0 24 24\"\n",
              "     width=\"24px\">\n",
              "    <g>\n",
              "        <path d=\"M19 3H5c-1.1 0-2 .9-2 2v14c0 1.1.9 2 2 2h14c1.1 0 2-.9 2-2V5c0-1.1-.9-2-2-2zM9 17H7v-7h2v7zm4 0h-2V7h2v10zm4 0h-2v-4h2v4z\"/>\n",
              "    </g>\n",
              "</svg>\n",
              "  </button>\n",
              "\n",
              "<style>\n",
              "  .colab-df-quickchart {\n",
              "      --bg-color: #E8F0FE;\n",
              "      --fill-color: #1967D2;\n",
              "      --hover-bg-color: #E2EBFA;\n",
              "      --hover-fill-color: #174EA6;\n",
              "      --disabled-fill-color: #AAA;\n",
              "      --disabled-bg-color: #DDD;\n",
              "  }\n",
              "\n",
              "  [theme=dark] .colab-df-quickchart {\n",
              "      --bg-color: #3B4455;\n",
              "      --fill-color: #D2E3FC;\n",
              "      --hover-bg-color: #434B5C;\n",
              "      --hover-fill-color: #FFFFFF;\n",
              "      --disabled-bg-color: #3B4455;\n",
              "      --disabled-fill-color: #666;\n",
              "  }\n",
              "\n",
              "  .colab-df-quickchart {\n",
              "    background-color: var(--bg-color);\n",
              "    border: none;\n",
              "    border-radius: 50%;\n",
              "    cursor: pointer;\n",
              "    display: none;\n",
              "    fill: var(--fill-color);\n",
              "    height: 32px;\n",
              "    padding: 0;\n",
              "    width: 32px;\n",
              "  }\n",
              "\n",
              "  .colab-df-quickchart:hover {\n",
              "    background-color: var(--hover-bg-color);\n",
              "    box-shadow: 0 1px 2px rgba(60, 64, 67, 0.3), 0 1px 3px 1px rgba(60, 64, 67, 0.15);\n",
              "    fill: var(--button-hover-fill-color);\n",
              "  }\n",
              "\n",
              "  .colab-df-quickchart-complete:disabled,\n",
              "  .colab-df-quickchart-complete:disabled:hover {\n",
              "    background-color: var(--disabled-bg-color);\n",
              "    fill: var(--disabled-fill-color);\n",
              "    box-shadow: none;\n",
              "  }\n",
              "\n",
              "  .colab-df-spinner {\n",
              "    border: 2px solid var(--fill-color);\n",
              "    border-color: transparent;\n",
              "    border-bottom-color: var(--fill-color);\n",
              "    animation:\n",
              "      spin 1s steps(1) infinite;\n",
              "  }\n",
              "\n",
              "  @keyframes spin {\n",
              "    0% {\n",
              "      border-color: transparent;\n",
              "      border-bottom-color: var(--fill-color);\n",
              "      border-left-color: var(--fill-color);\n",
              "    }\n",
              "    20% {\n",
              "      border-color: transparent;\n",
              "      border-left-color: var(--fill-color);\n",
              "      border-top-color: var(--fill-color);\n",
              "    }\n",
              "    30% {\n",
              "      border-color: transparent;\n",
              "      border-left-color: var(--fill-color);\n",
              "      border-top-color: var(--fill-color);\n",
              "      border-right-color: var(--fill-color);\n",
              "    }\n",
              "    40% {\n",
              "      border-color: transparent;\n",
              "      border-right-color: var(--fill-color);\n",
              "      border-top-color: var(--fill-color);\n",
              "    }\n",
              "    60% {\n",
              "      border-color: transparent;\n",
              "      border-right-color: var(--fill-color);\n",
              "    }\n",
              "    80% {\n",
              "      border-color: transparent;\n",
              "      border-right-color: var(--fill-color);\n",
              "      border-bottom-color: var(--fill-color);\n",
              "    }\n",
              "    90% {\n",
              "      border-color: transparent;\n",
              "      border-bottom-color: var(--fill-color);\n",
              "    }\n",
              "  }\n",
              "</style>\n",
              "\n",
              "  <script>\n",
              "    async function quickchart(key) {\n",
              "      const quickchartButtonEl =\n",
              "        document.querySelector('#' + key + ' button');\n",
              "      quickchartButtonEl.disabled = true;  // To prevent multiple clicks.\n",
              "      quickchartButtonEl.classList.add('colab-df-spinner');\n",
              "      try {\n",
              "        const charts = await google.colab.kernel.invokeFunction(\n",
              "            'suggestCharts', [key], {});\n",
              "      } catch (error) {\n",
              "        console.error('Error during call to suggestCharts:', error);\n",
              "      }\n",
              "      quickchartButtonEl.classList.remove('colab-df-spinner');\n",
              "      quickchartButtonEl.classList.add('colab-df-quickchart-complete');\n",
              "    }\n",
              "    (() => {\n",
              "      let quickchartButtonEl =\n",
              "        document.querySelector('#df-ea7654e7-c505-4591-83ff-12714303e13c button');\n",
              "      quickchartButtonEl.style.display =\n",
              "        google.colab.kernel.accessAllowed ? 'block' : 'none';\n",
              "    })();\n",
              "  </script>\n",
              "</div>\n",
              "    </div>\n",
              "  </div>\n"
            ]
          },
          "metadata": {},
          "execution_count": 25
        }
      ]
    },
    {
      "cell_type": "markdown",
      "source": [
        "### 4.2 - Features and Target Split\n",
        "\n",
        "Dalam tahap pemisahan **fitur** dan **target** ini, dataset awal dibagi menjadi dua kelompok utama : fitur(features) dan target.\n",
        "\n",
        "* **Features(Fitur)** => Variabel-variabel input yang digunakan oleh model untuk membuat prediksi\n",
        "\n",
        "* **Target** => variabel output yang ingin diprediksi\n",
        "\n",
        "Pemisahan ini bertujuan untuk memberikan panduan jelas kepada model tentang apa yang harus diprediksi.\n",
        "\n",
        "Misalnya pada project ini yaitu prediksi penyakit jantung, fitur-fitur seperti age/usia, sex/jenis kelamin, chol/kolesterol, dan lain-lain mungkin menjadi variabel input, sedangkan variabel targetnya adalah apakah seseorang memiliki penyakit jantung atau tidak.\n",
        "\n",
        "Proses ini memungkinkan model untuk memahami relasi antara fitur fitur tersebut dan target yang ingin diprediksi, sehingga dapat menghasilkan prediksi yang akurat saat diberikan data baru.\n",
        "\n",
        "\n",
        "![picture4](https://drive.google.com/uc?export=view&id=1K-AXWwfoluiNWURUVO7L4rWeaoMURFIe)\n",
        "\n",
        "\n"
      ],
      "metadata": {
        "id": "28jTcGLORgx8"
      }
    },
    {
      "cell_type": "code",
      "source": [
        "X = df.drop(\"condition\", axis = 1)\n",
        "y = df.condition.values"
      ],
      "metadata": {
        "id": "WcRa-cPtjQoB"
      },
      "execution_count": null,
      "outputs": []
    },
    {
      "cell_type": "markdown",
      "source": [
        "> * **X = Features (variabel-variabel input yang digunakan oleh model untuk membuat prediksi)**\n",
        "* **y = Target (variabel output yang ingin diprediksi)**\n"
      ],
      "metadata": {
        "id": "9jO3fOm7BGOG"
      }
    },
    {
      "cell_type": "markdown",
      "source": [
        "#### 4.2.1 - Features"
      ],
      "metadata": {
        "id": "ALnCFfaxBpi5"
      }
    },
    {
      "cell_type": "code",
      "source": [
        "X"
      ],
      "metadata": {
        "colab": {
          "base_uri": "https://localhost:8080/",
          "height": 424
        },
        "id": "N6DhyG0Ojr4A",
        "outputId": "3c244bda-c541-495f-ceb6-dd0d8b309741"
      },
      "execution_count": null,
      "outputs": [
        {
          "output_type": "execute_result",
          "data": {
            "text/plain": [
              "     age  sex  cp  trestbps  chol  fbs  restecg  thalach  exang  oldpeak  \\\n",
              "0     69    1   0       160   234    1        2      131      0      0.1   \n",
              "1     69    0   0       140   239    0        0      151      0      1.8   \n",
              "2     66    0   0       150   226    0        0      114      0      2.6   \n",
              "3     65    1   0       138   282    1        2      174      0      1.4   \n",
              "4     64    1   0       110   211    0        2      144      1      1.8   \n",
              "..   ...  ...  ..       ...   ...  ...      ...      ...    ...      ...   \n",
              "292   40    1   3       152   223    0        0      181      0      0.0   \n",
              "293   39    1   3       118   219    0        0      140      0      1.2   \n",
              "294   35    1   3       120   198    0        0      130      1      1.6   \n",
              "295   35    0   3       138   183    0        0      182      0      1.4   \n",
              "296   35    1   3       126   282    0        2      156      1      0.0   \n",
              "\n",
              "     slope  ca  thal  \n",
              "0        1   1     0  \n",
              "1        0   2     0  \n",
              "2        2   0     0  \n",
              "3        1   1     0  \n",
              "4        1   0     0  \n",
              "..     ...  ..   ...  \n",
              "292      0   0     2  \n",
              "293      1   0     2  \n",
              "294      1   0     2  \n",
              "295      0   0     0  \n",
              "296      0   0     2  \n",
              "\n",
              "[297 rows x 13 columns]"
            ],
            "text/html": [
              "\n",
              "  <div id=\"df-0441703d-1a45-485f-b94c-6c400fabd0ad\" class=\"colab-df-container\">\n",
              "    <div>\n",
              "<style scoped>\n",
              "    .dataframe tbody tr th:only-of-type {\n",
              "        vertical-align: middle;\n",
              "    }\n",
              "\n",
              "    .dataframe tbody tr th {\n",
              "        vertical-align: top;\n",
              "    }\n",
              "\n",
              "    .dataframe thead th {\n",
              "        text-align: right;\n",
              "    }\n",
              "</style>\n",
              "<table border=\"1\" class=\"dataframe\">\n",
              "  <thead>\n",
              "    <tr style=\"text-align: right;\">\n",
              "      <th></th>\n",
              "      <th>age</th>\n",
              "      <th>sex</th>\n",
              "      <th>cp</th>\n",
              "      <th>trestbps</th>\n",
              "      <th>chol</th>\n",
              "      <th>fbs</th>\n",
              "      <th>restecg</th>\n",
              "      <th>thalach</th>\n",
              "      <th>exang</th>\n",
              "      <th>oldpeak</th>\n",
              "      <th>slope</th>\n",
              "      <th>ca</th>\n",
              "      <th>thal</th>\n",
              "    </tr>\n",
              "  </thead>\n",
              "  <tbody>\n",
              "    <tr>\n",
              "      <th>0</th>\n",
              "      <td>69</td>\n",
              "      <td>1</td>\n",
              "      <td>0</td>\n",
              "      <td>160</td>\n",
              "      <td>234</td>\n",
              "      <td>1</td>\n",
              "      <td>2</td>\n",
              "      <td>131</td>\n",
              "      <td>0</td>\n",
              "      <td>0.1</td>\n",
              "      <td>1</td>\n",
              "      <td>1</td>\n",
              "      <td>0</td>\n",
              "    </tr>\n",
              "    <tr>\n",
              "      <th>1</th>\n",
              "      <td>69</td>\n",
              "      <td>0</td>\n",
              "      <td>0</td>\n",
              "      <td>140</td>\n",
              "      <td>239</td>\n",
              "      <td>0</td>\n",
              "      <td>0</td>\n",
              "      <td>151</td>\n",
              "      <td>0</td>\n",
              "      <td>1.8</td>\n",
              "      <td>0</td>\n",
              "      <td>2</td>\n",
              "      <td>0</td>\n",
              "    </tr>\n",
              "    <tr>\n",
              "      <th>2</th>\n",
              "      <td>66</td>\n",
              "      <td>0</td>\n",
              "      <td>0</td>\n",
              "      <td>150</td>\n",
              "      <td>226</td>\n",
              "      <td>0</td>\n",
              "      <td>0</td>\n",
              "      <td>114</td>\n",
              "      <td>0</td>\n",
              "      <td>2.6</td>\n",
              "      <td>2</td>\n",
              "      <td>0</td>\n",
              "      <td>0</td>\n",
              "    </tr>\n",
              "    <tr>\n",
              "      <th>3</th>\n",
              "      <td>65</td>\n",
              "      <td>1</td>\n",
              "      <td>0</td>\n",
              "      <td>138</td>\n",
              "      <td>282</td>\n",
              "      <td>1</td>\n",
              "      <td>2</td>\n",
              "      <td>174</td>\n",
              "      <td>0</td>\n",
              "      <td>1.4</td>\n",
              "      <td>1</td>\n",
              "      <td>1</td>\n",
              "      <td>0</td>\n",
              "    </tr>\n",
              "    <tr>\n",
              "      <th>4</th>\n",
              "      <td>64</td>\n",
              "      <td>1</td>\n",
              "      <td>0</td>\n",
              "      <td>110</td>\n",
              "      <td>211</td>\n",
              "      <td>0</td>\n",
              "      <td>2</td>\n",
              "      <td>144</td>\n",
              "      <td>1</td>\n",
              "      <td>1.8</td>\n",
              "      <td>1</td>\n",
              "      <td>0</td>\n",
              "      <td>0</td>\n",
              "    </tr>\n",
              "    <tr>\n",
              "      <th>...</th>\n",
              "      <td>...</td>\n",
              "      <td>...</td>\n",
              "      <td>...</td>\n",
              "      <td>...</td>\n",
              "      <td>...</td>\n",
              "      <td>...</td>\n",
              "      <td>...</td>\n",
              "      <td>...</td>\n",
              "      <td>...</td>\n",
              "      <td>...</td>\n",
              "      <td>...</td>\n",
              "      <td>...</td>\n",
              "      <td>...</td>\n",
              "    </tr>\n",
              "    <tr>\n",
              "      <th>292</th>\n",
              "      <td>40</td>\n",
              "      <td>1</td>\n",
              "      <td>3</td>\n",
              "      <td>152</td>\n",
              "      <td>223</td>\n",
              "      <td>0</td>\n",
              "      <td>0</td>\n",
              "      <td>181</td>\n",
              "      <td>0</td>\n",
              "      <td>0.0</td>\n",
              "      <td>0</td>\n",
              "      <td>0</td>\n",
              "      <td>2</td>\n",
              "    </tr>\n",
              "    <tr>\n",
              "      <th>293</th>\n",
              "      <td>39</td>\n",
              "      <td>1</td>\n",
              "      <td>3</td>\n",
              "      <td>118</td>\n",
              "      <td>219</td>\n",
              "      <td>0</td>\n",
              "      <td>0</td>\n",
              "      <td>140</td>\n",
              "      <td>0</td>\n",
              "      <td>1.2</td>\n",
              "      <td>1</td>\n",
              "      <td>0</td>\n",
              "      <td>2</td>\n",
              "    </tr>\n",
              "    <tr>\n",
              "      <th>294</th>\n",
              "      <td>35</td>\n",
              "      <td>1</td>\n",
              "      <td>3</td>\n",
              "      <td>120</td>\n",
              "      <td>198</td>\n",
              "      <td>0</td>\n",
              "      <td>0</td>\n",
              "      <td>130</td>\n",
              "      <td>1</td>\n",
              "      <td>1.6</td>\n",
              "      <td>1</td>\n",
              "      <td>0</td>\n",
              "      <td>2</td>\n",
              "    </tr>\n",
              "    <tr>\n",
              "      <th>295</th>\n",
              "      <td>35</td>\n",
              "      <td>0</td>\n",
              "      <td>3</td>\n",
              "      <td>138</td>\n",
              "      <td>183</td>\n",
              "      <td>0</td>\n",
              "      <td>0</td>\n",
              "      <td>182</td>\n",
              "      <td>0</td>\n",
              "      <td>1.4</td>\n",
              "      <td>0</td>\n",
              "      <td>0</td>\n",
              "      <td>0</td>\n",
              "    </tr>\n",
              "    <tr>\n",
              "      <th>296</th>\n",
              "      <td>35</td>\n",
              "      <td>1</td>\n",
              "      <td>3</td>\n",
              "      <td>126</td>\n",
              "      <td>282</td>\n",
              "      <td>0</td>\n",
              "      <td>2</td>\n",
              "      <td>156</td>\n",
              "      <td>1</td>\n",
              "      <td>0.0</td>\n",
              "      <td>0</td>\n",
              "      <td>0</td>\n",
              "      <td>2</td>\n",
              "    </tr>\n",
              "  </tbody>\n",
              "</table>\n",
              "<p>297 rows × 13 columns</p>\n",
              "</div>\n",
              "    <div class=\"colab-df-buttons\">\n",
              "\n",
              "  <div class=\"colab-df-container\">\n",
              "    <button class=\"colab-df-convert\" onclick=\"convertToInteractive('df-0441703d-1a45-485f-b94c-6c400fabd0ad')\"\n",
              "            title=\"Convert this dataframe to an interactive table.\"\n",
              "            style=\"display:none;\">\n",
              "\n",
              "  <svg xmlns=\"http://www.w3.org/2000/svg\" height=\"24px\" viewBox=\"0 -960 960 960\">\n",
              "    <path d=\"M120-120v-720h720v720H120Zm60-500h600v-160H180v160Zm220 220h160v-160H400v160Zm0 220h160v-160H400v160ZM180-400h160v-160H180v160Zm440 0h160v-160H620v160ZM180-180h160v-160H180v160Zm440 0h160v-160H620v160Z\"/>\n",
              "  </svg>\n",
              "    </button>\n",
              "\n",
              "  <style>\n",
              "    .colab-df-container {\n",
              "      display:flex;\n",
              "      gap: 12px;\n",
              "    }\n",
              "\n",
              "    .colab-df-convert {\n",
              "      background-color: #E8F0FE;\n",
              "      border: none;\n",
              "      border-radius: 50%;\n",
              "      cursor: pointer;\n",
              "      display: none;\n",
              "      fill: #1967D2;\n",
              "      height: 32px;\n",
              "      padding: 0 0 0 0;\n",
              "      width: 32px;\n",
              "    }\n",
              "\n",
              "    .colab-df-convert:hover {\n",
              "      background-color: #E2EBFA;\n",
              "      box-shadow: 0px 1px 2px rgba(60, 64, 67, 0.3), 0px 1px 3px 1px rgba(60, 64, 67, 0.15);\n",
              "      fill: #174EA6;\n",
              "    }\n",
              "\n",
              "    .colab-df-buttons div {\n",
              "      margin-bottom: 4px;\n",
              "    }\n",
              "\n",
              "    [theme=dark] .colab-df-convert {\n",
              "      background-color: #3B4455;\n",
              "      fill: #D2E3FC;\n",
              "    }\n",
              "\n",
              "    [theme=dark] .colab-df-convert:hover {\n",
              "      background-color: #434B5C;\n",
              "      box-shadow: 0px 1px 3px 1px rgba(0, 0, 0, 0.15);\n",
              "      filter: drop-shadow(0px 1px 2px rgba(0, 0, 0, 0.3));\n",
              "      fill: #FFFFFF;\n",
              "    }\n",
              "  </style>\n",
              "\n",
              "    <script>\n",
              "      const buttonEl =\n",
              "        document.querySelector('#df-0441703d-1a45-485f-b94c-6c400fabd0ad button.colab-df-convert');\n",
              "      buttonEl.style.display =\n",
              "        google.colab.kernel.accessAllowed ? 'block' : 'none';\n",
              "\n",
              "      async function convertToInteractive(key) {\n",
              "        const element = document.querySelector('#df-0441703d-1a45-485f-b94c-6c400fabd0ad');\n",
              "        const dataTable =\n",
              "          await google.colab.kernel.invokeFunction('convertToInteractive',\n",
              "                                                    [key], {});\n",
              "        if (!dataTable) return;\n",
              "\n",
              "        const docLinkHtml = 'Like what you see? Visit the ' +\n",
              "          '<a target=\"_blank\" href=https://colab.research.google.com/notebooks/data_table.ipynb>data table notebook</a>'\n",
              "          + ' to learn more about interactive tables.';\n",
              "        element.innerHTML = '';\n",
              "        dataTable['output_type'] = 'display_data';\n",
              "        await google.colab.output.renderOutput(dataTable, element);\n",
              "        const docLink = document.createElement('div');\n",
              "        docLink.innerHTML = docLinkHtml;\n",
              "        element.appendChild(docLink);\n",
              "      }\n",
              "    </script>\n",
              "  </div>\n",
              "\n",
              "\n",
              "<div id=\"df-53c8b26b-06e5-4a50-bfc6-0d9ce06c9e29\">\n",
              "  <button class=\"colab-df-quickchart\" onclick=\"quickchart('df-53c8b26b-06e5-4a50-bfc6-0d9ce06c9e29')\"\n",
              "            title=\"Suggest charts\"\n",
              "            style=\"display:none;\">\n",
              "\n",
              "<svg xmlns=\"http://www.w3.org/2000/svg\" height=\"24px\"viewBox=\"0 0 24 24\"\n",
              "     width=\"24px\">\n",
              "    <g>\n",
              "        <path d=\"M19 3H5c-1.1 0-2 .9-2 2v14c0 1.1.9 2 2 2h14c1.1 0 2-.9 2-2V5c0-1.1-.9-2-2-2zM9 17H7v-7h2v7zm4 0h-2V7h2v10zm4 0h-2v-4h2v4z\"/>\n",
              "    </g>\n",
              "</svg>\n",
              "  </button>\n",
              "\n",
              "<style>\n",
              "  .colab-df-quickchart {\n",
              "      --bg-color: #E8F0FE;\n",
              "      --fill-color: #1967D2;\n",
              "      --hover-bg-color: #E2EBFA;\n",
              "      --hover-fill-color: #174EA6;\n",
              "      --disabled-fill-color: #AAA;\n",
              "      --disabled-bg-color: #DDD;\n",
              "  }\n",
              "\n",
              "  [theme=dark] .colab-df-quickchart {\n",
              "      --bg-color: #3B4455;\n",
              "      --fill-color: #D2E3FC;\n",
              "      --hover-bg-color: #434B5C;\n",
              "      --hover-fill-color: #FFFFFF;\n",
              "      --disabled-bg-color: #3B4455;\n",
              "      --disabled-fill-color: #666;\n",
              "  }\n",
              "\n",
              "  .colab-df-quickchart {\n",
              "    background-color: var(--bg-color);\n",
              "    border: none;\n",
              "    border-radius: 50%;\n",
              "    cursor: pointer;\n",
              "    display: none;\n",
              "    fill: var(--fill-color);\n",
              "    height: 32px;\n",
              "    padding: 0;\n",
              "    width: 32px;\n",
              "  }\n",
              "\n",
              "  .colab-df-quickchart:hover {\n",
              "    background-color: var(--hover-bg-color);\n",
              "    box-shadow: 0 1px 2px rgba(60, 64, 67, 0.3), 0 1px 3px 1px rgba(60, 64, 67, 0.15);\n",
              "    fill: var(--button-hover-fill-color);\n",
              "  }\n",
              "\n",
              "  .colab-df-quickchart-complete:disabled,\n",
              "  .colab-df-quickchart-complete:disabled:hover {\n",
              "    background-color: var(--disabled-bg-color);\n",
              "    fill: var(--disabled-fill-color);\n",
              "    box-shadow: none;\n",
              "  }\n",
              "\n",
              "  .colab-df-spinner {\n",
              "    border: 2px solid var(--fill-color);\n",
              "    border-color: transparent;\n",
              "    border-bottom-color: var(--fill-color);\n",
              "    animation:\n",
              "      spin 1s steps(1) infinite;\n",
              "  }\n",
              "\n",
              "  @keyframes spin {\n",
              "    0% {\n",
              "      border-color: transparent;\n",
              "      border-bottom-color: var(--fill-color);\n",
              "      border-left-color: var(--fill-color);\n",
              "    }\n",
              "    20% {\n",
              "      border-color: transparent;\n",
              "      border-left-color: var(--fill-color);\n",
              "      border-top-color: var(--fill-color);\n",
              "    }\n",
              "    30% {\n",
              "      border-color: transparent;\n",
              "      border-left-color: var(--fill-color);\n",
              "      border-top-color: var(--fill-color);\n",
              "      border-right-color: var(--fill-color);\n",
              "    }\n",
              "    40% {\n",
              "      border-color: transparent;\n",
              "      border-right-color: var(--fill-color);\n",
              "      border-top-color: var(--fill-color);\n",
              "    }\n",
              "    60% {\n",
              "      border-color: transparent;\n",
              "      border-right-color: var(--fill-color);\n",
              "    }\n",
              "    80% {\n",
              "      border-color: transparent;\n",
              "      border-right-color: var(--fill-color);\n",
              "      border-bottom-color: var(--fill-color);\n",
              "    }\n",
              "    90% {\n",
              "      border-color: transparent;\n",
              "      border-bottom-color: var(--fill-color);\n",
              "    }\n",
              "  }\n",
              "</style>\n",
              "\n",
              "  <script>\n",
              "    async function quickchart(key) {\n",
              "      const quickchartButtonEl =\n",
              "        document.querySelector('#' + key + ' button');\n",
              "      quickchartButtonEl.disabled = true;  // To prevent multiple clicks.\n",
              "      quickchartButtonEl.classList.add('colab-df-spinner');\n",
              "      try {\n",
              "        const charts = await google.colab.kernel.invokeFunction(\n",
              "            'suggestCharts', [key], {});\n",
              "      } catch (error) {\n",
              "        console.error('Error during call to suggestCharts:', error);\n",
              "      }\n",
              "      quickchartButtonEl.classList.remove('colab-df-spinner');\n",
              "      quickchartButtonEl.classList.add('colab-df-quickchart-complete');\n",
              "    }\n",
              "    (() => {\n",
              "      let quickchartButtonEl =\n",
              "        document.querySelector('#df-53c8b26b-06e5-4a50-bfc6-0d9ce06c9e29 button');\n",
              "      quickchartButtonEl.style.display =\n",
              "        google.colab.kernel.accessAllowed ? 'block' : 'none';\n",
              "    })();\n",
              "  </script>\n",
              "</div>\n",
              "    </div>\n",
              "  </div>\n"
            ]
          },
          "metadata": {},
          "execution_count": 27
        }
      ]
    },
    {
      "cell_type": "markdown",
      "source": [
        "#### 4.2.2 - Target"
      ],
      "metadata": {
        "id": "7ylvVjrFC0xs"
      }
    },
    {
      "cell_type": "code",
      "source": [
        "y"
      ],
      "metadata": {
        "colab": {
          "base_uri": "https://localhost:8080/"
        },
        "id": "MSLHOIK7jsmk",
        "outputId": "34012950-c1e7-42da-efbe-a7273a17d2ca"
      },
      "execution_count": null,
      "outputs": [
        {
          "output_type": "execute_result",
          "data": {
            "text/plain": [
              "array([0, 0, 0, 1, 0, 0, 0, 1, 0, 0, 1, 1, 1, 0, 0, 0, 0, 0, 1, 0, 0, 1,\n",
              "       0, 0, 0, 0, 1, 0, 1, 0, 0, 1, 1, 1, 1, 1, 0, 0, 0, 0, 0, 0, 0, 0,\n",
              "       0, 1, 0, 0, 0, 0, 0, 0, 1, 0, 0, 0, 0, 0, 0, 0, 0, 0, 0, 0, 0, 0,\n",
              "       0, 0, 0, 0, 0, 0, 0, 0, 1, 1, 1, 0, 0, 0, 1, 0, 0, 0, 0, 0, 1, 1,\n",
              "       0, 0, 0, 1, 0, 1, 0, 0, 1, 0, 1, 0, 1, 0, 0, 1, 0, 0, 1, 0, 0, 0,\n",
              "       0, 0, 0, 0, 0, 0, 0, 0, 0, 0, 0, 0, 0, 0, 0, 0, 1, 0, 1, 1, 0, 0,\n",
              "       0, 1, 0, 0, 1, 0, 0, 0, 0, 0, 0, 0, 0, 0, 0, 0, 0, 0, 0, 0, 0, 0,\n",
              "       0, 1, 0, 1, 1, 1, 1, 1, 1, 1, 1, 0, 0, 1, 1, 0, 1, 1, 0, 1, 1, 1,\n",
              "       0, 0, 0, 1, 1, 1, 1, 1, 1, 1, 1, 1, 0, 1, 1, 0, 1, 1, 1, 1, 1, 1,\n",
              "       1, 1, 1, 1, 1, 1, 1, 1, 1, 0, 1, 1, 1, 1, 0, 1, 1, 0, 1, 1, 0, 1,\n",
              "       1, 1, 1, 0, 1, 1, 1, 0, 1, 1, 1, 0, 0, 0, 1, 1, 1, 1, 1, 1, 1, 1,\n",
              "       1, 1, 1, 1, 1, 1, 1, 0, 1, 0, 1, 0, 0, 1, 0, 1, 1, 1, 1, 0, 1, 1,\n",
              "       1, 0, 0, 1, 0, 1, 1, 0, 0, 1, 1, 0, 0, 1, 0, 1, 1, 1, 1, 1, 0, 0,\n",
              "       0, 0, 1, 0, 1, 1, 1, 1, 1, 0, 1])"
            ]
          },
          "metadata": {},
          "execution_count": 28
        }
      ]
    },
    {
      "cell_type": "markdown",
      "source": [
        "### 4.3 - Training and Test Split\n",
        "\n",
        "Tahap training dan test split dalam machine learning adalah proses pembagian dataset menjadi dua subset utama : **Training set** dan **Test set**.\n",
        "\n",
        "Pembagian ini penting untuk mengukur seberapa baik model dapat menggeneralisasi pola yang telah dipelajari dari data pelatihan ke data yang belum pernah dilihat sebelumnya.\n",
        "\n",
        "* **Training set** => digunakan untuk melatih model, yaitu untuk memahami pola dan hubungan antara **features** dan **target**.\n",
        "* **Test set** => digunakan untuk menguji kinerja model pada data yang tidak pernah dilihat sebelumnya, memberikan gambaran tentang sejauh mana model dapat memberikan prediksi yang akurat\n",
        "\n",
        "Pemisahan dataset menjadi training dan test set membantu mencegah overfitting, dimana model terlalu spesifik untuk data pelatihan dan kehilangan kemampuan untuk menggeneralisasi pada data baru.\n",
        "\n",
        "![picture5](https://drive.google.com/uc?export=view&id=14yQ0S5g1QhzMSF7k2gSi9Llqz5nWUOlk)"
      ],
      "metadata": {
        "id": "XGw9d-E116S2"
      }
    },
    {
      "cell_type": "code",
      "source": [
        "np.random.seed(42)\n",
        "X_train, X_test, y_train, y_test = train_test_split(X, y, test_size=0.3)"
      ],
      "metadata": {
        "id": "TIE5e03ljuts"
      },
      "execution_count": null,
      "outputs": []
    },
    {
      "cell_type": "markdown",
      "source": [
        "> * `np.random.seed(42)` digunakan untuk menetapkan seed untuk generator angka acak NumPy, menetapkan seed ini memastikan bahwa pembagian dataset menjadi training dan test set akan konsisten setiap kali kode dijalankan.\n",
        "* `train_test_split(x, y test_size=0.3)` adalah fungsi dari library Scikit-learn(skelarn) digunakan untuk membagi dataset menjadi subset training dan test. Parameter pertama (`x`) adalah dataset features(fitur), parameter kedua (`y`) adalah dataset target dan `test_size = 0.3` menunjukan bahwa 30% dari data akan digunakan untuk test set, sementara 70% sisanya akan digunakan sebagai training set. Hasil dari pembagian fungsi ini akan menghasilkan empat variable yaitu **'x_train'** (fitur training), **'x_test'** (fitur test), **'y_train'** (target training), **'y_test'** (target test)."
      ],
      "metadata": {
        "id": "cDlOA8WsGtkZ"
      }
    },
    {
      "cell_type": "code",
      "source": [
        "print(f\"Total Data X_train: {len(X_train)}\")\n",
        "print(f\"Total Data y_train: {len(y_train)}\")\n",
        "print(f\"Total Data X_test: {len(X_test)}\")\n",
        "print(f\"Total Data y_test: {len(y_test)}\")"
      ],
      "metadata": {
        "colab": {
          "base_uri": "https://localhost:8080/"
        },
        "id": "j5VmHLXNJb0o",
        "outputId": "117ffbbd-1cf8-4f0f-dba0-e77634b40fc9"
      },
      "execution_count": null,
      "outputs": [
        {
          "output_type": "stream",
          "name": "stdout",
          "text": [
            "Total Data X_train: 207\n",
            "Total Data y_train: 207\n",
            "Total Data X_test: 90\n",
            "Total Data y_test: 90\n"
          ]
        }
      ]
    },
    {
      "cell_type": "code",
      "source": [
        "X_train.head(10)"
      ],
      "metadata": {
        "colab": {
          "base_uri": "https://localhost:8080/",
          "height": 363
        },
        "id": "Nfe7cy7OkVwo",
        "outputId": "a409d3f2-36ef-40ef-e414-d373a00f95e9"
      },
      "execution_count": null,
      "outputs": [
        {
          "output_type": "execute_result",
          "data": {
            "text/plain": [
              "     age  sex  cp  trestbps  chol  fbs  restecg  thalach  exang  oldpeak  \\\n",
              "266   49    0   3       130   269    0        0      163      0      0.0   \n",
              "37    56    0   1       140   294    0        2      153      0      1.3   \n",
              "16    52    1   0       152   298    1        0      178      0      1.2   \n",
              "253   53    0   3       138   234    0        2      160      0      0.0   \n",
              "144   42    1   2       120   240    1        0      194      0      0.8   \n",
              "267   48    1   3       124   274    0        2      166      0      0.5   \n",
              "67    41    0   1       126   306    0        0      163      0      0.0   \n",
              "286   43    1   3       110   211    0        0      161      0      0.0   \n",
              "69    35    1   1       122   192    0        0      174      0      0.0   \n",
              "31    58    1   1       120   284    0        2      160      0      1.8   \n",
              "\n",
              "     slope  ca  thal  \n",
              "266      0   0     0  \n",
              "37       1   0     0  \n",
              "16       1   0     2  \n",
              "253      0   0     0  \n",
              "144      2   0     2  \n",
              "267      1   0     2  \n",
              "67       0   0     0  \n",
              "286      0   0     2  \n",
              "69       0   0     0  \n",
              "31       1   0     0  "
            ],
            "text/html": [
              "\n",
              "  <div id=\"df-b09a0957-7a83-436d-b10a-071350287f45\" class=\"colab-df-container\">\n",
              "    <div>\n",
              "<style scoped>\n",
              "    .dataframe tbody tr th:only-of-type {\n",
              "        vertical-align: middle;\n",
              "    }\n",
              "\n",
              "    .dataframe tbody tr th {\n",
              "        vertical-align: top;\n",
              "    }\n",
              "\n",
              "    .dataframe thead th {\n",
              "        text-align: right;\n",
              "    }\n",
              "</style>\n",
              "<table border=\"1\" class=\"dataframe\">\n",
              "  <thead>\n",
              "    <tr style=\"text-align: right;\">\n",
              "      <th></th>\n",
              "      <th>age</th>\n",
              "      <th>sex</th>\n",
              "      <th>cp</th>\n",
              "      <th>trestbps</th>\n",
              "      <th>chol</th>\n",
              "      <th>fbs</th>\n",
              "      <th>restecg</th>\n",
              "      <th>thalach</th>\n",
              "      <th>exang</th>\n",
              "      <th>oldpeak</th>\n",
              "      <th>slope</th>\n",
              "      <th>ca</th>\n",
              "      <th>thal</th>\n",
              "    </tr>\n",
              "  </thead>\n",
              "  <tbody>\n",
              "    <tr>\n",
              "      <th>266</th>\n",
              "      <td>49</td>\n",
              "      <td>0</td>\n",
              "      <td>3</td>\n",
              "      <td>130</td>\n",
              "      <td>269</td>\n",
              "      <td>0</td>\n",
              "      <td>0</td>\n",
              "      <td>163</td>\n",
              "      <td>0</td>\n",
              "      <td>0.0</td>\n",
              "      <td>0</td>\n",
              "      <td>0</td>\n",
              "      <td>0</td>\n",
              "    </tr>\n",
              "    <tr>\n",
              "      <th>37</th>\n",
              "      <td>56</td>\n",
              "      <td>0</td>\n",
              "      <td>1</td>\n",
              "      <td>140</td>\n",
              "      <td>294</td>\n",
              "      <td>0</td>\n",
              "      <td>2</td>\n",
              "      <td>153</td>\n",
              "      <td>0</td>\n",
              "      <td>1.3</td>\n",
              "      <td>1</td>\n",
              "      <td>0</td>\n",
              "      <td>0</td>\n",
              "    </tr>\n",
              "    <tr>\n",
              "      <th>16</th>\n",
              "      <td>52</td>\n",
              "      <td>1</td>\n",
              "      <td>0</td>\n",
              "      <td>152</td>\n",
              "      <td>298</td>\n",
              "      <td>1</td>\n",
              "      <td>0</td>\n",
              "      <td>178</td>\n",
              "      <td>0</td>\n",
              "      <td>1.2</td>\n",
              "      <td>1</td>\n",
              "      <td>0</td>\n",
              "      <td>2</td>\n",
              "    </tr>\n",
              "    <tr>\n",
              "      <th>253</th>\n",
              "      <td>53</td>\n",
              "      <td>0</td>\n",
              "      <td>3</td>\n",
              "      <td>138</td>\n",
              "      <td>234</td>\n",
              "      <td>0</td>\n",
              "      <td>2</td>\n",
              "      <td>160</td>\n",
              "      <td>0</td>\n",
              "      <td>0.0</td>\n",
              "      <td>0</td>\n",
              "      <td>0</td>\n",
              "      <td>0</td>\n",
              "    </tr>\n",
              "    <tr>\n",
              "      <th>144</th>\n",
              "      <td>42</td>\n",
              "      <td>1</td>\n",
              "      <td>2</td>\n",
              "      <td>120</td>\n",
              "      <td>240</td>\n",
              "      <td>1</td>\n",
              "      <td>0</td>\n",
              "      <td>194</td>\n",
              "      <td>0</td>\n",
              "      <td>0.8</td>\n",
              "      <td>2</td>\n",
              "      <td>0</td>\n",
              "      <td>2</td>\n",
              "    </tr>\n",
              "    <tr>\n",
              "      <th>267</th>\n",
              "      <td>48</td>\n",
              "      <td>1</td>\n",
              "      <td>3</td>\n",
              "      <td>124</td>\n",
              "      <td>274</td>\n",
              "      <td>0</td>\n",
              "      <td>2</td>\n",
              "      <td>166</td>\n",
              "      <td>0</td>\n",
              "      <td>0.5</td>\n",
              "      <td>1</td>\n",
              "      <td>0</td>\n",
              "      <td>2</td>\n",
              "    </tr>\n",
              "    <tr>\n",
              "      <th>67</th>\n",
              "      <td>41</td>\n",
              "      <td>0</td>\n",
              "      <td>1</td>\n",
              "      <td>126</td>\n",
              "      <td>306</td>\n",
              "      <td>0</td>\n",
              "      <td>0</td>\n",
              "      <td>163</td>\n",
              "      <td>0</td>\n",
              "      <td>0.0</td>\n",
              "      <td>0</td>\n",
              "      <td>0</td>\n",
              "      <td>0</td>\n",
              "    </tr>\n",
              "    <tr>\n",
              "      <th>286</th>\n",
              "      <td>43</td>\n",
              "      <td>1</td>\n",
              "      <td>3</td>\n",
              "      <td>110</td>\n",
              "      <td>211</td>\n",
              "      <td>0</td>\n",
              "      <td>0</td>\n",
              "      <td>161</td>\n",
              "      <td>0</td>\n",
              "      <td>0.0</td>\n",
              "      <td>0</td>\n",
              "      <td>0</td>\n",
              "      <td>2</td>\n",
              "    </tr>\n",
              "    <tr>\n",
              "      <th>69</th>\n",
              "      <td>35</td>\n",
              "      <td>1</td>\n",
              "      <td>1</td>\n",
              "      <td>122</td>\n",
              "      <td>192</td>\n",
              "      <td>0</td>\n",
              "      <td>0</td>\n",
              "      <td>174</td>\n",
              "      <td>0</td>\n",
              "      <td>0.0</td>\n",
              "      <td>0</td>\n",
              "      <td>0</td>\n",
              "      <td>0</td>\n",
              "    </tr>\n",
              "    <tr>\n",
              "      <th>31</th>\n",
              "      <td>58</td>\n",
              "      <td>1</td>\n",
              "      <td>1</td>\n",
              "      <td>120</td>\n",
              "      <td>284</td>\n",
              "      <td>0</td>\n",
              "      <td>2</td>\n",
              "      <td>160</td>\n",
              "      <td>0</td>\n",
              "      <td>1.8</td>\n",
              "      <td>1</td>\n",
              "      <td>0</td>\n",
              "      <td>0</td>\n",
              "    </tr>\n",
              "  </tbody>\n",
              "</table>\n",
              "</div>\n",
              "    <div class=\"colab-df-buttons\">\n",
              "\n",
              "  <div class=\"colab-df-container\">\n",
              "    <button class=\"colab-df-convert\" onclick=\"convertToInteractive('df-b09a0957-7a83-436d-b10a-071350287f45')\"\n",
              "            title=\"Convert this dataframe to an interactive table.\"\n",
              "            style=\"display:none;\">\n",
              "\n",
              "  <svg xmlns=\"http://www.w3.org/2000/svg\" height=\"24px\" viewBox=\"0 -960 960 960\">\n",
              "    <path d=\"M120-120v-720h720v720H120Zm60-500h600v-160H180v160Zm220 220h160v-160H400v160Zm0 220h160v-160H400v160ZM180-400h160v-160H180v160Zm440 0h160v-160H620v160ZM180-180h160v-160H180v160Zm440 0h160v-160H620v160Z\"/>\n",
              "  </svg>\n",
              "    </button>\n",
              "\n",
              "  <style>\n",
              "    .colab-df-container {\n",
              "      display:flex;\n",
              "      gap: 12px;\n",
              "    }\n",
              "\n",
              "    .colab-df-convert {\n",
              "      background-color: #E8F0FE;\n",
              "      border: none;\n",
              "      border-radius: 50%;\n",
              "      cursor: pointer;\n",
              "      display: none;\n",
              "      fill: #1967D2;\n",
              "      height: 32px;\n",
              "      padding: 0 0 0 0;\n",
              "      width: 32px;\n",
              "    }\n",
              "\n",
              "    .colab-df-convert:hover {\n",
              "      background-color: #E2EBFA;\n",
              "      box-shadow: 0px 1px 2px rgba(60, 64, 67, 0.3), 0px 1px 3px 1px rgba(60, 64, 67, 0.15);\n",
              "      fill: #174EA6;\n",
              "    }\n",
              "\n",
              "    .colab-df-buttons div {\n",
              "      margin-bottom: 4px;\n",
              "    }\n",
              "\n",
              "    [theme=dark] .colab-df-convert {\n",
              "      background-color: #3B4455;\n",
              "      fill: #D2E3FC;\n",
              "    }\n",
              "\n",
              "    [theme=dark] .colab-df-convert:hover {\n",
              "      background-color: #434B5C;\n",
              "      box-shadow: 0px 1px 3px 1px rgba(0, 0, 0, 0.15);\n",
              "      filter: drop-shadow(0px 1px 2px rgba(0, 0, 0, 0.3));\n",
              "      fill: #FFFFFF;\n",
              "    }\n",
              "  </style>\n",
              "\n",
              "    <script>\n",
              "      const buttonEl =\n",
              "        document.querySelector('#df-b09a0957-7a83-436d-b10a-071350287f45 button.colab-df-convert');\n",
              "      buttonEl.style.display =\n",
              "        google.colab.kernel.accessAllowed ? 'block' : 'none';\n",
              "\n",
              "      async function convertToInteractive(key) {\n",
              "        const element = document.querySelector('#df-b09a0957-7a83-436d-b10a-071350287f45');\n",
              "        const dataTable =\n",
              "          await google.colab.kernel.invokeFunction('convertToInteractive',\n",
              "                                                    [key], {});\n",
              "        if (!dataTable) return;\n",
              "\n",
              "        const docLinkHtml = 'Like what you see? Visit the ' +\n",
              "          '<a target=\"_blank\" href=https://colab.research.google.com/notebooks/data_table.ipynb>data table notebook</a>'\n",
              "          + ' to learn more about interactive tables.';\n",
              "        element.innerHTML = '';\n",
              "        dataTable['output_type'] = 'display_data';\n",
              "        await google.colab.output.renderOutput(dataTable, element);\n",
              "        const docLink = document.createElement('div');\n",
              "        docLink.innerHTML = docLinkHtml;\n",
              "        element.appendChild(docLink);\n",
              "      }\n",
              "    </script>\n",
              "  </div>\n",
              "\n",
              "\n",
              "<div id=\"df-6da6f5c6-739c-487b-a1d8-962cbce18a78\">\n",
              "  <button class=\"colab-df-quickchart\" onclick=\"quickchart('df-6da6f5c6-739c-487b-a1d8-962cbce18a78')\"\n",
              "            title=\"Suggest charts\"\n",
              "            style=\"display:none;\">\n",
              "\n",
              "<svg xmlns=\"http://www.w3.org/2000/svg\" height=\"24px\"viewBox=\"0 0 24 24\"\n",
              "     width=\"24px\">\n",
              "    <g>\n",
              "        <path d=\"M19 3H5c-1.1 0-2 .9-2 2v14c0 1.1.9 2 2 2h14c1.1 0 2-.9 2-2V5c0-1.1-.9-2-2-2zM9 17H7v-7h2v7zm4 0h-2V7h2v10zm4 0h-2v-4h2v4z\"/>\n",
              "    </g>\n",
              "</svg>\n",
              "  </button>\n",
              "\n",
              "<style>\n",
              "  .colab-df-quickchart {\n",
              "      --bg-color: #E8F0FE;\n",
              "      --fill-color: #1967D2;\n",
              "      --hover-bg-color: #E2EBFA;\n",
              "      --hover-fill-color: #174EA6;\n",
              "      --disabled-fill-color: #AAA;\n",
              "      --disabled-bg-color: #DDD;\n",
              "  }\n",
              "\n",
              "  [theme=dark] .colab-df-quickchart {\n",
              "      --bg-color: #3B4455;\n",
              "      --fill-color: #D2E3FC;\n",
              "      --hover-bg-color: #434B5C;\n",
              "      --hover-fill-color: #FFFFFF;\n",
              "      --disabled-bg-color: #3B4455;\n",
              "      --disabled-fill-color: #666;\n",
              "  }\n",
              "\n",
              "  .colab-df-quickchart {\n",
              "    background-color: var(--bg-color);\n",
              "    border: none;\n",
              "    border-radius: 50%;\n",
              "    cursor: pointer;\n",
              "    display: none;\n",
              "    fill: var(--fill-color);\n",
              "    height: 32px;\n",
              "    padding: 0;\n",
              "    width: 32px;\n",
              "  }\n",
              "\n",
              "  .colab-df-quickchart:hover {\n",
              "    background-color: var(--hover-bg-color);\n",
              "    box-shadow: 0 1px 2px rgba(60, 64, 67, 0.3), 0 1px 3px 1px rgba(60, 64, 67, 0.15);\n",
              "    fill: var(--button-hover-fill-color);\n",
              "  }\n",
              "\n",
              "  .colab-df-quickchart-complete:disabled,\n",
              "  .colab-df-quickchart-complete:disabled:hover {\n",
              "    background-color: var(--disabled-bg-color);\n",
              "    fill: var(--disabled-fill-color);\n",
              "    box-shadow: none;\n",
              "  }\n",
              "\n",
              "  .colab-df-spinner {\n",
              "    border: 2px solid var(--fill-color);\n",
              "    border-color: transparent;\n",
              "    border-bottom-color: var(--fill-color);\n",
              "    animation:\n",
              "      spin 1s steps(1) infinite;\n",
              "  }\n",
              "\n",
              "  @keyframes spin {\n",
              "    0% {\n",
              "      border-color: transparent;\n",
              "      border-bottom-color: var(--fill-color);\n",
              "      border-left-color: var(--fill-color);\n",
              "    }\n",
              "    20% {\n",
              "      border-color: transparent;\n",
              "      border-left-color: var(--fill-color);\n",
              "      border-top-color: var(--fill-color);\n",
              "    }\n",
              "    30% {\n",
              "      border-color: transparent;\n",
              "      border-left-color: var(--fill-color);\n",
              "      border-top-color: var(--fill-color);\n",
              "      border-right-color: var(--fill-color);\n",
              "    }\n",
              "    40% {\n",
              "      border-color: transparent;\n",
              "      border-right-color: var(--fill-color);\n",
              "      border-top-color: var(--fill-color);\n",
              "    }\n",
              "    60% {\n",
              "      border-color: transparent;\n",
              "      border-right-color: var(--fill-color);\n",
              "    }\n",
              "    80% {\n",
              "      border-color: transparent;\n",
              "      border-right-color: var(--fill-color);\n",
              "      border-bottom-color: var(--fill-color);\n",
              "    }\n",
              "    90% {\n",
              "      border-color: transparent;\n",
              "      border-bottom-color: var(--fill-color);\n",
              "    }\n",
              "  }\n",
              "</style>\n",
              "\n",
              "  <script>\n",
              "    async function quickchart(key) {\n",
              "      const quickchartButtonEl =\n",
              "        document.querySelector('#' + key + ' button');\n",
              "      quickchartButtonEl.disabled = true;  // To prevent multiple clicks.\n",
              "      quickchartButtonEl.classList.add('colab-df-spinner');\n",
              "      try {\n",
              "        const charts = await google.colab.kernel.invokeFunction(\n",
              "            'suggestCharts', [key], {});\n",
              "      } catch (error) {\n",
              "        console.error('Error during call to suggestCharts:', error);\n",
              "      }\n",
              "      quickchartButtonEl.classList.remove('colab-df-spinner');\n",
              "      quickchartButtonEl.classList.add('colab-df-quickchart-complete');\n",
              "    }\n",
              "    (() => {\n",
              "      let quickchartButtonEl =\n",
              "        document.querySelector('#df-6da6f5c6-739c-487b-a1d8-962cbce18a78 button');\n",
              "      quickchartButtonEl.style.display =\n",
              "        google.colab.kernel.accessAllowed ? 'block' : 'none';\n",
              "    })();\n",
              "  </script>\n",
              "</div>\n",
              "    </div>\n",
              "  </div>\n"
            ]
          },
          "metadata": {},
          "execution_count": 31
        }
      ]
    },
    {
      "cell_type": "code",
      "source": [
        "y_train"
      ],
      "metadata": {
        "colab": {
          "base_uri": "https://localhost:8080/"
        },
        "id": "VRsjH1R6kXI8",
        "outputId": "87228efb-13e1-4259-8dac-2a10ebff998b"
      },
      "execution_count": null,
      "outputs": [
        {
          "output_type": "execute_result",
          "data": {
            "text/plain": [
              "array([0, 0, 0, 0, 0, 1, 0, 0, 0, 1, 1, 0, 1, 0, 1, 0, 1, 0, 0, 1, 1, 1,\n",
              "       0, 1, 0, 0, 1, 0, 1, 1, 0, 0, 0, 0, 1, 0, 0, 1, 1, 0, 1, 0, 1, 0,\n",
              "       0, 1, 0, 0, 0, 1, 0, 1, 1, 0, 1, 0, 0, 1, 0, 1, 1, 1, 1, 1, 0, 1,\n",
              "       0, 1, 1, 1, 1, 0, 1, 1, 1, 0, 0, 1, 0, 0, 0, 1, 1, 1, 1, 0, 1, 0,\n",
              "       0, 1, 1, 0, 0, 1, 1, 0, 0, 0, 0, 1, 1, 1, 1, 1, 0, 0, 0, 0, 1, 1,\n",
              "       1, 1, 0, 0, 0, 0, 1, 0, 0, 0, 0, 0, 0, 0, 0, 0, 0, 0, 1, 0, 0, 1,\n",
              "       0, 0, 0, 0, 0, 1, 1, 1, 1, 0, 0, 0, 1, 0, 0, 1, 1, 0, 1, 0, 1, 1,\n",
              "       1, 1, 0, 0, 1, 0, 0, 1, 0, 1, 1, 1, 1, 1, 1, 1, 0, 0, 0, 1, 0, 0,\n",
              "       1, 0, 0, 1, 1, 0, 1, 0, 0, 0, 1, 1, 1, 1, 0, 0, 1, 0, 0, 0, 0, 1,\n",
              "       1, 0, 1, 0, 0, 0, 1, 1, 0])"
            ]
          },
          "metadata": {},
          "execution_count": 32
        }
      ]
    },
    {
      "cell_type": "code",
      "source": [
        "X_test.head(10)"
      ],
      "metadata": {
        "id": "LPPtHGnWkesX",
        "colab": {
          "base_uri": "https://localhost:8080/",
          "height": 363
        },
        "outputId": "55b8c583-28ec-4a3a-d279-a58863bd3a0e"
      },
      "execution_count": null,
      "outputs": [
        {
          "output_type": "execute_result",
          "data": {
            "text/plain": [
              "     age  sex  cp  trestbps  chol  fbs  restecg  thalach  exang  oldpeak  \\\n",
              "167   66    0   3       178   228    1        0      165      1      1.0   \n",
              "211   59    1   3       140   177    0        0      162      1      0.0   \n",
              "63    41    1   1       135   203    0        0      132      0      0.0   \n",
              "154   37    0   2       120   215    0        0      170      0      0.0   \n",
              "5     64    1   0       170   227    0        2      155      0      0.6   \n",
              "77    68    0   2       120   211    0        2      115      0      1.5   \n",
              "183   63    1   3       130   330    1        2      132      1      1.8   \n",
              "158   70    1   3       130   322    0        2      109      0      2.4   \n",
              "9     59    1   0       178   270    0        2      145      0      4.2   \n",
              "139   44    1   2       130   233    0        0      179      1      0.4   \n",
              "\n",
              "     slope  ca  thal  \n",
              "167      1   2     2  \n",
              "211      0   1     2  \n",
              "63       1   0     1  \n",
              "154      0   0     0  \n",
              "5        1   0     2  \n",
              "77       1   0     0  \n",
              "183      0   3     2  \n",
              "158      1   3     0  \n",
              "9        2   0     2  \n",
              "139      0   0     0  "
            ],
            "text/html": [
              "\n",
              "  <div id=\"df-0e636d56-075a-49bc-9a6f-b8649ae057b8\" class=\"colab-df-container\">\n",
              "    <div>\n",
              "<style scoped>\n",
              "    .dataframe tbody tr th:only-of-type {\n",
              "        vertical-align: middle;\n",
              "    }\n",
              "\n",
              "    .dataframe tbody tr th {\n",
              "        vertical-align: top;\n",
              "    }\n",
              "\n",
              "    .dataframe thead th {\n",
              "        text-align: right;\n",
              "    }\n",
              "</style>\n",
              "<table border=\"1\" class=\"dataframe\">\n",
              "  <thead>\n",
              "    <tr style=\"text-align: right;\">\n",
              "      <th></th>\n",
              "      <th>age</th>\n",
              "      <th>sex</th>\n",
              "      <th>cp</th>\n",
              "      <th>trestbps</th>\n",
              "      <th>chol</th>\n",
              "      <th>fbs</th>\n",
              "      <th>restecg</th>\n",
              "      <th>thalach</th>\n",
              "      <th>exang</th>\n",
              "      <th>oldpeak</th>\n",
              "      <th>slope</th>\n",
              "      <th>ca</th>\n",
              "      <th>thal</th>\n",
              "    </tr>\n",
              "  </thead>\n",
              "  <tbody>\n",
              "    <tr>\n",
              "      <th>167</th>\n",
              "      <td>66</td>\n",
              "      <td>0</td>\n",
              "      <td>3</td>\n",
              "      <td>178</td>\n",
              "      <td>228</td>\n",
              "      <td>1</td>\n",
              "      <td>0</td>\n",
              "      <td>165</td>\n",
              "      <td>1</td>\n",
              "      <td>1.0</td>\n",
              "      <td>1</td>\n",
              "      <td>2</td>\n",
              "      <td>2</td>\n",
              "    </tr>\n",
              "    <tr>\n",
              "      <th>211</th>\n",
              "      <td>59</td>\n",
              "      <td>1</td>\n",
              "      <td>3</td>\n",
              "      <td>140</td>\n",
              "      <td>177</td>\n",
              "      <td>0</td>\n",
              "      <td>0</td>\n",
              "      <td>162</td>\n",
              "      <td>1</td>\n",
              "      <td>0.0</td>\n",
              "      <td>0</td>\n",
              "      <td>1</td>\n",
              "      <td>2</td>\n",
              "    </tr>\n",
              "    <tr>\n",
              "      <th>63</th>\n",
              "      <td>41</td>\n",
              "      <td>1</td>\n",
              "      <td>1</td>\n",
              "      <td>135</td>\n",
              "      <td>203</td>\n",
              "      <td>0</td>\n",
              "      <td>0</td>\n",
              "      <td>132</td>\n",
              "      <td>0</td>\n",
              "      <td>0.0</td>\n",
              "      <td>1</td>\n",
              "      <td>0</td>\n",
              "      <td>1</td>\n",
              "    </tr>\n",
              "    <tr>\n",
              "      <th>154</th>\n",
              "      <td>37</td>\n",
              "      <td>0</td>\n",
              "      <td>2</td>\n",
              "      <td>120</td>\n",
              "      <td>215</td>\n",
              "      <td>0</td>\n",
              "      <td>0</td>\n",
              "      <td>170</td>\n",
              "      <td>0</td>\n",
              "      <td>0.0</td>\n",
              "      <td>0</td>\n",
              "      <td>0</td>\n",
              "      <td>0</td>\n",
              "    </tr>\n",
              "    <tr>\n",
              "      <th>5</th>\n",
              "      <td>64</td>\n",
              "      <td>1</td>\n",
              "      <td>0</td>\n",
              "      <td>170</td>\n",
              "      <td>227</td>\n",
              "      <td>0</td>\n",
              "      <td>2</td>\n",
              "      <td>155</td>\n",
              "      <td>0</td>\n",
              "      <td>0.6</td>\n",
              "      <td>1</td>\n",
              "      <td>0</td>\n",
              "      <td>2</td>\n",
              "    </tr>\n",
              "    <tr>\n",
              "      <th>77</th>\n",
              "      <td>68</td>\n",
              "      <td>0</td>\n",
              "      <td>2</td>\n",
              "      <td>120</td>\n",
              "      <td>211</td>\n",
              "      <td>0</td>\n",
              "      <td>2</td>\n",
              "      <td>115</td>\n",
              "      <td>0</td>\n",
              "      <td>1.5</td>\n",
              "      <td>1</td>\n",
              "      <td>0</td>\n",
              "      <td>0</td>\n",
              "    </tr>\n",
              "    <tr>\n",
              "      <th>183</th>\n",
              "      <td>63</td>\n",
              "      <td>1</td>\n",
              "      <td>3</td>\n",
              "      <td>130</td>\n",
              "      <td>330</td>\n",
              "      <td>1</td>\n",
              "      <td>2</td>\n",
              "      <td>132</td>\n",
              "      <td>1</td>\n",
              "      <td>1.8</td>\n",
              "      <td>0</td>\n",
              "      <td>3</td>\n",
              "      <td>2</td>\n",
              "    </tr>\n",
              "    <tr>\n",
              "      <th>158</th>\n",
              "      <td>70</td>\n",
              "      <td>1</td>\n",
              "      <td>3</td>\n",
              "      <td>130</td>\n",
              "      <td>322</td>\n",
              "      <td>0</td>\n",
              "      <td>2</td>\n",
              "      <td>109</td>\n",
              "      <td>0</td>\n",
              "      <td>2.4</td>\n",
              "      <td>1</td>\n",
              "      <td>3</td>\n",
              "      <td>0</td>\n",
              "    </tr>\n",
              "    <tr>\n",
              "      <th>9</th>\n",
              "      <td>59</td>\n",
              "      <td>1</td>\n",
              "      <td>0</td>\n",
              "      <td>178</td>\n",
              "      <td>270</td>\n",
              "      <td>0</td>\n",
              "      <td>2</td>\n",
              "      <td>145</td>\n",
              "      <td>0</td>\n",
              "      <td>4.2</td>\n",
              "      <td>2</td>\n",
              "      <td>0</td>\n",
              "      <td>2</td>\n",
              "    </tr>\n",
              "    <tr>\n",
              "      <th>139</th>\n",
              "      <td>44</td>\n",
              "      <td>1</td>\n",
              "      <td>2</td>\n",
              "      <td>130</td>\n",
              "      <td>233</td>\n",
              "      <td>0</td>\n",
              "      <td>0</td>\n",
              "      <td>179</td>\n",
              "      <td>1</td>\n",
              "      <td>0.4</td>\n",
              "      <td>0</td>\n",
              "      <td>0</td>\n",
              "      <td>0</td>\n",
              "    </tr>\n",
              "  </tbody>\n",
              "</table>\n",
              "</div>\n",
              "    <div class=\"colab-df-buttons\">\n",
              "\n",
              "  <div class=\"colab-df-container\">\n",
              "    <button class=\"colab-df-convert\" onclick=\"convertToInteractive('df-0e636d56-075a-49bc-9a6f-b8649ae057b8')\"\n",
              "            title=\"Convert this dataframe to an interactive table.\"\n",
              "            style=\"display:none;\">\n",
              "\n",
              "  <svg xmlns=\"http://www.w3.org/2000/svg\" height=\"24px\" viewBox=\"0 -960 960 960\">\n",
              "    <path d=\"M120-120v-720h720v720H120Zm60-500h600v-160H180v160Zm220 220h160v-160H400v160Zm0 220h160v-160H400v160ZM180-400h160v-160H180v160Zm440 0h160v-160H620v160ZM180-180h160v-160H180v160Zm440 0h160v-160H620v160Z\"/>\n",
              "  </svg>\n",
              "    </button>\n",
              "\n",
              "  <style>\n",
              "    .colab-df-container {\n",
              "      display:flex;\n",
              "      gap: 12px;\n",
              "    }\n",
              "\n",
              "    .colab-df-convert {\n",
              "      background-color: #E8F0FE;\n",
              "      border: none;\n",
              "      border-radius: 50%;\n",
              "      cursor: pointer;\n",
              "      display: none;\n",
              "      fill: #1967D2;\n",
              "      height: 32px;\n",
              "      padding: 0 0 0 0;\n",
              "      width: 32px;\n",
              "    }\n",
              "\n",
              "    .colab-df-convert:hover {\n",
              "      background-color: #E2EBFA;\n",
              "      box-shadow: 0px 1px 2px rgba(60, 64, 67, 0.3), 0px 1px 3px 1px rgba(60, 64, 67, 0.15);\n",
              "      fill: #174EA6;\n",
              "    }\n",
              "\n",
              "    .colab-df-buttons div {\n",
              "      margin-bottom: 4px;\n",
              "    }\n",
              "\n",
              "    [theme=dark] .colab-df-convert {\n",
              "      background-color: #3B4455;\n",
              "      fill: #D2E3FC;\n",
              "    }\n",
              "\n",
              "    [theme=dark] .colab-df-convert:hover {\n",
              "      background-color: #434B5C;\n",
              "      box-shadow: 0px 1px 3px 1px rgba(0, 0, 0, 0.15);\n",
              "      filter: drop-shadow(0px 1px 2px rgba(0, 0, 0, 0.3));\n",
              "      fill: #FFFFFF;\n",
              "    }\n",
              "  </style>\n",
              "\n",
              "    <script>\n",
              "      const buttonEl =\n",
              "        document.querySelector('#df-0e636d56-075a-49bc-9a6f-b8649ae057b8 button.colab-df-convert');\n",
              "      buttonEl.style.display =\n",
              "        google.colab.kernel.accessAllowed ? 'block' : 'none';\n",
              "\n",
              "      async function convertToInteractive(key) {\n",
              "        const element = document.querySelector('#df-0e636d56-075a-49bc-9a6f-b8649ae057b8');\n",
              "        const dataTable =\n",
              "          await google.colab.kernel.invokeFunction('convertToInteractive',\n",
              "                                                    [key], {});\n",
              "        if (!dataTable) return;\n",
              "\n",
              "        const docLinkHtml = 'Like what you see? Visit the ' +\n",
              "          '<a target=\"_blank\" href=https://colab.research.google.com/notebooks/data_table.ipynb>data table notebook</a>'\n",
              "          + ' to learn more about interactive tables.';\n",
              "        element.innerHTML = '';\n",
              "        dataTable['output_type'] = 'display_data';\n",
              "        await google.colab.output.renderOutput(dataTable, element);\n",
              "        const docLink = document.createElement('div');\n",
              "        docLink.innerHTML = docLinkHtml;\n",
              "        element.appendChild(docLink);\n",
              "      }\n",
              "    </script>\n",
              "  </div>\n",
              "\n",
              "\n",
              "<div id=\"df-14f16996-72b1-410a-a6f7-77ebe37e8dcb\">\n",
              "  <button class=\"colab-df-quickchart\" onclick=\"quickchart('df-14f16996-72b1-410a-a6f7-77ebe37e8dcb')\"\n",
              "            title=\"Suggest charts\"\n",
              "            style=\"display:none;\">\n",
              "\n",
              "<svg xmlns=\"http://www.w3.org/2000/svg\" height=\"24px\"viewBox=\"0 0 24 24\"\n",
              "     width=\"24px\">\n",
              "    <g>\n",
              "        <path d=\"M19 3H5c-1.1 0-2 .9-2 2v14c0 1.1.9 2 2 2h14c1.1 0 2-.9 2-2V5c0-1.1-.9-2-2-2zM9 17H7v-7h2v7zm4 0h-2V7h2v10zm4 0h-2v-4h2v4z\"/>\n",
              "    </g>\n",
              "</svg>\n",
              "  </button>\n",
              "\n",
              "<style>\n",
              "  .colab-df-quickchart {\n",
              "      --bg-color: #E8F0FE;\n",
              "      --fill-color: #1967D2;\n",
              "      --hover-bg-color: #E2EBFA;\n",
              "      --hover-fill-color: #174EA6;\n",
              "      --disabled-fill-color: #AAA;\n",
              "      --disabled-bg-color: #DDD;\n",
              "  }\n",
              "\n",
              "  [theme=dark] .colab-df-quickchart {\n",
              "      --bg-color: #3B4455;\n",
              "      --fill-color: #D2E3FC;\n",
              "      --hover-bg-color: #434B5C;\n",
              "      --hover-fill-color: #FFFFFF;\n",
              "      --disabled-bg-color: #3B4455;\n",
              "      --disabled-fill-color: #666;\n",
              "  }\n",
              "\n",
              "  .colab-df-quickchart {\n",
              "    background-color: var(--bg-color);\n",
              "    border: none;\n",
              "    border-radius: 50%;\n",
              "    cursor: pointer;\n",
              "    display: none;\n",
              "    fill: var(--fill-color);\n",
              "    height: 32px;\n",
              "    padding: 0;\n",
              "    width: 32px;\n",
              "  }\n",
              "\n",
              "  .colab-df-quickchart:hover {\n",
              "    background-color: var(--hover-bg-color);\n",
              "    box-shadow: 0 1px 2px rgba(60, 64, 67, 0.3), 0 1px 3px 1px rgba(60, 64, 67, 0.15);\n",
              "    fill: var(--button-hover-fill-color);\n",
              "  }\n",
              "\n",
              "  .colab-df-quickchart-complete:disabled,\n",
              "  .colab-df-quickchart-complete:disabled:hover {\n",
              "    background-color: var(--disabled-bg-color);\n",
              "    fill: var(--disabled-fill-color);\n",
              "    box-shadow: none;\n",
              "  }\n",
              "\n",
              "  .colab-df-spinner {\n",
              "    border: 2px solid var(--fill-color);\n",
              "    border-color: transparent;\n",
              "    border-bottom-color: var(--fill-color);\n",
              "    animation:\n",
              "      spin 1s steps(1) infinite;\n",
              "  }\n",
              "\n",
              "  @keyframes spin {\n",
              "    0% {\n",
              "      border-color: transparent;\n",
              "      border-bottom-color: var(--fill-color);\n",
              "      border-left-color: var(--fill-color);\n",
              "    }\n",
              "    20% {\n",
              "      border-color: transparent;\n",
              "      border-left-color: var(--fill-color);\n",
              "      border-top-color: var(--fill-color);\n",
              "    }\n",
              "    30% {\n",
              "      border-color: transparent;\n",
              "      border-left-color: var(--fill-color);\n",
              "      border-top-color: var(--fill-color);\n",
              "      border-right-color: var(--fill-color);\n",
              "    }\n",
              "    40% {\n",
              "      border-color: transparent;\n",
              "      border-right-color: var(--fill-color);\n",
              "      border-top-color: var(--fill-color);\n",
              "    }\n",
              "    60% {\n",
              "      border-color: transparent;\n",
              "      border-right-color: var(--fill-color);\n",
              "    }\n",
              "    80% {\n",
              "      border-color: transparent;\n",
              "      border-right-color: var(--fill-color);\n",
              "      border-bottom-color: var(--fill-color);\n",
              "    }\n",
              "    90% {\n",
              "      border-color: transparent;\n",
              "      border-bottom-color: var(--fill-color);\n",
              "    }\n",
              "  }\n",
              "</style>\n",
              "\n",
              "  <script>\n",
              "    async function quickchart(key) {\n",
              "      const quickchartButtonEl =\n",
              "        document.querySelector('#' + key + ' button');\n",
              "      quickchartButtonEl.disabled = true;  // To prevent multiple clicks.\n",
              "      quickchartButtonEl.classList.add('colab-df-spinner');\n",
              "      try {\n",
              "        const charts = await google.colab.kernel.invokeFunction(\n",
              "            'suggestCharts', [key], {});\n",
              "      } catch (error) {\n",
              "        console.error('Error during call to suggestCharts:', error);\n",
              "      }\n",
              "      quickchartButtonEl.classList.remove('colab-df-spinner');\n",
              "      quickchartButtonEl.classList.add('colab-df-quickchart-complete');\n",
              "    }\n",
              "    (() => {\n",
              "      let quickchartButtonEl =\n",
              "        document.querySelector('#df-14f16996-72b1-410a-a6f7-77ebe37e8dcb button');\n",
              "      quickchartButtonEl.style.display =\n",
              "        google.colab.kernel.accessAllowed ? 'block' : 'none';\n",
              "    })();\n",
              "  </script>\n",
              "</div>\n",
              "    </div>\n",
              "  </div>\n"
            ]
          },
          "metadata": {},
          "execution_count": 33
        }
      ]
    },
    {
      "cell_type": "code",
      "source": [
        "y_test"
      ],
      "metadata": {
        "colab": {
          "base_uri": "https://localhost:8080/"
        },
        "id": "i2KeKUXxLoNI",
        "outputId": "9110df4f-4365-46e0-db6f-9898a811e510"
      },
      "execution_count": null,
      "outputs": [
        {
          "output_type": "execute_result",
          "data": {
            "text/plain": [
              "array([1, 1, 0, 0, 0, 0, 1, 1, 0, 0, 0, 0, 0, 0, 0, 1, 1, 1, 1, 0, 1, 1,\n",
              "       0, 0, 0, 1, 1, 1, 0, 1, 0, 1, 0, 0, 1, 1, 0, 0, 0, 0, 0, 1, 0, 0,\n",
              "       1, 1, 0, 1, 0, 0, 1, 1, 1, 0, 1, 1, 0, 1, 0, 1, 1, 1, 0, 0, 1, 0,\n",
              "       0, 1, 1, 1, 1, 0, 1, 0, 1, 0, 0, 1, 0, 0, 0, 0, 1, 0, 0, 0, 1, 1,\n",
              "       1, 0])"
            ]
          },
          "metadata": {},
          "execution_count": 34
        }
      ]
    },
    {
      "cell_type": "markdown",
      "source": [
        "### 4.4 - Model Choices\n",
        "\n",
        "![picture6](https://drive.google.com/uc?export=view&id=1nsPKAbTn5CeUFSsJO12xsN3qwuQHvhVZ)\n",
        "\n",
        "1. **K-Nearest Neighbors (KNN):**\n",
        "  * Sebuah algoritma machine learning yang bekerja berdasarkan prinsip bahwa objek yang mirip cenderung berada dalam jarak yang dekat satu sama lain. Dengan kata lain, data yang memiliki karakteristik serupa akan cenderung saling bertetangga dalam ruang fitur (feature space).\n",
        "  *  Dalam konteks klasifikasi, algoritma ini mengidentifikasi kategori dari suatu titik berdasarkan kategori dari 'k' titik terdekat\n",
        "  * Misalnya, jika k=3, algoritma ini akan melihat tiga titik terdekat dan kategori yang paling umum di antara ketiga titik tersebut akan menjadi kategori dari titik yang sedang dipertimbangkan\n",
        "\n",
        "2. **Logistic Regression:**\n",
        "  *  Jenis analisis statistik yang sering digunakan untuk pemodelan prediktif\n",
        "  * Dalam pendekatan analitik ini, variabel dependennya terbatas atau kategoris, bisa berupa A atau B (regresi biner) atau berbagai opsi hingga A, B, C atau D (regresi multinomial)\n",
        "  * Logistic regression menggunakan fungsi logistik untuk memodelkan probabilitas dari variabel dependen kategorikal sebagai fungsi dari satu atau lebih variabel independen\n",
        "\n",
        "3. **Random Forest Classifier:**\n",
        "  * Algoritma dalam machine learning yang digunakan untuk melakukan klasifikasi dan regresi pada data. Algoritma ini bekerja dengan cara menggabungkan beberapa pohon keputusan (decision tree) yang dibuat secara acak untuk menghasilkan prediksi yang lebih akurat\n",
        "  * Setiap pohon keputusan dalam Random Forest akan memilih fitur secara acak dan hanya menggunakan sebagian data untuk membuat keputusan¹. Kemudian, hasil dari setiap pohon keputusan akan digabungkan untuk menghasilkan prediksi akhir"
      ],
      "metadata": {
        "id": "rBuBGVROSqfh"
      }
    },
    {
      "cell_type": "code",
      "source": [
        "models = {\"KNN\": KNeighborsClassifier(),\n",
        "          \"Logistic Regression\" : LogisticRegression(max_iter=1000),\n",
        "          \"Random Forest\": RandomForestClassifier()}\n"
      ],
      "metadata": {
        "id": "2Rh0vsCVL5ml"
      },
      "execution_count": null,
      "outputs": []
    },
    {
      "cell_type": "markdown",
      "source": [
        "### 4.5 - Model Comparison"
      ],
      "metadata": {
        "id": "cbBHufxsS-Jg"
      }
    },
    {
      "cell_type": "code",
      "source": [
        "def fit_and_score(models, X_train, X_test, y_train, y_test):\n",
        "  np.random.seed(42)\n",
        "  model_scores = {}\n",
        "\n",
        "  for name, model in models.items():\n",
        "    model.fit(X_train, y_train)\n",
        "    model_scores[name] = model.score(X_test, y_test)\n",
        "  return model_scores"
      ],
      "metadata": {
        "id": "TIEtEPJaONnz"
      },
      "execution_count": null,
      "outputs": []
    },
    {
      "cell_type": "code",
      "source": [
        "model_scores = fit_and_score(models = models,\n",
        "                             X_train= X_train,\n",
        "                             X_test = X_test,\n",
        "                             y_train = y_train,\n",
        "                             y_test = y_test)\n",
        "\n",
        "for model, score in model_scores.items():\n",
        "    print(f\"{model}: Akurasi sebesar {score*100:.2f}%\")"
      ],
      "metadata": {
        "colab": {
          "base_uri": "https://localhost:8080/"
        },
        "id": "oZg03eJ1M8Su",
        "outputId": "f4b0649c-06b4-4ed2-a0e3-e7c57a2c520f"
      },
      "execution_count": null,
      "outputs": [
        {
          "output_type": "stream",
          "name": "stdout",
          "text": [
            "KNN: Akurasi sebesar 58.89%\n",
            "Logistic Regression: Akurasi sebesar 77.78%\n",
            "Random Forest: Akurasi sebesar 81.11%\n"
          ]
        }
      ]
    },
    {
      "cell_type": "code",
      "source": [
        "def plot_model_comparison(model_scores):\n",
        "    colors = ['salmon', 'lightblue', 'lightgreen']  # Daftar warna untuk setiap model\n",
        "\n",
        "    ax = model_scores.T.plot(kind='bar', figsize=(12, 5))\n",
        "\n",
        "    ax.set_title('Perbandingan Performa Model', fontsize=16)\n",
        "    ax.set_xlabel('Model', fontsize=14)\n",
        "    ax.set_ylabel('Akurasi' , fontsize=14)\n",
        "    ax.set_xticklabels(ax.get_xticklabels(), rotation=0)\n",
        "    ax.get_legend().remove()\n",
        "\n",
        "    for i, _ in enumerate(ax.patches):\n",
        "        height = _.get_height()\n",
        "        ax.annotate(f'{height:.2f}', (_.get_x() + _.get_width() / 2., height),\n",
        "                    ha='center', va='center', xytext=(0, 10), textcoords='offset points', fontsize=12, color='black')\n",
        "        _.set_color(colors[i % len(colors)])  # Set warna pada setiap bar\n",
        "\n",
        "    plt.show()\n",
        "\n",
        "model_compare = pd.DataFrame(model_scores, index=['accuracy'])\n",
        "plot_model_comparison(model_compare)\n"
      ],
      "metadata": {
        "colab": {
          "base_uri": "https://localhost:8080/",
          "height": 494
        },
        "id": "VXB-2z60RDaR",
        "outputId": "bb916b7a-4a54-4e62-9332-369d739ef2f8"
      },
      "execution_count": null,
      "outputs": [
        {
          "output_type": "display_data",
          "data": {
            "text/plain": [
              "<Figure size 1200x500 with 1 Axes>"
            ],
            "image/png": "[encoded data removed]"
          },
          "metadata": {}
        }
      ]
    },
    {
      "cell_type": "markdown",
      "source": [
        "## 5 - Evaluation\n",
        "---\n",
        "\n",
        "Evaluasi model dalam machine learning merupakan langkah penting untuk menilai sejauh mana model dapat memenuhi tujuan yang telah ditetapkan. Evaluasi dilakukan untuk memahami seberapa baik model dapat menggeneralisasi pola dari data yang tidak terlihat sebelumnya\n",
        "\n",
        "\n"
      ],
      "metadata": {
        "id": "1tBOE7Vc2f2_"
      }
    },
    {
      "cell_type": "markdown",
      "source": [
        "### 5.1 - Confusion Matrix and Classification Report"
      ],
      "metadata": {
        "id": "MfNYCBF6a3aK"
      }
    },
    {
      "cell_type": "markdown",
      "source": [
        "#### 5.1.1 Confusion Matrix\n",
        "\n",
        "Matriks kebingungan (confusion matrix) adalah alat evaluasi yang digunakan dalam machine learning untuk mengukur kinerja suatu model klasifikasi. Matriks ini menggambarkan performa model dengan membandingkan hasil prediksi model dengan kenyataan yang sebenarnya. Matriks kebingungan berisi empat elemen utama, yaitu True Positive (TP), True Negative (TN), False Positive (FP), dan False Negative (FN).\n",
        "\n",
        "![picture7](https://drive.google.com/uc?export=view&id=18wUDELhshhNF1GgBHVoXg-aKskHTNfZc)\n",
        "\n",
        "\n",
        "* **True Positive (TP)**:\n",
        "\n",
        "  * Jumlah observasi positif yang secara benar diprediksi oleh model sebagai positif.\n",
        "  * Contohnya jika model memprediksi pasien menderita penyakit (positif), dan pasien tersebut memang benar-benar menderita penyakit, itu dihitung sebagai True Positive.\n",
        "\n",
        "* **True Negative (TN)**:\n",
        "\n",
        "  * Jumlah observasi negatif yang secara benar diprediksi oleh model sebagai negatif.\n",
        "  * Contohnya jika model memprediksi pasien tidak menderita penyakit (negatif), dan pasien tersebut memang benar-benar tidak menderita penyakit, itu dihitung sebagai True Negative.\n",
        "\n",
        "* **False Positive (FP)**:\n",
        "\n",
        "  * Jumlah observasi negatif yang keliru diprediksi oleh model sebagai positif.\n",
        "  * Contohnya jika model memprediksi pasien menderita penyakit (positif), tetapi kenyataannya pasien tersebut tidak menderita penyakit, itu dihitung sebagai False Positive.\n",
        "\n",
        "* **False Negative (FN)**:\n",
        "\n",
        "  * Jumlah observasi positif yang keliru diprediksi oleh model sebagai negatif.\n",
        "\n",
        "  * Contohnya jika model memprediksi pasien tidak menderita penyakit (negatif), tetapi kenyataannya pasien tersebut menderita penyakit, itu dihitung sebagai False Negative.\n",
        "\n"
      ],
      "metadata": {
        "id": "HWvcYOKNqKdP"
      }
    },
    {
      "cell_type": "code",
      "source": [
        "for name, model in models.items():\n",
        "  print(f\"{name}: \")\n",
        "  print(confusion_matrix(y_test, model.predict(X_test)))"
      ],
      "metadata": {
        "colab": {
          "base_uri": "https://localhost:8080/"
        },
        "id": "MmVlsU81OakK",
        "outputId": "b25450f5-dd95-4c42-a407-9018dde4002a"
      },
      "execution_count": null,
      "outputs": [
        {
          "output_type": "stream",
          "name": "stdout",
          "text": [
            "KNN: \n",
            "[[33 15]\n",
            " [22 20]]\n",
            "Logistic Regression: \n",
            "[[37 11]\n",
            " [ 9 33]]\n",
            "Random Forest: \n",
            "[[39  9]\n",
            " [ 8 34]]\n"
          ]
        }
      ]
    },
    {
      "cell_type": "code",
      "source": [
        "fig, axes = plt.subplots(nrows=1, ncols=len(models), figsize=(15, 3))\n",
        "\n",
        "# Iterasi melalui setiap model\n",
        "for (name, model), ax in zip(models.items(), axes):\n",
        "    cm = confusion_matrix(y_test, model.predict(X_test))\n",
        "\n",
        "    # Menampilkan matriks kebingungan menggunakan heatmap\n",
        "    sns.heatmap(cm, annot=True, fmt=\"d\", cmap=\"Blues\", xticklabels=['Negative', 'Positive'], yticklabels=['Negative', 'Positive'], ax=ax)\n",
        "\n",
        "    # Menyesuaikan label dan judul\n",
        "    ax.set_xlabel(\"Predicted\")\n",
        "    ax.set_ylabel(\"Actual\")\n",
        "    ax.set_title(f\"Confusion Matrix - {name}\")\n",
        "\n",
        "# Menampilkan subplot\n",
        "plt.show()\n"
      ],
      "metadata": {
        "colab": {
          "base_uri": "https://localhost:8080/",
          "height": 333
        },
        "id": "lXMH3hiUbTxy",
        "outputId": "06a7737f-9453-4863-db0a-f55735fee1f3"
      },
      "execution_count": null,
      "outputs": [
        {
          "output_type": "display_data",
          "data": {
            "text/plain": [
              "<Figure size 1500x300 with 6 Axes>"
            ],
            "image/png": "[encoded data removed]"
          },
          "metadata": {}
        }
      ]
    },
    {
      "cell_type": "markdown",
      "source": [
        "#### 5.1.2 - Classification Report\n",
        "\n",
        "\n",
        "Classification Report adalah sebuah laporan atau ringkasan yang dapat dihasilkan menggunakan fungsi bawaan dalam library Scikit-Learn yang disebut `classification_report()`. Fungsi ini memberikan beberapa metrik utama untuk mengevaluasi performa suatu model klasifikasi. Metrik-metrik tersebut antara lain:\n",
        "\n",
        "* **Precision**: Precision adalah rasio observasi positif yang diprediksi dengan benar terhadap total positif yang diprediksi. Ini mengukur akurasi prediksi positif.\n",
        "\n",
        "> `Precision = TP / (TP + FP)`\n",
        "\n",
        "* **Recall** (Sensitivitas atau Tingkat Positif Benar): Recall adalah rasio observasi positif yang diprediksi dengan benar terhadap seluruh observasi pada kelas yang sebenarnya. Ini mengukur kemampuan model untuk menangkap semua kasus positif yang mungkin.\n",
        "\n",
        "> `Recall = TP / (TP + FN)`\n",
        "\n",
        "* **F1-Score**: F1-Score adalah rata-rata tertimbang dari precision dan recall. Ini mempertimbangkan baik false positives maupun false negatives, dan memberikan keseimbangan antara precision dan recall.\n",
        "\n",
        "> `F1-Score = 2 * ((Precision * Recall) / (Precision + Recall))`\n",
        "\n",
        "* **Support**: Support adalah jumlah kejadian aktual dari kelas tertentu dalam dataset yang ditentukan. Ini membantu memahami berapa banyak instansi aktual yang ada untuk setiap kelas.\n",
        "\n",
        "* **Akurasi**: Akurasi adalah rasio observasi yang diprediksi dengan benar terhadap total observasi. Ini mengukur kebenaran keseluruhan model.\n",
        "\n",
        "> `Akurasi = TP + TN / Total Observations`\n",
        "\n",
        "\n",
        "\n",
        "\n"
      ],
      "metadata": {
        "id": "PA6ZZJDvrAic"
      }
    },
    {
      "cell_type": "code",
      "source": [
        "for name, model in models.items():\n",
        "    print(f\"{name}: \")\n",
        "    model.fit(X_train, y_train)\n",
        "    print(classification_report(y_test, model.predict(X_test)))"
      ],
      "metadata": {
        "colab": {
          "base_uri": "https://localhost:8080/"
        },
        "id": "K7kafX4OjP-O",
        "outputId": "af71c94d-b20e-4050-c1d1-f4a2e80a2704"
      },
      "execution_count": null,
      "outputs": [
        {
          "output_type": "stream",
          "name": "stdout",
          "text": [
            "KNN: \n",
            "              precision    recall  f1-score   support\n",
            "\n",
            "           0       0.60      0.69      0.64        48\n",
            "           1       0.57      0.48      0.52        42\n",
            "\n",
            "    accuracy                           0.59        90\n",
            "   macro avg       0.59      0.58      0.58        90\n",
            "weighted avg       0.59      0.59      0.58        90\n",
            "\n",
            "Logistic Regression: \n",
            "              precision    recall  f1-score   support\n",
            "\n",
            "           0       0.80      0.77      0.79        48\n",
            "           1       0.75      0.79      0.77        42\n",
            "\n",
            "    accuracy                           0.78        90\n",
            "   macro avg       0.78      0.78      0.78        90\n",
            "weighted avg       0.78      0.78      0.78        90\n",
            "\n",
            "Random Forest: \n",
            "              precision    recall  f1-score   support\n",
            "\n",
            "           0       0.82      0.85      0.84        48\n",
            "           1       0.82      0.79      0.80        42\n",
            "\n",
            "    accuracy                           0.82        90\n",
            "   macro avg       0.82      0.82      0.82        90\n",
            "weighted avg       0.82      0.82      0.82        90\n",
            "\n"
          ]
        }
      ]
    },
    {
      "cell_type": "markdown",
      "source": [
        "### 5.2 - Hyperparameter Optimization and Cross-Validation\n",
        "\n",
        "Hyperparamter Optimization:\n",
        "* **Hyperparameter optimization** adalah proses mencari kombinasi terbaik dari hyperparameter untuk suatu model machine learning dengan tujuan meningkatkan kinerja model tersebut. Hyperparameter adalah parameter yang tidak dapat dipelajari langsung dari data selama proses pelatihan model, dan mereka harus diatur sebelum pelatihan dimulai.\n",
        "\n",
        "Cross-Validation:\n",
        "\n",
        "* **Cross-validation** adalah suatu teknik evaluasi kinerja model machine learning yang membantu mengukur sejauh mana model dapat generalisasi pada data yang belum terlihat. Tujuan utama dari cross-validation adalah untuk memberikan perkiraan yang lebih andal tentang kinerja model daripada hanya menggunakan pembagian dataset menjadi satu set pelatihan dan satu set pengujian.\n",
        "\n",
        "* Proses **cross-validation** melibatkan pembagian dataset ke dalam beberapa subset yang disebut lipatan atau \"folds.\" Model kemudian dilatih pada beberapa kombinasi lipatan dan diuji pada lipatan yang tidak digunakan selama pelatihan. Ini memungkinkan model diuji pada data yang tidak pernah terlihat selama pelatihan, sehingga memberikan gambaran yang lebih baik tentang sejauh mana model dapat beradaptasi dengan data baru."
      ],
      "metadata": {
        "id": "_rtCs2bMZcMG"
      }
    },
    {
      "cell_type": "markdown",
      "source": [
        "#### 5.2.1 - RandomizedSearchCV\n",
        "\n",
        "\n",
        "**RandomizedSearchCV**, singkatan dari Randomized Search Cross-Validation, merupakan suatu metode dalam pustaka scikit-learn yang berfungsi untuk mencari kombinasi hyperparameter secara acak dalam suatu ruang hyperparameter yang telah ditentukan sebelumnya.\n",
        "\n",
        "Dalam prosesnya, **RandomizedSearchCV** secara acak memilih kombinasi hyperparameter dari distribusi yang telah ditentukan untuk setiap parameter.\n",
        "Proses ini memungkinkan model untuk dievaluasi pada berbagai kombinasi hyperparameter, memberikan peluang yang baik untuk menemukan kombinasi yang memberikan kinerja terbaik.\n",
        "\n",
        "Setelah pencarian selesai, **RandomizedSearchCV** memberikan informasi tentang kombinasi hyperparameter terbaik dan skor evaluasi terbaik, yang dapat digunakan untuk mengoptimalkan model machine learning sebelum digunakan pada data yang belum terlihat.\n",
        "\n"
      ],
      "metadata": {
        "id": "y-AFmcrJW-2C"
      }
    },
    {
      "cell_type": "markdown",
      "source": [
        "##### 5.2.1.1 - Hyperparameter Grid"
      ],
      "metadata": {
        "id": "A9_LAoUZJ879"
      }
    },
    {
      "cell_type": "code",
      "source": [
        "# Create a hyperparameter grid for KNN\n",
        "knn_grid = {\"n_neighbors\": np.arange(1, 50),\n",
        "            \"metric\": [\"minkowski\", \"manhattan\", \"euclidean\"]\n",
        "}\n",
        "# Create a hyperparameter grid for LogisticRegression\n",
        "log_reg_grid = {\"C\": np.logspace(-8, 8, 50),\n",
        "                \"solver\": [\"liblinear\"]}\n",
        "\n",
        "# Create a hyperparameter grid for RandomForestClassifier\n",
        "rf_grid = {\"n_estimators\": np.arange(100, 1000, 50),\n",
        "           \"max_depth\": [None, 3, 5, 10, 15, 20, 25, 30, 35, 40, 50, 60],\n",
        "           \"min_samples_split\":[2, 5, 7, 9, 10],\n",
        "           \"min_samples_leaf\": [1, 2, 5],\n",
        "           \"max_features\": ['sqrt', 'log2'],\n",
        "           \"bootstrap\": [True, False]}"
      ],
      "metadata": {
        "id": "mUCw19syLwXd"
      },
      "execution_count": null,
      "outputs": []
    },
    {
      "cell_type": "markdown",
      "source": [
        " * **K-Nearest Neighbors (KNN):**\n",
        "   - `n_neighbors`: Jumlah tetangga yang akan diperhitungkan oleh model untuk membuat prediksi. Semakin besar nilainya, semakin banyak tetangga yang diperhitungkan.\n",
        "   - `metric`: Metrik jarak yang digunakan untuk mengukur jarak antara titik data. Beberapa metrik yang umum digunakan meliputi \"minkowski\", \"manhattan\", dan \"euclidean\".\n",
        "\n",
        "* **Logistic Regression:**\n",
        "   - `C`: Kebalikan kekuatan regularisasi. Nilai C yang lebih tinggi mengurangi kekuatan regularisasi, yang dapat mengakibatkan model lebih kompleks dan cenderung overfitting.\n",
        "   - `solver`: Algoritma yang digunakan untuk mengoptimalkan fungsi objektif. Dalam konteks ini, \"liblinear\" digunakan, yang cocok untuk dataset kecil hingga menengah.\n",
        "\n",
        "* **Random Forest Classifier:**\n",
        "   - `n_estimators`: Jumlah pohon keputusan dalam ensemble. Semakin banyak pohon, semakin baik, tetapi meningkatkan kompleksitas model.\n",
        "   - `max_depth`: Kedalaman maksimum setiap pohon dalam ensemble. Membatasi kedalaman dapat membantu mencegah overfitting.\n",
        "   - `min_samples_split`: Jumlah sampel minimum yang diperlukan untuk membagi node internal. Nilai yang lebih tinggi dapat mencegah pembagian yang terlalu rumit.\n",
        "   - `min_samples_leaf`: Jumlah sampel minimum yang diperlukan untuk menjadi leaf node. Nilai yang lebih tinggi dapat menghasilkan leaf node yang lebih bersih.\n",
        "   - `max_features`: Jumlah fitur yang dipertimbangkan untuk pemilihan fitur pada setiap split. \"sqrt\" berarti akar kuadrat dari jumlah fitur, dan \"log2\" berarti logaritma basis 2 dari jumlah fitur.\n",
        "   - `bootstrap`: Menentukan apakah sampel yang digunakan untuk melatih setiap pohon diambil secara acak dengan penggantian (True) atau tidak (False). Bootstraping dapat membantu meningkatkan variasi dalam model."
      ],
      "metadata": {
        "id": "f0Sbg7sDVXXh"
      }
    },
    {
      "cell_type": "markdown",
      "source": [
        "##### 5.2.1.2 - KNN"
      ],
      "metadata": {
        "id": "cGG6aBW5J93R"
      }
    },
    {
      "cell_type": "code",
      "source": [
        "np.random.seed(42)\n",
        "\n",
        "rs_knn = RandomizedSearchCV(KNeighborsClassifier(),\n",
        "                            param_distributions=knn_grid,\n",
        "                            cv=5,\n",
        "                            n_iter=20,\n",
        "                            verbose=True)\n",
        "\n",
        "rs_knn.fit(X_train, y_train);"
      ],
      "metadata": {
        "colab": {
          "base_uri": "https://localhost:8080/"
        },
        "id": "EWsH9-JHHWe6",
        "outputId": "7ac75608-e9e4-43e2-879c-770ac7d1a52e"
      },
      "execution_count": null,
      "outputs": [
        {
          "output_type": "stream",
          "name": "stdout",
          "text": [
            "Fitting 5 folds for each of 20 candidates, totalling 100 fits\n"
          ]
        }
      ]
    },
    {
      "cell_type": "code",
      "source": [
        "print(\"Best Hyperparameter: \",  rs_knn.best_params_)"
      ],
      "metadata": {
        "colab": {
          "base_uri": "https://localhost:8080/"
        },
        "id": "dYer_YeQIUHP",
        "outputId": "1c7b5a7d-0881-426b-bee4-db54922a4f2e"
      },
      "execution_count": null,
      "outputs": [
        {
          "output_type": "stream",
          "name": "stdout",
          "text": [
            "Best Hyperparameter:  {'n_neighbors': 18, 'metric': 'manhattan'}\n"
          ]
        }
      ]
    },
    {
      "cell_type": "code",
      "source": [
        "print(f\"Model Accuracy on Test Set: {rs_knn.score(X_test, y_test)*100:.2f}%\")"
      ],
      "metadata": {
        "colab": {
          "base_uri": "https://localhost:8080/"
        },
        "id": "-byRGJ7cIZeY",
        "outputId": "1d4b3551-b851-4cce-d53c-2627be2ccb6d"
      },
      "execution_count": null,
      "outputs": [
        {
          "output_type": "stream",
          "name": "stdout",
          "text": [
            "Model Accuracy on Test Set: 65.56%\n"
          ]
        }
      ]
    },
    {
      "cell_type": "code",
      "source": [
        "print(classification_report(y_test, rs_knn.predict(X_test)))\n",
        "print(\"Confusion Matrix : \\n\",confusion_matrix(y_test, rs_knn.predict(X_test)))"
      ],
      "metadata": {
        "colab": {
          "base_uri": "https://localhost:8080/"
        },
        "id": "RhZKxE2OJzZB",
        "outputId": "e89403cc-6b6e-420d-9104-664ac3617e09"
      },
      "execution_count": null,
      "outputs": [
        {
          "output_type": "stream",
          "name": "stdout",
          "text": [
            "              precision    recall  f1-score   support\n",
            "\n",
            "           0       0.66      0.73      0.69        48\n",
            "           1       0.65      0.57      0.61        42\n",
            "\n",
            "    accuracy                           0.66        90\n",
            "   macro avg       0.65      0.65      0.65        90\n",
            "weighted avg       0.65      0.66      0.65        90\n",
            "\n",
            "Confusion Matrix : \n",
            " [[35 13]\n",
            " [18 24]]\n"
          ]
        }
      ]
    },
    {
      "cell_type": "markdown",
      "source": [
        "##### 5.2.1.3 - Logistic Regression"
      ],
      "metadata": {
        "id": "QnW4VSWSJzyU"
      }
    },
    {
      "cell_type": "code",
      "source": [
        "# Tune LogisticRegression\n",
        "# Setup random seed\n",
        "np.random.seed(42)\n",
        "\n",
        "# Setup random hyperparameter search for LogisticRegression\n",
        "rs_log_reg = RandomizedSearchCV(LogisticRegression(),\n",
        "                                param_distributions=log_reg_grid,\n",
        "                                cv=5,\n",
        "                                n_iter=20,\n",
        "                                verbose=True)\n",
        "\n",
        "# Fit random hyperparameter search model for LogisticRegression\n",
        "rs_log_reg.fit(X_train, y_train);"
      ],
      "metadata": {
        "id": "FlommpK82jVI",
        "colab": {
          "base_uri": "https://localhost:8080/"
        },
        "outputId": "751e4194-fe03-480e-b68a-73e4ff520ff1"
      },
      "execution_count": null,
      "outputs": [
        {
          "output_type": "stream",
          "name": "stdout",
          "text": [
            "Fitting 5 folds for each of 20 candidates, totalling 100 fits\n"
          ]
        }
      ]
    },
    {
      "cell_type": "code",
      "source": [
        "print(\"Best Hyperparameter: \",  rs_log_reg.best_params_)"
      ],
      "metadata": {
        "colab": {
          "base_uri": "https://localhost:8080/"
        },
        "id": "liqzfWcmewx2",
        "outputId": "5118a126-272e-48d1-9a68-1ffb1d46d516"
      },
      "execution_count": null,
      "outputs": [
        {
          "output_type": "stream",
          "name": "stdout",
          "text": [
            "Best Hyperparameter:  {'solver': 'liblinear', 'C': 1.4563484775012443}\n"
          ]
        }
      ]
    },
    {
      "cell_type": "code",
      "source": [
        "print(f\"Model Accuracy on Test Set: {rs_log_reg.score(X_test, y_test)*100:.2f}%\")"
      ],
      "metadata": {
        "colab": {
          "base_uri": "https://localhost:8080/"
        },
        "id": "c0JKhiA_e7na",
        "outputId": "5ebbe2e0-748e-430c-dfac-5695c924f8d9"
      },
      "execution_count": null,
      "outputs": [
        {
          "output_type": "stream",
          "name": "stdout",
          "text": [
            "Model Accuracy on Test Set: 80.00%\n"
          ]
        }
      ]
    },
    {
      "cell_type": "code",
      "source": [
        "print(classification_report(y_test, rs_log_reg.predict(X_test)))\n",
        "print(\"Confusion Matrix : \\n\",confusion_matrix(y_test, rs_log_reg.predict(X_test)))"
      ],
      "metadata": {
        "colab": {
          "base_uri": "https://localhost:8080/"
        },
        "id": "GGo50qYPdnfe",
        "outputId": "1a0d5f87-6ee0-4001-b032-7c134094fedc"
      },
      "execution_count": null,
      "outputs": [
        {
          "output_type": "stream",
          "name": "stdout",
          "text": [
            "              precision    recall  f1-score   support\n",
            "\n",
            "           0       0.84      0.77      0.80        48\n",
            "           1       0.76      0.83      0.80        42\n",
            "\n",
            "    accuracy                           0.80        90\n",
            "   macro avg       0.80      0.80      0.80        90\n",
            "weighted avg       0.80      0.80      0.80        90\n",
            "\n",
            "Confusion Matrix : \n",
            " [[37 11]\n",
            " [ 7 35]]\n"
          ]
        }
      ]
    },
    {
      "cell_type": "markdown",
      "source": [
        "##### 5.2.1.4 - Random Forest Classifier"
      ],
      "metadata": {
        "id": "aLmaw6JNK0-8"
      }
    },
    {
      "cell_type": "code",
      "source": [
        "# Setup random seed\n",
        "np.random.seed(42)\n",
        "# Setup random hyperparameter search for RandomForestClassifier\n",
        "rs_rf = RandomizedSearchCV(RandomForestClassifier(),\n",
        "                           param_distributions=rf_grid,\n",
        "                           cv=5,\n",
        "                           n_iter=20,\n",
        "                           verbose=True,\n",
        "                           n_jobs = -1)\n",
        "\n",
        "# Fit random hyperparameter search model for RandomForestClassifier()\n",
        "rs_rf.fit(X_train, y_train);"
      ],
      "metadata": {
        "colab": {
          "base_uri": "https://localhost:8080/"
        },
        "id": "yuQmwromfLXt",
        "outputId": "80ce0f89-90f0-4086-acec-53bb59487ad3"
      },
      "execution_count": null,
      "outputs": [
        {
          "output_type": "stream",
          "name": "stdout",
          "text": [
            "Fitting 5 folds for each of 20 candidates, totalling 100 fits\n"
          ]
        }
      ]
    },
    {
      "cell_type": "code",
      "source": [
        "print(\"Best Hyperparameter: \\n\", rs_rf.best_params_)"
      ],
      "metadata": {
        "id": "Oh3VxAlifVq9",
        "colab": {
          "base_uri": "https://localhost:8080/"
        },
        "outputId": "d59858ab-8790-4f25-8510-87d6a64520b2"
      },
      "execution_count": null,
      "outputs": [
        {
          "output_type": "stream",
          "name": "stdout",
          "text": [
            "Best Hyperparameter: \n",
            " {'n_estimators': 800, 'min_samples_split': 7, 'min_samples_leaf': 1, 'max_features': 'log2', 'max_depth': 3, 'bootstrap': True}\n"
          ]
        }
      ]
    },
    {
      "cell_type": "code",
      "source": [
        "print(f\"Model Accuracy on Test Set: {rs_rf.score(X_test, y_test)*100:.2f}%\")"
      ],
      "metadata": {
        "id": "WctxKHkIfYro",
        "colab": {
          "base_uri": "https://localhost:8080/"
        },
        "outputId": "fea42668-698e-4216-c4dd-5593f585002b"
      },
      "execution_count": null,
      "outputs": [
        {
          "output_type": "stream",
          "name": "stdout",
          "text": [
            "Model Accuracy on Test Set: 80.00%\n"
          ]
        }
      ]
    },
    {
      "cell_type": "code",
      "source": [
        "print(classification_report(y_test, rs_rf.predict(X_test)))\n",
        "print(\"Confusion Matrix : \\n\",confusion_matrix(y_test, rs_rf.predict(X_test)))"
      ],
      "metadata": {
        "colab": {
          "base_uri": "https://localhost:8080/"
        },
        "id": "cNL7RL9UIfyz",
        "outputId": "f57523b8-deb7-47c5-9009-7dd12cf5b401"
      },
      "execution_count": null,
      "outputs": [
        {
          "output_type": "stream",
          "name": "stdout",
          "text": [
            "              precision    recall  f1-score   support\n",
            "\n",
            "           0       0.81      0.81      0.81        48\n",
            "           1       0.79      0.79      0.79        42\n",
            "\n",
            "    accuracy                           0.80        90\n",
            "   macro avg       0.80      0.80      0.80        90\n",
            "weighted avg       0.80      0.80      0.80        90\n",
            "\n",
            "Confusion Matrix : \n",
            " [[39  9]\n",
            " [ 9 33]]\n"
          ]
        }
      ]
    },
    {
      "cell_type": "markdown",
      "source": [
        "#### 5.2.2 - GridSearchCV\n",
        "\n",
        "Berbeda dengan RandomizedSearchCV, **GridSearchCV** adalah suatu metode dalam pustaka scikit-learn yang mengadopsi pendekatan pencarian hyperparameter dengan mencoba secara sistematis semua kombinasi yang mungkin dalam suatu ruang hyperparameter yang telah ditentukan.\n",
        "\n",
        "Dalam prosesnya, **GridSearchCV** secara eksplisit menguji setiap kombinasi hyperparameter, sehingga mencakup seluruh grid atau kisi parameter yang telah ditentukan sebelumnya.\n",
        "\n",
        "Meskipun pendekatan ini dapat memastikan bahwa seluruh ruang hyperparameter telah dieksplorasi, pendekatan ini dapat memerlukan komputasi yang intensif, terutama jika ruang hyperparameternya besar.\n",
        "\n",
        "Dengan mencoba semua kombinasi, **GridSearchCV** memberikan gambaran menyeluruh tentang kinerja model pada seluruh ruang hyperparameter, namun dapat memerlukan waktu yang lebih lama dibandingkan dengan pendekatan acak yang digunakan oleh RandomizedSearchCV.\n",
        "\n",
        "Keputusan antara kedua metode ini tergantung pada trade-off antara kepastian dan efisiensi dalam proses pencarian hyperparameter."
      ],
      "metadata": {
        "id": "nuGLy2Inax1d"
      }
    },
    {
      "cell_type": "markdown",
      "source": [
        "##### 5.2.2.1 - Hyperparameter Grid"
      ],
      "metadata": {
        "id": "lnccjv2Eq1KL"
      }
    },
    {
      "cell_type": "code",
      "source": [
        "# Create a hyperparameter grid for KNN\n",
        "knn_grid2 = {\"n_neighbors\": np.arange(1, 50),\n",
        "            \"metric\": [\"minkowski\", \"manhattan\", \"euclidean\"]\n",
        "}\n",
        "\n",
        "# Create a hyperparameter grid for LogisticRegression\n",
        "log_reg_grid2 = {\"C\": np.logspace(-8, 8, 50),\n",
        "                 \"solver\": [ \"liblinear\" ]\n",
        "                  }\n",
        "# Create a hyperparameter grid for RandomForestClassifier\n",
        "rf_grid2 = {\"n_estimators\": np.arange(100, 1000, 50),\n",
        "           \"max_depth\": [None, 3, 5, 10, 60],\n",
        "           \"min_samples_split\": [2],\n",
        "           \"min_samples_leaf\": [1],\n",
        "            \"max_features\": [0.5 ,'sqrt', 'log2'],\n",
        "            \"bootstrap\": [True, False]}"
      ],
      "metadata": {
        "id": "pgdE00VgZnzG"
      },
      "execution_count": null,
      "outputs": []
    },
    {
      "cell_type": "markdown",
      "source": [
        "##### 5.2.2.2 - KNN"
      ],
      "metadata": {
        "id": "JAY7VuPPquZR"
      }
    },
    {
      "cell_type": "code",
      "source": [
        "np.random.seed(42)\n",
        "# Setup grid hyperparameter search for LogisticRegression\n",
        "gs_knn = GridSearchCV(KNeighborsClassifier(),\n",
        "                          param_grid=knn_grid2,\n",
        "                          cv=5,\n",
        "                          verbose=True)\n",
        "\n",
        "# Fit grid hyperparameter search model\n",
        "gs_knn.fit(X_train, y_train);"
      ],
      "metadata": {
        "colab": {
          "base_uri": "https://localhost:8080/"
        },
        "id": "XXmL3UV0R717",
        "outputId": "1d369196-5323-42b4-ed43-c6f78baed812"
      },
      "execution_count": null,
      "outputs": [
        {
          "output_type": "stream",
          "name": "stdout",
          "text": [
            "Fitting 5 folds for each of 147 candidates, totalling 735 fits\n"
          ]
        }
      ]
    },
    {
      "cell_type": "code",
      "source": [
        "print(\"Best Hyperparameter: \", gs_knn.best_params_)"
      ],
      "metadata": {
        "colab": {
          "base_uri": "https://localhost:8080/"
        },
        "id": "MyNgY3caqUdA",
        "outputId": "33ff1a98-734f-44f2-e2cd-ac37fe9d7ca8"
      },
      "execution_count": null,
      "outputs": [
        {
          "output_type": "stream",
          "name": "stdout",
          "text": [
            "Best Hyperparameter:  {'metric': 'manhattan', 'n_neighbors': 18}\n"
          ]
        }
      ]
    },
    {
      "cell_type": "code",
      "source": [
        "print(f\"Model Accuracy on Test Set: {gs_knn.score(X_test, y_test)*100:.2f}%\")"
      ],
      "metadata": {
        "colab": {
          "base_uri": "https://localhost:8080/"
        },
        "id": "H6Z7UsJoqoYj",
        "outputId": "30656add-c658-47e3-fffd-deb343b981d5"
      },
      "execution_count": null,
      "outputs": [
        {
          "output_type": "stream",
          "name": "stdout",
          "text": [
            "Model Accuracy on Test Set: 65.56%\n"
          ]
        }
      ]
    },
    {
      "cell_type": "markdown",
      "source": [
        "##### 5.2.2.3 - Logistic Regression"
      ],
      "metadata": {
        "id": "8TkhsO4ZqtYY"
      }
    },
    {
      "cell_type": "code",
      "source": [
        "np.random.seed(42)\n",
        "# Setup grid hyperparameter search for LogisticRegression\n",
        "gs_log_reg = GridSearchCV(LogisticRegression(),\n",
        "                          param_grid=log_reg_grid2,\n",
        "                          cv=5,\n",
        "                          verbose=True)\n",
        "\n",
        "# Fit grid hyperparameter search model\n",
        "gs_log_reg.fit(X_train, y_train);"
      ],
      "metadata": {
        "id": "BwDvG4_ulhM4",
        "colab": {
          "base_uri": "https://localhost:8080/"
        },
        "outputId": "80c6f0ea-1ff5-45c3-8859-d0a1d1511fb4"
      },
      "execution_count": null,
      "outputs": [
        {
          "output_type": "stream",
          "name": "stdout",
          "text": [
            "Fitting 5 folds for each of 50 candidates, totalling 250 fits\n"
          ]
        }
      ]
    },
    {
      "cell_type": "code",
      "source": [
        "print(\"Best Hyperparameter: \", gs_log_reg.best_params_ )"
      ],
      "metadata": {
        "id": "dznKkC-pl1Rt",
        "colab": {
          "base_uri": "https://localhost:8080/"
        },
        "outputId": "7f4d9144-abbe-4e8b-866f-5bbc9c7da7a3"
      },
      "execution_count": null,
      "outputs": [
        {
          "output_type": "stream",
          "name": "stdout",
          "text": [
            "Best Hyperparameter:  {'C': 0.07196856730011514, 'solver': 'liblinear'}\n"
          ]
        }
      ]
    },
    {
      "cell_type": "code",
      "source": [
        "print(f\"Model Accuracy on Test Set: {gs_log_reg.score(X_test, y_test)*100:.2f}%\")"
      ],
      "metadata": {
        "id": "wMh3XDowl7L-",
        "colab": {
          "base_uri": "https://localhost:8080/"
        },
        "outputId": "68567a06-3334-4d95-ae5d-4e1e2e6068e9"
      },
      "execution_count": null,
      "outputs": [
        {
          "output_type": "stream",
          "name": "stdout",
          "text": [
            "Model Accuracy on Test Set: 77.78%\n"
          ]
        }
      ]
    },
    {
      "cell_type": "markdown",
      "source": [
        "##### 5.2.2.4 - Random Forest Classifier"
      ],
      "metadata": {
        "id": "u8EDqsQXq3cr"
      }
    },
    {
      "cell_type": "code",
      "source": [
        "np.random.seed(42)\n",
        "\n",
        "gs_rf = GridSearchCV(RandomForestClassifier(),\n",
        "                              param_grid = rf_grid2,\n",
        "                              cv=5,\n",
        "                              verbose=True,\n",
        "                              n_jobs = -1)\n",
        "\n",
        "gs_rf.fit(X_train, y_train);\n"
      ],
      "metadata": {
        "id": "YGlobFIbmW3f",
        "colab": {
          "base_uri": "https://localhost:8080/"
        },
        "outputId": "67c29f4e-fcf1-4b7f-c34e-de7357ebd554"
      },
      "execution_count": null,
      "outputs": [
        {
          "output_type": "stream",
          "name": "stdout",
          "text": [
            "Fitting 5 folds for each of 540 candidates, totalling 2700 fits\n"
          ]
        }
      ]
    },
    {
      "cell_type": "code",
      "source": [
        "print(\"Best Hyperparameter: \\n\", gs_rf.best_params_)"
      ],
      "metadata": {
        "id": "rq063shwml7i",
        "colab": {
          "base_uri": "https://localhost:8080/"
        },
        "outputId": "bea6f6d1-3eb9-4dd4-9925-977644369484"
      },
      "execution_count": null,
      "outputs": [
        {
          "output_type": "stream",
          "name": "stdout",
          "text": [
            "Best Hyperparameter: \n",
            " {'bootstrap': True, 'max_depth': 3, 'max_features': 'log2', 'min_samples_leaf': 1, 'min_samples_split': 2, 'n_estimators': 100}\n"
          ]
        }
      ]
    },
    {
      "cell_type": "code",
      "source": [
        "print(f\"Model Accuracy on Test Set: {gs_rf.score(X_test, y_test)*100:.2f}%\")"
      ],
      "metadata": {
        "id": "f3g0dXxEco_-",
        "colab": {
          "base_uri": "https://localhost:8080/"
        },
        "outputId": "bbb02de0-80a5-49a5-8671-53ab6cb84d8c"
      },
      "execution_count": null,
      "outputs": [
        {
          "output_type": "stream",
          "name": "stdout",
          "text": [
            "Model Accuracy on Test Set: 78.89%\n"
          ]
        }
      ]
    },
    {
      "cell_type": "markdown",
      "source": [
        "### 5.3 - Finding the Best Model after Hyperparameter Tuning"
      ],
      "metadata": {
        "id": "IEo4NVHeDuj7"
      }
    },
    {
      "cell_type": "code",
      "source": [
        "np.random.seed(42)\n",
        "knn_tuned = KNeighborsClassifier(n_neighbors = 18, metric = 'manhattan')\n",
        "log_reg_tuned =  LogisticRegression (solver = 'liblinear', C = 1.4563484775012443)\n",
        "rf_tuned = RandomForestClassifier(n_estimators= 600, min_samples_split= 2, min_samples_leaf= 1,\n",
        "                                  max_features='log2' , max_depth = 15, bootstrap = True )\n",
        "\n",
        "new_models = {\"KNN\" : knn_tuned,\n",
        "              \"Logistic Regression\" : log_reg_tuned,\n",
        "              \"Random Forest\" : rf_tuned}"
      ],
      "metadata": {
        "id": "RJFqEnm_EA8y"
      },
      "execution_count": null,
      "outputs": []
    },
    {
      "cell_type": "markdown",
      "source": [
        "#### 5.3.1 - Single Test Set\n",
        "\n",
        "Pada tahap ini, model dievaluasi berdasarkan satu set data pengujian yang belum pernah dilihat sebelumnya.\n",
        "\n",
        "Hasil analisis ini menunjukkan bagaimana model dapat menggeneralisasi informasi ke data baru yang bukan bagian dari proses pelatihan."
      ],
      "metadata": {
        "id": "HEzyf7zvEUXB"
      }
    },
    {
      "cell_type": "markdown",
      "source": [
        "##### 5.3.1.1 - Model Scores"
      ],
      "metadata": {
        "id": "t4zsgXjZdjOC"
      }
    },
    {
      "cell_type": "code",
      "source": [
        "np.random.seed(42)\n",
        "def fit_and_score2(models, X_train, X_test, y_train, y_test):\n",
        "  model_scores = {}\n",
        "\n",
        "  for name, model in new_models.items():\n",
        "    model.fit(X_train, y_train)\n",
        "    model_scores[name] = model.score(X_test, y_test)\n",
        "  return model_scores"
      ],
      "metadata": {
        "id": "3pf6z8Z9iMjF"
      },
      "execution_count": null,
      "outputs": []
    },
    {
      "cell_type": "code",
      "source": [
        "new_model_scores = fit_and_score2(models = new_models,\n",
        "                             X_train= X_train,\n",
        "                             X_test = X_test,\n",
        "                             y_train = y_train,\n",
        "                             y_test = y_test)\n",
        "\n",
        "for model, score in new_model_scores.items():\n",
        "    print(f\"{model}: Akurasi sebesar {score*100:.2f}%\")"
      ],
      "metadata": {
        "colab": {
          "base_uri": "https://localhost:8080/"
        },
        "id": "p_tBpUfWkrI7",
        "outputId": "3a0ad5cb-7730-4f2a-a352-16e7f561b292"
      },
      "execution_count": null,
      "outputs": [
        {
          "output_type": "stream",
          "name": "stdout",
          "text": [
            "KNN: Akurasi sebesar 65.56%\n",
            "Logistic Regression: Akurasi sebesar 80.00%\n",
            "Random Forest: Akurasi sebesar 82.22%\n"
          ]
        }
      ]
    },
    {
      "cell_type": "code",
      "source": [
        "def plot_model_comparison(new_model_scores):\n",
        "    colors = ['salmon', 'lightblue', 'lightgreen']\n",
        "\n",
        "    ax = new_model_scores.T.plot(kind='bar', figsize=(12, 5))\n",
        "\n",
        "    ax.set_title('Perbandingan Performa Model', fontsize=16)\n",
        "    ax.set_xlabel('Model', fontsize=14)\n",
        "    ax.set_ylabel('Akurasi' , fontsize=14)\n",
        "    ax.set_xticklabels(ax.get_xticklabels(), rotation=0)\n",
        "    ax.get_legend().remove()\n",
        "\n",
        "    for i, _ in enumerate(ax.patches):\n",
        "        height = _.get_height()\n",
        "        ax.annotate(f'{height:.2f}', (_.get_x() + _.get_width() / 2., height),\n",
        "                    ha='center', va='center', xytext=(0, 10), textcoords='offset points', fontsize=12, color='black')\n",
        "        _.set_color(colors[i % len(colors)])\n",
        "\n",
        "    plt.show()\n",
        "\n",
        "model_compare = pd.DataFrame(new_model_scores, index=['accuracy'])\n",
        "plot_model_comparison(model_compare)"
      ],
      "metadata": {
        "colab": {
          "base_uri": "https://localhost:8080/",
          "height": 494
        },
        "id": "I_-jr_tolGIp",
        "outputId": "b62d3988-75f4-4848-e5b2-ad08526fd33d"
      },
      "execution_count": null,
      "outputs": [
        {
          "output_type": "display_data",
          "data": {
            "text/plain": [
              "<Figure size 1200x500 with 1 Axes>"
            ],
            "image/png": "[encoded data removed]"
          },
          "metadata": {}
        }
      ]
    },
    {
      "cell_type": "markdown",
      "source": [
        "##### 5.3.1.2 - Confusion Matrix"
      ],
      "metadata": {
        "id": "PwkvuBYTnbMK"
      }
    },
    {
      "cell_type": "code",
      "source": [
        "fig, axes = plt.subplots(nrows=1, ncols=len(new_models), figsize=(15, 3))\n",
        "\n",
        "# Iterasi melalui setiap model\n",
        "for (name, model), ax in zip(new_models.items(), axes):\n",
        "    cm = confusion_matrix(y_test, model.predict(X_test))\n",
        "\n",
        "    # Menampilkan matriks kebingungan menggunakan heatmap\n",
        "    sns.heatmap(cm, annot=True, fmt=\"d\", cmap=\"Blues\", xticklabels=['Negative', 'Positive'], yticklabels=['Negative', 'Positive'], ax=ax)\n",
        "\n",
        "    # Menyesuaikan label dan judul\n",
        "    ax.set_xlabel(\"Predicted\")\n",
        "    ax.set_ylabel(\"Actual\")\n",
        "    ax.set_title(f\"Confusion Matrix - {name}\")\n",
        "\n",
        "# Menampilkan subplot\n",
        "plt.show()"
      ],
      "metadata": {
        "colab": {
          "base_uri": "https://localhost:8080/",
          "height": 333
        },
        "id": "7gMJKIWk55hw",
        "outputId": "7f362cd4-7eef-4a9c-d2a1-e9513d838c6c"
      },
      "execution_count": null,
      "outputs": [
        {
          "output_type": "display_data",
          "data": {
            "text/plain": [
              "<Figure size 1500x300 with 6 Axes>"
            ],
            "image/png": "[encoded data removed]"
          },
          "metadata": {}
        }
      ]
    },
    {
      "cell_type": "markdown",
      "source": [
        "##### 5.3.1.3 - Classification Report"
      ],
      "metadata": {
        "id": "KytCpeTZvYgb"
      }
    },
    {
      "cell_type": "code",
      "source": [
        "for name, model in new_models.items():\n",
        "    print(f\"{name}: \")\n",
        "    model.fit(X_train, y_train)\n",
        "    print(classification_report(y_test, model.predict(X_test)))"
      ],
      "metadata": {
        "colab": {
          "base_uri": "https://localhost:8080/"
        },
        "id": "WfgiGQrg-QL5",
        "outputId": "9031978a-4179-4309-b61e-5f782b6c0766"
      },
      "execution_count": null,
      "outputs": [
        {
          "output_type": "stream",
          "name": "stdout",
          "text": [
            "KNN: \n",
            "              precision    recall  f1-score   support\n",
            "\n",
            "           0       0.66      0.73      0.69        48\n",
            "           1       0.65      0.57      0.61        42\n",
            "\n",
            "    accuracy                           0.66        90\n",
            "   macro avg       0.65      0.65      0.65        90\n",
            "weighted avg       0.65      0.66      0.65        90\n",
            "\n",
            "Logistic Regression: \n",
            "              precision    recall  f1-score   support\n",
            "\n",
            "           0       0.84      0.77      0.80        48\n",
            "           1       0.76      0.83      0.80        42\n",
            "\n",
            "    accuracy                           0.80        90\n",
            "   macro avg       0.80      0.80      0.80        90\n",
            "weighted avg       0.80      0.80      0.80        90\n",
            "\n",
            "Random Forest: \n",
            "              precision    recall  f1-score   support\n",
            "\n",
            "           0       0.85      0.81      0.83        48\n",
            "           1       0.80      0.83      0.81        42\n",
            "\n",
            "    accuracy                           0.82        90\n",
            "   macro avg       0.82      0.82      0.82        90\n",
            "weighted avg       0.82      0.82      0.82        90\n",
            "\n"
          ]
        }
      ]
    },
    {
      "cell_type": "markdown",
      "source": [
        "#### 5.3.2 - Cross-Validation Assessment\n",
        "Dalam langkah ini, performa model dinilai dengan menggunakan metode cross-validation, di mana dataset dibagi menjadi beberapa lipatan (folds). Model diuji secara iteratif pada setiap lipatan, sementara lipatan lainnya digunakan untuk pelatihan.\n",
        "\n",
        "Perbandingan hasil kinerja dari setiap iterasi memberikan gambaran yang dapat diandalkan tentang seberapa baik model dapat beradaptasi dengan variasi dalam data dan menghindari overfitting atau underfitting.\n",
        "\n",
        "![picture8](https://drive.google.com/uc?export=view&id=1Vp0T1F6T2RelBVpXmA51BeorkJf550T3)\n",
        "\n",
        "K-fold cross-validation (k=5) adalah metode evaluasi model machine learning yang membagi dataset menjadi k subset, kemudian secara iteratif melatih model pada k-1 subset dan mengujinya pada subset yang tidak dilatih. Proses ini diulang sebanyak k kali untuk memberikan estimasi akurasi rata-rata yang lebih stabil.\n",
        "\n",
        "\n",
        "\n",
        "\n",
        "\n"
      ],
      "metadata": {
        "id": "EBLK0LcoEjjq"
      }
    },
    {
      "cell_type": "markdown",
      "source": [
        "##### 5.3.2.1 - Accuracy"
      ],
      "metadata": {
        "id": "e3NU8E83Ufqt"
      }
    },
    {
      "cell_type": "code",
      "source": [
        "np.random.seed(42)\n",
        "\n",
        "accuracy_table_data = []\n",
        "\n",
        "for name, model in new_models.items():\n",
        "    # Lakukan cross-validation untuk mendapatkan akurasi\n",
        "    cv_accuracy = cross_val_score(model, X, y, cv=5, scoring=\"accuracy\")\n",
        "\n",
        "    # Hitung dan cetak rata-rata akurasi untuk setiap model\n",
        "    mean_accuracy = np.mean(cv_accuracy)\n",
        "\n",
        "    # Tambahkan data ke tabel\n",
        "    accuracy_table_data.append([name, *cv_accuracy, mean_accuracy])\n",
        "\n",
        "# Header tabel\n",
        "table_header = [\"Model\", \"Fold 1\", \"Fold 2\", \"Fold 3\", \"Fold 4\", \"Fold 5\", \"Mean accuracy\"]\n",
        "\n",
        "# Cetak tabel menggunakan tabulate\n",
        "print(tabulate(accuracy_table_data, headers=table_header, tablefmt=\"fancy_grid\"))"
      ],
      "metadata": {
        "colab": {
          "base_uri": "https://localhost:8080/"
        },
        "id": "AFFOfg-CndQe",
        "outputId": "25d58228-03f3-4b9d-92ae-4acb6704d577"
      },
      "execution_count": null,
      "outputs": [
        {
          "output_type": "stream",
          "name": "stdout",
          "text": [
            "╒═════════════════════╤══════════╤══════════╤══════════╤══════════╤══════════╤═════════════════╕\n",
            "│ Model               │   Fold 1 │   Fold 2 │   Fold 3 │   Fold 4 │   Fold 5 │   Mean accuracy │\n",
            "╞═════════════════════╪══════════╪══════════╪══════════╪══════════╪══════════╪═════════════════╡\n",
            "│ KNN                 │ 0.633333 │ 0.733333 │ 0.728814 │ 0.779661 │ 0.576271 │        0.690282 │\n",
            "├─────────────────────┼──────────┼──────────┼──────────┼──────────┼──────────┼─────────────────┤\n",
            "│ Logistic Regression │ 0.616667 │ 0.883333 │ 0.813559 │ 0.932203 │ 0.830508 │        0.815254 │\n",
            "├─────────────────────┼──────────┼──────────┼──────────┼──────────┼──────────┼─────────────────┤\n",
            "│ Random Forest       │ 0.566667 │ 0.833333 │ 0.79661  │ 0.915254 │ 0.559322 │        0.734237 │\n",
            "╘═════════════════════╧══════════╧══════════╧══════════╧══════════╧══════════╧═════════════════╛\n"
          ]
        }
      ]
    },
    {
      "cell_type": "markdown",
      "source": [
        "##### 5.3.2.2 - Precision"
      ],
      "metadata": {
        "id": "DdYfUQt6Unou"
      }
    },
    {
      "cell_type": "code",
      "source": [
        "np.random.seed(42)\n",
        "\n",
        "precision_table_data = []\n",
        "\n",
        "for name, model in new_models.items():\n",
        "    # Lakukan cross-validation untuk mendapatkan akurasi\n",
        "    cv_precision = cross_val_score(model, X, y, cv=5, scoring=\"precision\")\n",
        "\n",
        "    # Hitung dan cetak rata-rata akurasi untuk setiap model\n",
        "    mean_precision = np.mean(cv_precision)\n",
        "\n",
        "    # Tambahkan data ke tabel\n",
        "    precision_table_data.append([name, *cv_precision, mean_precision])\n",
        "\n",
        "# Header tabel\n",
        "table_header = [\"Model\", \"Fold 1\", \"Fold 2\", \"Fold 3\", \"Fold 4\", \"Fold 5\", \"Mean precision\"]\n",
        "\n",
        "# Cetak tabel menggunakan tabulate\n",
        "print(tabulate(precision_table_data, headers=table_header, tablefmt=\"fancy_grid\"))"
      ],
      "metadata": {
        "colab": {
          "base_uri": "https://localhost:8080/"
        },
        "id": "jshOJRosq9Mk",
        "outputId": "05f916e5-63a9-47a2-80a8-99d96f701ad9"
      },
      "execution_count": null,
      "outputs": [
        {
          "output_type": "stream",
          "name": "stdout",
          "text": [
            "╒═════════════════════╤══════════╤══════════╤══════════╤══════════╤══════════╤══════════════════╕\n",
            "│ Model               │   Fold 1 │   Fold 2 │   Fold 3 │   Fold 4 │   Fold 5 │   Mean precision │\n",
            "╞═════════════════════╪══════════╪══════════╪══════════╪══════════╪══════════╪══════════════════╡\n",
            "│ KNN                 │ 0.666667 │ 0.833333 │ 0.72     │ 0.791667 │ 0.5625   │         0.714833 │\n",
            "├─────────────────────┼──────────┼──────────┼──────────┼──────────┼──────────┼──────────────────┤\n",
            "│ Logistic Regression │ 1        │ 0.92     │ 0.766667 │ 0.870968 │ 0.793103 │         0.870148 │\n",
            "├─────────────────────┼──────────┼──────────┼──────────┼──────────┼──────────┼──────────────────┤\n",
            "│ Random Forest       │ 0.75     │ 0.909091 │ 0.741935 │ 0.84375  │ 0.510204 │         0.750996 │\n",
            "╘═════════════════════╧══════════╧══════════╧══════════╧══════════╧══════════╧══════════════════╛\n"
          ]
        }
      ]
    },
    {
      "cell_type": "markdown",
      "source": [
        "##### 5.3.2.3 - Recall"
      ],
      "metadata": {
        "id": "8r7QRLeaUzoG"
      }
    },
    {
      "cell_type": "code",
      "source": [
        "np.random.seed(42)\n",
        "\n",
        "recall_table_data = []\n",
        "\n",
        "for name, model in new_models.items():\n",
        "    # Lakukan cross-validation untuk mendapatkan akurasi\n",
        "    cv_recall = cross_val_score(model, X, y, cv=5, scoring=\"recall\")\n",
        "\n",
        "    # Hitung dan cetak rata-rata akurasi untuk setiap model\n",
        "    mean_recall = np.mean(cv_recall)\n",
        "\n",
        "    # Tambahkan data ke tabel\n",
        "    recall_table_data.append([name, *cv_recall, mean_recall])\n",
        "\n",
        "# Header tabel\n",
        "table_header = [\"Model\", \"Fold 1\", \"Fold 2\", \"Fold 3\", \"Fold 4\", \"Fold 5\", \"Mean recall\"]\n",
        "\n",
        "# Cetak tabel menggunakan tabulate\n",
        "print(tabulate(recall_table_data, headers=table_header, tablefmt=\"fancy_grid\"))"
      ],
      "metadata": {
        "colab": {
          "base_uri": "https://localhost:8080/"
        },
        "id": "0-nV4TkdLaxn",
        "outputId": "12dd12eb-54db-49b4-fc43-3f1efb5c51f9"
      },
      "execution_count": null,
      "outputs": [
        {
          "output_type": "stream",
          "name": "stdout",
          "text": [
            "╒═════════════════════╤══════════╤══════════╤══════════╤══════════╤══════════╤═══════════════╕\n",
            "│ Model               │   Fold 1 │   Fold 2 │   Fold 3 │   Fold 4 │   Fold 5 │   Mean recall │\n",
            "╞═════════════════════╪══════════╪══════════╪══════════╪══════════╪══════════╪═══════════════╡\n",
            "│ KNN                 │ 0.428571 │ 0.535714 │ 0.666667 │ 0.703704 │ 0.333333 │      0.533598 │\n",
            "├─────────────────────┼──────────┼──────────┼──────────┼──────────┼──────────┼───────────────┤\n",
            "│ Logistic Regression │ 0.178571 │ 0.821429 │ 0.851852 │ 1        │ 0.851852 │      0.740741 │\n",
            "├─────────────────────┼──────────┼──────────┼──────────┼──────────┼──────────┼───────────────┤\n",
            "│ Random Forest       │ 0.107143 │ 0.714286 │ 0.851852 │ 1        │ 0.925926 │      0.719841 │\n",
            "╘═════════════════════╧══════════╧══════════╧══════════╧══════════╧══════════╧═══════════════╛\n"
          ]
        }
      ]
    },
    {
      "cell_type": "markdown",
      "source": [
        "##### 5.3.2.4 - F1-score"
      ],
      "metadata": {
        "id": "TWsuhbGVU3p0"
      }
    },
    {
      "cell_type": "code",
      "source": [
        "np.random.seed(42)\n",
        "\n",
        "f1_table_data = []\n",
        "\n",
        "for name, model in new_models.items():\n",
        "    # Lakukan cross-validation untuk mendapatkan akurasi\n",
        "    cv_f1 = cross_val_score(model, X, y, cv=5, scoring=\"f1\")\n",
        "\n",
        "    # Hitung dan cetak rata-rata akurasi untuk setiap model\n",
        "    mean_f1 = np.mean(cv_f1)\n",
        "\n",
        "    # Tambahkan data ke tabel\n",
        "    f1_table_data.append([name, *cv_f1, mean_f1])\n",
        "\n",
        "# Header tabel\n",
        "table_header = [\"Model\", \"Fold 1\", \"Fold 2\", \"Fold 3\", \"Fold 4\", \"Fold 5\", \"Mean f1-score\"]\n",
        "\n",
        "# Cetak tabel menggunakan tabulate\n",
        "print(tabulate(f1_table_data, headers=table_header, tablefmt=\"fancy_grid\"))"
      ],
      "metadata": {
        "colab": {
          "base_uri": "https://localhost:8080/"
        },
        "id": "AH9T0htuRZPZ",
        "outputId": "901c11ad-3409-47de-cea4-a1a95246c9fe"
      },
      "execution_count": null,
      "outputs": [
        {
          "output_type": "stream",
          "name": "stdout",
          "text": [
            "╒═════════════════════╤══════════╤══════════╤══════════╤══════════╤══════════╤═════════════════╕\n",
            "│ Model               │   Fold 1 │   Fold 2 │   Fold 3 │   Fold 4 │   Fold 5 │   Mean f1-score │\n",
            "╞═════════════════════╪══════════╪══════════╪══════════╪══════════╪══════════╪═════════════════╡\n",
            "│ KNN                 │ 0.521739 │ 0.652174 │ 0.692308 │ 0.745098 │ 0.418605 │        0.605985 │\n",
            "├─────────────────────┼──────────┼──────────┼──────────┼──────────┼──────────┼─────────────────┤\n",
            "│ Logistic Regression │ 0.30303  │ 0.867925 │ 0.807018 │ 0.931034 │ 0.821429 │        0.746087 │\n",
            "├─────────────────────┼──────────┼──────────┼──────────┼──────────┼──────────┼─────────────────┤\n",
            "│ Random Forest       │ 0.1875   │ 0.8      │ 0.793103 │ 0.915254 │ 0.657895 │        0.67075  │\n",
            "╘═════════════════════╧══════════╧══════════╧══════════╧══════════╧══════════╧═════════════════╛\n"
          ]
        }
      ]
    },
    {
      "cell_type": "markdown",
      "source": [
        "##### 5.3.2.5 - Comparison of Model Metrics"
      ],
      "metadata": {
        "id": "B3NNK6qROAWl"
      }
    },
    {
      "cell_type": "code",
      "source": [
        "mdls = [\"KNN\", \"Logistic Regression\", \"Random Forest\"]\n",
        "metrics = [\"Accuracy\", \"Precision\", \"Recall\", \"F1 Score\"]\n",
        "\n",
        "cv_metrics = {}\n",
        "j = 6\n",
        "\n",
        "for i, model in enumerate(mdls):\n",
        "    cv_metrics[model] = [accuracy_table_data[i][j],\n",
        "                         precision_table_data[i][j],\n",
        "                         recall_table_data[i][j],\n",
        "                         f1_table_data[i][j]]\n",
        "\n",
        "fig, axes = plt.subplots(nrows=2, ncols=2, figsize=(10, 8))\n",
        "fig.suptitle('Comparison of Model Metrics', fontsize=16)\n",
        "\n",
        "for i, metric in enumerate(metrics):\n",
        "    row = i // 2\n",
        "    col = i % 2\n",
        "\n",
        "    # Menampilkan bar plot untuk setiap model\n",
        "    bars = axes[row, col].bar(mdls, [cv_metrics[model][i] for model in mdls],\n",
        "                              color=['salmon', 'lightblue', 'lightgreen'])\n",
        "    axes[row, col].set_title(metric)\n",
        "    axes[row, col].set_ylim([0, 1])\n",
        "    axes[row, col].set_title(metric)\n",
        "    axes[row, col].set_ylim([0, 1])\n",
        "\n",
        "    for j, (bar, value) in enumerate(zip(bars, cv_metrics.values())):\n",
        "      axes[row, col].text(bar.get_x() + bar.get_width() / 2 - 0.1, bar.get_height() + 0.02,\n",
        "                          f'{value[i]:.2f}', fontsize=10)\n",
        "\n",
        "# Menyusun subplot\n",
        "plt.tight_layout(rect=[0, 0.03, 1, 0.95])\n",
        "plt.show()"
      ],
      "metadata": {
        "colab": {
          "base_uri": "https://localhost:8080/",
          "height": 782
        },
        "id": "DbVBEp6acvAN",
        "outputId": "e921ceaa-b8a0-4934-ca11-c071a64ed98b"
      },
      "execution_count": null,
      "outputs": [
        {
          "output_type": "display_data",
          "data": {
            "text/plain": [
              "<Figure size 1000x800 with 4 Axes>"
            ],
            "image/png": "[encoded data removed]"
          },
          "metadata": {}
        }
      ]
    },
    {
      "cell_type": "markdown",
      "source": [
        "### 5.4 - Optimal Model Selection\n",
        "\n",
        "Dalam evaluasi menggunakan **single Test Set**, model Random Forest mencapai skor tertinggi, menunjukkan keefektifannya pada situasi pengujian individual. Meskipun demikian, ketika melibatkan pengujian **cross-validation**, model Logistic Regression menunjukkan keunggulan yang konsisten dengan skor yang lebih baik secara keseluruhan. Variabilitas kinerja antara kedua model dapat dijelaskan oleh fakta bahwa Random Forest mungkin lebih cocok untuk keadaan pengujian tertentu, sementara Logistic Regression menonjol dalam konsistensi dan unggulan pada berbagai kondisi dalam **cross-validation**.\n",
        "\n",
        "\n",
        "Dalam konteks dataset yang terbatas seperti pada proyek ini yang hanya terdiri dari 297 dataset, penggunaan **cross-validation** mungkin lebih optimal. Dengan jumlah data yang terbatas, **cross-validation** memberikan keunggulan dalam memberikan estimasi yang lebih stabil terkait kinerja model, jika dibandingkan dengan keterbatasan yang mungkin muncul ketika hanya menggunakan **single test set**. Dengan cara ini, **cross-validation** memberikan gambaran yang lebih lengkap dan dapat diandalkan tentang kemampuan model dalam menanggapi variasi data yang terbatas.\n",
        "\n",
        "Dengan hasil ini, kesimpulan proyek ini menegaskan bahwa model **Logistic Regression** adalah pilihan yang optimal untuk prediksi penyakit jantung.  Model ini menunjukkan konsistensi dan keunggulan kinerja yang konsisten dalam berbagai kondisi pengujian.\n",
        "\n",
        "\n"
      ],
      "metadata": {
        "id": "fJPAlSGUvWab"
      }
    },
    {
      "cell_type": "markdown",
      "source": [
        "### 5.5 - Feature Importance\n",
        "\n",
        "Dikarenakan model **Logistic Regression** terbukti menjadi pilihan yang optimal, langkah berikutnya adalah mengeksplorasi feature importance pada model terbaik ini. Proses ini bertujuan untuk mengidentifikasi dan menilai kontribusi relatif dari setiap fitur dalam pengambilan keputusan oleh model **Logistic Regression**.\n",
        "\n",
        "Dengan memahami feature importance, kita dapat mendapatkan pemahaman yang lebih baik tentang faktor-faktor krusial yang memengaruhi prediksi model, memperkuat interpretasi hasil dan membimbing pengambilan keputusan yang lebih informatif."
      ],
      "metadata": {
        "id": "8IKNVMQtuio2"
      }
    },
    {
      "cell_type": "markdown",
      "source": [
        "> 1. **age**: usia\n",
        "2. **sex**: jenis kelamin\n",
        "3. **cp**: chest pain type / jenis nyeri dada\n",
        "4. **trestbps(resting blood preasure)**: tekanan darah\n",
        "5. **chol (cholesterol)**: kolesterol serum dalam mg/dl\n",
        "6. **fbs** (fasting blood sugar):gula darah puasa > 120 mg/dl\n",
        "7. **restecg(Hasil elektrokardiografi)**: resting electrocardiographic results\n",
        "8. **thalach**: denyut jantung maksimum yang dicapai\n",
        "9. **exang (exercise induced angina)**: angina yang diinduksi oleh olahraga\n",
        "10. **oldpeak** : depresi ST yang disebabkan oleh olahrga relatif terhadap istirahat\n",
        "11. **slope**: Kemiringian segmen ST latihan puncak\n",
        "12. **ca(calculate artery)**: jumlah pembuluh darah utama yang diwarnai dengan flourosopi\n",
        "13. **thal**: Jenis kelainan thalassemia\n",
        "14. **condition**: kondisi kesehatan jantung\n",
        "\n"
      ],
      "metadata": {
        "id": "MA57Pgg8zGMD"
      }
    },
    {
      "cell_type": "code",
      "source": [
        "optimal_model = log_reg_tuned\n",
        "optimal_model.fit(X_train, y_train)\n",
        "\n",
        "\n",
        "features_dict = dict(zip(df.columns, list(optimal_model.coef_[0])))\n",
        "\n",
        "\n",
        "print(\"Feature Importance:\")\n",
        "for feature, importance in features_dict.items():\n",
        "    print(f\"{feature}: {importance:.4f}\")"
      ],
      "metadata": {
        "colab": {
          "base_uri": "https://localhost:8080/"
        },
        "id": "fbem_crcupTm",
        "outputId": "340be84b-58bc-4af7-a484-24f709514b8d"
      },
      "execution_count": null,
      "outputs": [
        {
          "output_type": "stream",
          "name": "stdout",
          "text": [
            "Feature Importance:\n",
            "age: -0.0375\n",
            "sex: 1.4140\n",
            "cp: 0.2302\n",
            "trestbps: 0.0249\n",
            "chol: 0.0071\n",
            "fbs: -0.8753\n",
            "restecg: 0.2664\n",
            "thalach: -0.0421\n",
            "exang: 0.4111\n",
            "oldpeak: 0.4741\n",
            "slope: 0.3257\n",
            "ca: 1.2672\n",
            "thal: 0.8152\n"
          ]
        }
      ]
    },
    {
      "cell_type": "code",
      "source": [
        "# Visualize feature importance with Plotly\n",
        "feature_df = pd.DataFrame(features_dict, index=[0])\n",
        "feature_df = feature_df.T.reset_index()\n",
        "feature_df.columns = ['Feature', 'Importance']\n",
        "\n",
        "fig = px.bar(feature_df, x='Feature', y='Importance', title=\"Feature Importance\")\n",
        "fig.update_layout(xaxis_title=\"Feature\", yaxis_title=\"Importance\", showlegend=False)\n",
        "fig.show()"
      ],
      "metadata": {
        "colab": {
          "base_uri": "https://localhost:8080/",
          "height": 542
        },
        "id": "PcvpGVAjxCyl",
        "outputId": "8b91bfe8-8dd8-4b1a-b6b3-6b3037ff9786"
      },
      "execution_count": null,
      "outputs": [
        {
          "output_type": "display_data",
          "data": {
            "text/html": [
              "<html>\n",
              "<head><meta charset=\"utf-8\" /></head>\n",
              "<body>\n",
              "    <div>            <script src=\"https://cdnjs.cloudflare.com/ajax/libs/mathjax/2.7.5/MathJax.js?config=TeX-AMS-MML_SVG\"></script><script type=\"text/javascript\">if (window.MathJax && window.MathJax.Hub && window.MathJax.Hub.Config) {window.MathJax.Hub.Config({SVG: {font: \"STIX-Web\"}});}</script>                <script type=\"text/javascript\">window.PlotlyConfig = {MathJaxConfig: 'local'};</script>\n",
              "        <script charset=\"utf-8\" src=\"https://cdn.plot.ly/plotly-2.24.1.min.js\"></script>                <div id=\"851c3830-c498-464b-a019-7754c20326ec\" class=\"plotly-graph-div\" style=\"height:525px; width:100%;\"></div>            <script type=\"text/javascript\">                                    window.PLOTLYENV=window.PLOTLYENV || {};                                    if (document.getElementById(\"851c3830-c498-464b-a019-7754c20326ec\")) {                    Plotly.newPlot(                        \"851c3830-c498-464b-a019-7754c20326ec\",                        [{\"alignmentgroup\":\"True\",\"hovertemplate\":\"Feature=%{x}\\u003cbr\\u003eImportance=%{y}\\u003cextra\\u003e\\u003c\\u002fextra\\u003e\",\"legendgroup\":\"\",\"marker\":{\"color\":\"#636efa\",\"pattern\":{\"shape\":\"\"}},\"name\":\"\",\"offsetgroup\":\"\",\"orientation\":\"v\",\"showlegend\":false,\"textposition\":\"auto\",\"x\":[\"age\",\"sex\",\"cp\",\"trestbps\",\"chol\",\"fbs\",\"restecg\",\"thalach\",\"exang\",\"oldpeak\",\"slope\",\"ca\",\"thal\"],\"xaxis\":\"x\",\"y\":[-0.037547011831062245,1.4140000621418711,0.23023932159421534,0.024872386990092653,0.007060514605426908,-0.8752756364745099,0.2663639393007296,-0.04206900170640787,0.41114956417727644,0.47409545161924754,0.3256996743310062,1.2672421803440173,0.8151658811356872],\"yaxis\":\"y\",\"type\":\"bar\"}],                        {\"template\":{\"data\":{\"histogram2dcontour\":[{\"type\":\"histogram2dcontour\",\"colorbar\":{\"outlinewidth\":0,\"ticks\":\"\"},\"colorscale\":[[0.0,\"#0d0887\"],[0.1111111111111111,\"#46039f\"],[0.2222222222222222,\"#7201a8\"],[0.3333333333333333,\"#9c179e\"],[0.4444444444444444,\"#bd3786\"],[0.5555555555555556,\"#d8576b\"],[0.6666666666666666,\"#ed7953\"],[0.7777777777777778,\"#fb9f3a\"],[0.8888888888888888,\"#fdca26\"],[1.0,\"#f0f921\"]]}],\"choropleth\":[{\"type\":\"choropleth\",\"colorbar\":{\"outlinewidth\":0,\"ticks\":\"\"}}],\"histogram2d\":[{\"type\":\"histogram2d\",\"colorbar\":{\"outlinewidth\":0,\"ticks\":\"\"},\"colorscale\":[[0.0,\"#0d0887\"],[0.1111111111111111,\"#46039f\"],[0.2222222222222222,\"#7201a8\"],[0.3333333333333333,\"#9c179e\"],[0.4444444444444444,\"#bd3786\"],[0.5555555555555556,\"#d8576b\"],[0.6666666666666666,\"#ed7953\"],[0.7777777777777778,\"#fb9f3a\"],[0.8888888888888888,\"#fdca26\"],[1.0,\"#f0f921\"]]}],\"heatmap\":[{\"type\":\"heatmap\",\"colorbar\":{\"outlinewidth\":0,\"ticks\":\"\"},\"colorscale\":[[0.0,\"#0d0887\"],[0.1111111111111111,\"#46039f\"],[0.2222222222222222,\"#7201a8\"],[0.3333333333333333,\"#9c179e\"],[0.4444444444444444,\"#bd3786\"],[0.5555555555555556,\"#d8576b\"],[0.6666666666666666,\"#ed7953\"],[0.7777777777777778,\"#fb9f3a\"],[0.8888888888888888,\"#fdca26\"],[1.0,\"#f0f921\"]]}],\"heatmapgl\":[{\"type\":\"heatmapgl\",\"colorbar\":{\"outlinewidth\":0,\"ticks\":\"\"},\"colorscale\":[[0.0,\"#0d0887\"],[0.1111111111111111,\"#46039f\"],[0.2222222222222222,\"#7201a8\"],[0.3333333333333333,\"#9c179e\"],[0.4444444444444444,\"#bd3786\"],[0.5555555555555556,\"#d8576b\"],[0.6666666666666666,\"#ed7953\"],[0.7777777777777778,\"#fb9f3a\"],[0.8888888888888888,\"#fdca26\"],[1.0,\"#f0f921\"]]}],\"contourcarpet\":[{\"type\":\"contourcarpet\",\"colorbar\":{\"outlinewidth\":0,\"ticks\":\"\"}}],\"contour\":[{\"type\":\"contour\",\"colorbar\":{\"outlinewidth\":0,\"ticks\":\"\"},\"colorscale\":[[0.0,\"#0d0887\"],[0.1111111111111111,\"#46039f\"],[0.2222222222222222,\"#7201a8\"],[0.3333333333333333,\"#9c179e\"],[0.4444444444444444,\"#bd3786\"],[0.5555555555555556,\"#d8576b\"],[0.6666666666666666,\"#ed7953\"],[0.7777777777777778,\"#fb9f3a\"],[0.8888888888888888,\"#fdca26\"],[1.0,\"#f0f921\"]]}],\"surface\":[{\"type\":\"surface\",\"colorbar\":{\"outlinewidth\":0,\"ticks\":\"\"},\"colorscale\":[[0.0,\"#0d0887\"],[0.1111111111111111,\"#46039f\"],[0.2222222222222222,\"#7201a8\"],[0.3333333333333333,\"#9c179e\"],[0.4444444444444444,\"#bd3786\"],[0.5555555555555556,\"#d8576b\"],[0.6666666666666666,\"#ed7953\"],[0.7777777777777778,\"#fb9f3a\"],[0.8888888888888888,\"#fdca26\"],[1.0,\"#f0f921\"]]}],\"mesh3d\":[{\"type\":\"mesh3d\",\"colorbar\":{\"outlinewidth\":0,\"ticks\":\"\"}}],\"scatter\":[{\"fillpattern\":{\"fillmode\":\"overlay\",\"size\":10,\"solidity\":0.2},\"type\":\"scatter\"}],\"parcoords\":[{\"type\":\"parcoords\",\"line\":{\"colorbar\":{\"outlinewidth\":0,\"ticks\":\"\"}}}],\"scatterpolargl\":[{\"type\":\"scatterpolargl\",\"marker\":{\"colorbar\":{\"outlinewidth\":0,\"ticks\":\"\"}}}],\"bar\":[{\"error_x\":{\"color\":\"#2a3f5f\"},\"error_y\":{\"color\":\"#2a3f5f\"},\"marker\":{\"line\":{\"color\":\"#E5ECF6\",\"width\":0.5},\"pattern\":{\"fillmode\":\"overlay\",\"size\":10,\"solidity\":0.2}},\"type\":\"bar\"}],\"scattergeo\":[{\"type\":\"scattergeo\",\"marker\":{\"colorbar\":{\"outlinewidth\":0,\"ticks\":\"\"}}}],\"scatterpolar\":[{\"type\":\"scatterpolar\",\"marker\":{\"colorbar\":{\"outlinewidth\":0,\"ticks\":\"\"}}}],\"histogram\":[{\"marker\":{\"pattern\":{\"fillmode\":\"overlay\",\"size\":10,\"solidity\":0.2}},\"type\":\"histogram\"}],\"scattergl\":[{\"type\":\"scattergl\",\"marker\":{\"colorbar\":{\"outlinewidth\":0,\"ticks\":\"\"}}}],\"scatter3d\":[{\"type\":\"scatter3d\",\"line\":{\"colorbar\":{\"outlinewidth\":0,\"ticks\":\"\"}},\"marker\":{\"colorbar\":{\"outlinewidth\":0,\"ticks\":\"\"}}}],\"scattermapbox\":[{\"type\":\"scattermapbox\",\"marker\":{\"colorbar\":{\"outlinewidth\":0,\"ticks\":\"\"}}}],\"scatterternary\":[{\"type\":\"scatterternary\",\"marker\":{\"colorbar\":{\"outlinewidth\":0,\"ticks\":\"\"}}}],\"scattercarpet\":[{\"type\":\"scattercarpet\",\"marker\":{\"colorbar\":{\"outlinewidth\":0,\"ticks\":\"\"}}}],\"carpet\":[{\"aaxis\":{\"endlinecolor\":\"#2a3f5f\",\"gridcolor\":\"white\",\"linecolor\":\"white\",\"minorgridcolor\":\"white\",\"startlinecolor\":\"#2a3f5f\"},\"baxis\":{\"endlinecolor\":\"#2a3f5f\",\"gridcolor\":\"white\",\"linecolor\":\"white\",\"minorgridcolor\":\"white\",\"startlinecolor\":\"#2a3f5f\"},\"type\":\"carpet\"}],\"table\":[{\"cells\":{\"fill\":{\"color\":\"#EBF0F8\"},\"line\":{\"color\":\"white\"}},\"header\":{\"fill\":{\"color\":\"#C8D4E3\"},\"line\":{\"color\":\"white\"}},\"type\":\"table\"}],\"barpolar\":[{\"marker\":{\"line\":{\"color\":\"#E5ECF6\",\"width\":0.5},\"pattern\":{\"fillmode\":\"overlay\",\"size\":10,\"solidity\":0.2}},\"type\":\"barpolar\"}],\"pie\":[{\"automargin\":true,\"type\":\"pie\"}]},\"layout\":{\"autotypenumbers\":\"strict\",\"colorway\":[\"#636efa\",\"#EF553B\",\"#00cc96\",\"#ab63fa\",\"#FFA15A\",\"#19d3f3\",\"#FF6692\",\"#B6E880\",\"#FF97FF\",\"#FECB52\"],\"font\":{\"color\":\"#2a3f5f\"},\"hovermode\":\"closest\",\"hoverlabel\":{\"align\":\"left\"},\"paper_bgcolor\":\"white\",\"plot_bgcolor\":\"#E5ECF6\",\"polar\":{\"bgcolor\":\"#E5ECF6\",\"angularaxis\":{\"gridcolor\":\"white\",\"linecolor\":\"white\",\"ticks\":\"\"},\"radialaxis\":{\"gridcolor\":\"white\",\"linecolor\":\"white\",\"ticks\":\"\"}},\"ternary\":{\"bgcolor\":\"#E5ECF6\",\"aaxis\":{\"gridcolor\":\"white\",\"linecolor\":\"white\",\"ticks\":\"\"},\"baxis\":{\"gridcolor\":\"white\",\"linecolor\":\"white\",\"ticks\":\"\"},\"caxis\":{\"gridcolor\":\"white\",\"linecolor\":\"white\",\"ticks\":\"\"}},\"coloraxis\":{\"colorbar\":{\"outlinewidth\":0,\"ticks\":\"\"}},\"colorscale\":{\"sequential\":[[0.0,\"#0d0887\"],[0.1111111111111111,\"#46039f\"],[0.2222222222222222,\"#7201a8\"],[0.3333333333333333,\"#9c179e\"],[0.4444444444444444,\"#bd3786\"],[0.5555555555555556,\"#d8576b\"],[0.6666666666666666,\"#ed7953\"],[0.7777777777777778,\"#fb9f3a\"],[0.8888888888888888,\"#fdca26\"],[1.0,\"#f0f921\"]],\"sequentialminus\":[[0.0,\"#0d0887\"],[0.1111111111111111,\"#46039f\"],[0.2222222222222222,\"#7201a8\"],[0.3333333333333333,\"#9c179e\"],[0.4444444444444444,\"#bd3786\"],[0.5555555555555556,\"#d8576b\"],[0.6666666666666666,\"#ed7953\"],[0.7777777777777778,\"#fb9f3a\"],[0.8888888888888888,\"#fdca26\"],[1.0,\"#f0f921\"]],\"diverging\":[[0,\"#8e0152\"],[0.1,\"#c51b7d\"],[0.2,\"#de77ae\"],[0.3,\"#f1b6da\"],[0.4,\"#fde0ef\"],[0.5,\"#f7f7f7\"],[0.6,\"#e6f5d0\"],[0.7,\"#b8e186\"],[0.8,\"#7fbc41\"],[0.9,\"#4d9221\"],[1,\"#276419\"]]},\"xaxis\":{\"gridcolor\":\"white\",\"linecolor\":\"white\",\"ticks\":\"\",\"title\":{\"standoff\":15},\"zerolinecolor\":\"white\",\"automargin\":true,\"zerolinewidth\":2},\"yaxis\":{\"gridcolor\":\"white\",\"linecolor\":\"white\",\"ticks\":\"\",\"title\":{\"standoff\":15},\"zerolinecolor\":\"white\",\"automargin\":true,\"zerolinewidth\":2},\"scene\":{\"xaxis\":{\"backgroundcolor\":\"#E5ECF6\",\"gridcolor\":\"white\",\"linecolor\":\"white\",\"showbackground\":true,\"ticks\":\"\",\"zerolinecolor\":\"white\",\"gridwidth\":2},\"yaxis\":{\"backgroundcolor\":\"#E5ECF6\",\"gridcolor\":\"white\",\"linecolor\":\"white\",\"showbackground\":true,\"ticks\":\"\",\"zerolinecolor\":\"white\",\"gridwidth\":2},\"zaxis\":{\"backgroundcolor\":\"#E5ECF6\",\"gridcolor\":\"white\",\"linecolor\":\"white\",\"showbackground\":true,\"ticks\":\"\",\"zerolinecolor\":\"white\",\"gridwidth\":2}},\"shapedefaults\":{\"line\":{\"color\":\"#2a3f5f\"}},\"annotationdefaults\":{\"arrowcolor\":\"#2a3f5f\",\"arrowhead\":0,\"arrowwidth\":1},\"geo\":{\"bgcolor\":\"white\",\"landcolor\":\"#E5ECF6\",\"subunitcolor\":\"white\",\"showland\":true,\"showlakes\":true,\"lakecolor\":\"white\"},\"title\":{\"x\":0.05},\"mapbox\":{\"style\":\"light\"}}},\"xaxis\":{\"anchor\":\"y\",\"domain\":[0.0,1.0],\"title\":{\"text\":\"Feature\"}},\"yaxis\":{\"anchor\":\"x\",\"domain\":[0.0,1.0],\"title\":{\"text\":\"Importance\"}},\"legend\":{\"tracegroupgap\":0},\"title\":{\"text\":\"Feature Importance\"},\"barmode\":\"relative\",\"showlegend\":false},                        {\"responsive\": true}                    ).then(function(){\n",
              "                            \n",
              "var gd = document.getElementById('851c3830-c498-464b-a019-7754c20326ec');\n",
              "var x = new MutationObserver(function (mutations, observer) {{\n",
              "        var display = window.getComputedStyle(gd).display;\n",
              "        if (!display || display === 'none') {{\n",
              "            console.log([gd, 'removed!']);\n",
              "            Plotly.purge(gd);\n",
              "            observer.disconnect();\n",
              "        }}\n",
              "}});\n",
              "\n",
              "// Listen for the removal of the full notebook cells\n",
              "var notebookContainer = gd.closest('#notebook-container');\n",
              "if (notebookContainer) {{\n",
              "    x.observe(notebookContainer, {childList: true});\n",
              "}}\n",
              "\n",
              "// Listen for the clearing of the current output cell\n",
              "var outputEl = gd.closest('.output');\n",
              "if (outputEl) {{\n",
              "    x.observe(outputEl, {childList: true});\n",
              "}}\n",
              "\n",
              "                        })                };                            </script>        </div>\n",
              "</body>\n",
              "</html>"
            ]
          },
          "metadata": {}
        }
      ]
    },
    {
      "cell_type": "markdown",
      "source": [
        "* Nilai Positif (> 0):\n",
        "\n",
        "  * Fitur dengan nilai importance positif menunjukkan bahwa peningkatan nilai fitur tersebut akan meningkatkan prediksi yang mendukung kelas atau nilai target yang lebih tinggi.\n",
        "  * Semakin tinggi nilai importance, semakin besar kontribusi fitur terhadap prediksi positif.\n",
        "\n",
        "* Nilai Negatif (< 0):\n",
        "\n",
        "  * Fitur dengan nilai importance negatif menunjukkan bahwa peningkatan nilai fitur tersebut akan menurunkan prediksi yang mendukung kelas atau nilai target yang lebih tinggi.\n",
        "  * Semakin rendah nilai importance, semakin besar kontribusi fitur terhadap prediksi negatif.\n",
        "\n",
        "* Nilai Dekat Nol (0):\n",
        "\n",
        "  * Fitur dengan nilai importance yang mendekati nol tidak memiliki pengaruh besar terhadap prediksi. Peningkatan atau penurunan nilai fitur ini hanya sedikit memengaruhi hasil prediksi."
      ],
      "metadata": {
        "id": "SzvF7t-_yG5E"
      }
    },
    {
      "cell_type": "markdown",
      "source": [
        "## 6 - Experimentation\n",
        "---\n",
        "Dengan penelitian ini, kita telah menjelajahi berbagai model machine learning untuk memprediksi penyakit jantung. Hasil evaluasi dan tuning hyperparameter menunjukkan bahwa model **Logistic Regression** muncul sebagai pilihan optimal, menampilkan kinerja yang konsisten.\n",
        "\n",
        "Analisis feature importance juga memberikan wawasan mendalam tentang variabel yang paling berpengaruh dalam prediksi penyakit jantung.\n",
        "\n",
        "Jika pencapaian metrik evaluasi pada model saat ini belum memenuhi target yang diinginkan, pertimbangkan beberapa strategi untuk meningkatkannya:\n",
        "\n",
        "* **Perolehan Data Tambahan dan Peningkatan Kualitas**:\n",
        "Pertimbangkan untuk mengumpulkan lebih banyak data jika memungkinkan dan memastikan kualitas data yang tinggi. Dataset yang lebih besar dan lebih representatif dapat membantu model mempelajari pola dengan lebih baik.\n",
        "\n",
        "* **Pertimbangkan Model yang lebih baik**:\n",
        "Evaluasi model-model unggul seperti CatBoost atau XGBoost. Model ini sering kali memiliki kemampuan pembelajaran yang lebih kuat dan dapat memberikan kinerja yang lebih baik, terutama dalam konteks dataset yang kompleks.\n",
        "\n",
        "* **Optimalkan Model Saat Ini**:\n",
        "Tinjau kembali model-model yang telah dibuat dan pertimbangkan untuk mengoptimalkan hyperparameter atau menggunakan teknik lainnya untuk meningkatkan kinerjanya. Mungkin ada ruang untuk peningkatan dengan penyesuaian yang lebih baik terhadap karakteristik khusus dataset.\n",
        "\n",
        "* **Explorasi Teknik Pemrosesan Data**:\n",
        "Periksa apakah terdapat potensi peningkatan melalui pemrosesan data tambahan, seperti pemilihan fitur yang lebih baik, normalisasi data, atau penanganan outlier. Terkadang, pengolahan data yang cermat dapat meningkatkan kualitas input untuk model.\n",
        "\n",
        "* **Pemilihan Metode Evaluasi yang Lebih Sesuai**:\n",
        "Mungkin perlu mempertimbangkan metode evaluasi yang lebih sesuai dengan sifat spesifik dari masalah yang dihadapi. Beberapa metrik evaluasi dapat memberikan wawasan yang lebih baik terhadap kualitas model tergantung pada karakteristik dataset.\n",
        "\n",
        "\n",
        "Jika model telah berhasil mencapai kinerja yang memuaskan dan siap untuk didistribusikan, langkah selanjutnya adalah melakukan ekspor model. Proses ini melibatkan penyimpanan parameter dan struktur model ke dalam format yang dapat diakses dan digunakan oleh orang lain, seperti file pickle atau format model yang diterima oleh framework tertentu. Dengan cara ini, model dapat dengan mudah dibagikan dan digunakan oleh pihak lain untuk keperluan praktis atau penelitian lebih lanjut.\n",
        "\n",
        "\n",
        "Keseluruhan, proyek ini memberikan kontribusi pada pemahaman kita tentang penerapan machine learning dalam konteks kesehatan kardiovaskular. Dengan penekanan pada interpretabilitas dan konsistensi kinerja, model yang dikembangkan dapat menjadi alat yang bermanfaat dalam mendukung diagnosis dan pengambilan keputusan klinis terkait penyakit jantung.\n",
        "\n",
        "\n",
        "![picture9](https://drive.google.com/uc?export=view&id=17gqRykmTTz9adsvGLdRCAF2zPC7GQYZY)\n",
        "\n"
      ],
      "metadata": {
        "id": "YzlJu5tx4B8s"
      }
    }
  ]
}